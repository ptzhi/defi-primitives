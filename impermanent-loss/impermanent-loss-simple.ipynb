{
 "cells": [
  {
   "cell_type": "code",
   "execution_count": 1,
   "id": "06282658-c660-4505-9088-4438f7b67f85",
   "metadata": {
    "tags": []
   },
   "outputs": [],
   "source": [
    "import numpy as np\n",
    "import pandas as pd\n",
    "import matplotlib.pyplot as plt\n",
    "import plotly.express as px\n",
    "import plotly.io as pio\n",
    "%matplotlib inline\n",
    "pio.renderers.default = \"plotly_mimetype+notebook_connected\""
   ]
  },
  {
   "cell_type": "markdown",
   "id": "80fd9401-cde7-4bec-8908-2e6fd1f237bb",
   "metadata": {
    "tags": []
   },
   "source": [
    "# Impermanent Loss for Simplified AMM\n",
    "\n",
    "Asset prices on DEXes can differ from CEXes due to different pricing mechanisms, presenting arbitrage opportunities. Post-arbitrage, the value of the pair held in a DEX pool can be lower than holding it off-chain. The percentage difference is known as \"impermanent loss\" (IL). We explain and model impermanent loss over a simplified AMM pool. \n",
    "\n",
    "## Background\n",
    "\n",
    "#### Constant Product\n",
    "DEXes, or decentralized exchanges, do not rely on order books to determine asset prices. Instead the largest DEXes such as Uniswap, Curve are AMMs (automated market makers) that rely on a constant product bonding curve, where two or more tokens are deposited into a pool and the price of each token depends on the ratio of their units denominated in the other. This ratio updates as tokens are swapped and liquidity is deposited/withdrawn.\n",
    "\n",
    "We plot the bonding curve of a simplified pool with following parameters:\n",
    "- 5 units of Token A\n",
    "- 5 units of Token B\n",
    "- constant product of 25\n",
    "- no fees "
   ]
  },
  {
   "cell_type": "code",
   "execution_count": 2,
   "id": "cbb6c044-ffb9-47fc-8af0-d21f0452db70",
   "metadata": {
    "tags": []
   },
   "outputs": [
    {
     "data": {
      "text/html": [
       "        <script type=\"text/javascript\">\n",
       "        window.PlotlyConfig = {MathJaxConfig: 'local'};\n",
       "        if (window.MathJax && window.MathJax.Hub && window.MathJax.Hub.Config) {window.MathJax.Hub.Config({SVG: {font: \"STIX-Web\"}});}\n",
       "        if (typeof require !== 'undefined') {\n",
       "        require.undef(\"plotly\");\n",
       "        requirejs.config({\n",
       "            paths: {\n",
       "                'plotly': ['https://cdn.plot.ly/plotly-2.18.0.min']\n",
       "            }\n",
       "        });\n",
       "        require(['plotly'], function(Plotly) {\n",
       "            window._Plotly = Plotly;\n",
       "        });\n",
       "        }\n",
       "        </script>\n",
       "        "
      ]
     },
     "metadata": {},
     "output_type": "display_data"
    },
    {
     "data": {
      "application/vnd.plotly.v1+json": {
       "config": {
        "plotlyServerURL": "https://plot.ly"
       },
       "data": [
        {
         "hovertemplate": "Token B units=%{x}<br>Token A units=%{y}<extra></extra>",
         "legendgroup": "",
         "marker": {
          "color": "#636efa",
          "symbol": "circle"
         },
         "mode": "markers",
         "name": "",
         "orientation": "v",
         "showlegend": false,
         "type": "scatter",
         "x": [
          1,
          1.1,
          1.2000000000000002,
          1.3000000000000003,
          1.4000000000000004,
          1.5000000000000004,
          1.6000000000000005,
          1.7000000000000006,
          1.8000000000000007,
          1.9000000000000008,
          2.000000000000001,
          2.100000000000001,
          2.200000000000001,
          2.300000000000001,
          2.4000000000000012,
          2.5000000000000013,
          2.6000000000000014,
          2.7000000000000015,
          2.8000000000000016,
          2.9000000000000017,
          3.0000000000000018,
          3.100000000000002,
          3.200000000000002,
          3.300000000000002,
          3.400000000000002,
          3.500000000000002,
          3.6000000000000023,
          3.7000000000000024,
          3.8000000000000025,
          3.9000000000000026,
          4.000000000000003,
          4.100000000000003,
          4.200000000000003,
          4.3000000000000025,
          4.400000000000003,
          4.5000000000000036,
          4.600000000000003,
          4.700000000000003,
          4.800000000000003,
          4.900000000000004,
          5.0000000000000036,
          5.100000000000003,
          5.200000000000004,
          5.300000000000004,
          5.400000000000004,
          5.5000000000000036,
          5.600000000000004,
          5.700000000000005,
          5.800000000000004,
          5.900000000000004,
          6.000000000000004,
          6.100000000000005,
          6.200000000000005,
          6.300000000000004,
          6.400000000000005,
          6.500000000000005,
          6.600000000000005,
          6.700000000000005,
          6.800000000000005,
          6.900000000000006,
          7.000000000000005,
          7.100000000000005,
          7.2000000000000055,
          7.300000000000006,
          7.400000000000006,
          7.500000000000005,
          7.600000000000006,
          7.700000000000006,
          7.800000000000006,
          7.900000000000006,
          8.000000000000007,
          8.100000000000007,
          8.200000000000006,
          8.300000000000006,
          8.400000000000006,
          8.500000000000007,
          8.600000000000007,
          8.700000000000006,
          8.800000000000008,
          8.900000000000007,
          9.000000000000007,
          9.100000000000007,
          9.200000000000006,
          9.300000000000008,
          9.400000000000007,
          9.500000000000007,
          9.600000000000009,
          9.700000000000008,
          9.800000000000008,
          9.900000000000007,
          10.000000000000007,
          10.100000000000009,
          10.200000000000008,
          10.300000000000008,
          10.40000000000001,
          10.500000000000009,
          10.600000000000009,
          10.700000000000008,
          10.800000000000008,
          10.90000000000001,
          11.000000000000009,
          11.100000000000009,
          11.20000000000001,
          11.30000000000001,
          11.40000000000001,
          11.500000000000009,
          11.600000000000009,
          11.70000000000001,
          11.80000000000001,
          11.90000000000001,
          12.00000000000001,
          12.10000000000001,
          12.20000000000001,
          12.30000000000001,
          12.40000000000001,
          12.50000000000001,
          12.60000000000001,
          12.70000000000001,
          12.800000000000011,
          12.900000000000011,
          13.00000000000001,
          13.10000000000001,
          13.20000000000001,
          13.300000000000011,
          13.400000000000011,
          13.50000000000001,
          13.600000000000012,
          13.700000000000012,
          13.800000000000011,
          13.900000000000011,
          14.00000000000001,
          14.100000000000012,
          14.200000000000012,
          14.300000000000011,
          14.400000000000013,
          14.500000000000012,
          14.600000000000012,
          14.700000000000012,
          14.800000000000011,
          14.900000000000013,
          15.000000000000012,
          15.100000000000012,
          15.200000000000014,
          15.300000000000013,
          15.400000000000013,
          15.500000000000012,
          15.600000000000012,
          15.700000000000014,
          15.800000000000013,
          15.900000000000013,
          16.000000000000014,
          16.100000000000016,
          16.200000000000014,
          16.30000000000001,
          16.400000000000013,
          16.500000000000014,
          16.600000000000016,
          16.700000000000014,
          16.800000000000015,
          16.900000000000013,
          17.000000000000014,
          17.100000000000016,
          17.200000000000014,
          17.300000000000015,
          17.400000000000013,
          17.500000000000014,
          17.600000000000016,
          17.700000000000014,
          17.800000000000015,
          17.900000000000016,
          18.000000000000014,
          18.100000000000016,
          18.200000000000017,
          18.300000000000015,
          18.400000000000016,
          18.500000000000014,
          18.600000000000016,
          18.700000000000017,
          18.800000000000015,
          18.900000000000016,
          19.000000000000014,
          19.100000000000016,
          19.200000000000017,
          19.300000000000015,
          19.400000000000016,
          19.500000000000018,
          19.600000000000016,
          19.700000000000017,
          19.80000000000002,
          19.900000000000016,
          20.000000000000018,
          20.100000000000016,
          20.200000000000017,
          20.30000000000002,
          20.400000000000016,
          20.500000000000018,
          20.600000000000016,
          20.700000000000017,
          20.80000000000002,
          20.900000000000016,
          21.000000000000018,
          21.10000000000002,
          21.200000000000017,
          21.30000000000002,
          21.40000000000002,
          21.500000000000018,
          21.60000000000002,
          21.700000000000017,
          21.80000000000002,
          21.90000000000002,
          22.000000000000018,
          22.10000000000002,
          22.200000000000017,
          22.30000000000002,
          22.40000000000002,
          22.500000000000018,
          22.60000000000002,
          22.70000000000002,
          22.80000000000002,
          22.90000000000002,
          23.00000000000002,
          23.10000000000002,
          23.20000000000002,
          23.30000000000002,
          23.40000000000002,
          23.50000000000002,
          23.60000000000002,
          23.70000000000002,
          23.80000000000002,
          23.90000000000002,
          24.00000000000002,
          24.10000000000002,
          24.20000000000002,
          24.300000000000022,
          24.40000000000002,
          24.50000000000002,
          24.600000000000023,
          24.70000000000002,
          24.800000000000022,
          24.90000000000002,
          25.00000000000002
         ],
         "xaxis": "x",
         "y": [
          25,
          22.727272727272727,
          20.83333333333333,
          19.230769230769226,
          17.857142857142854,
          16.66666666666666,
          15.624999999999995,
          14.70588235294117,
          13.888888888888884,
          13.157894736842099,
          12.499999999999995,
          11.9047619047619,
          11.363636363636358,
          10.8695652173913,
          10.41666666666666,
          9.999999999999995,
          9.61538461538461,
          9.259259259259254,
          8.928571428571423,
          8.62068965517241,
          8.333333333333329,
          8.064516129032253,
          7.812499999999996,
          7.575757575757571,
          7.352941176470583,
          7.142857142857138,
          6.94444444444444,
          6.756756756756753,
          6.578947368421049,
          6.410256410256406,
          6.249999999999996,
          6.097560975609752,
          5.952380952380948,
          5.81395348837209,
          5.681818181818178,
          5.555555555555551,
          5.434782608695649,
          5.319148936170209,
          5.2083333333333295,
          5.102040816326527,
          4.9999999999999964,
          4.901960784313722,
          4.807692307692304,
          4.7169811320754675,
          4.629629629629626,
          4.545454545454542,
          4.464285714285711,
          4.3859649122806985,
          4.310344827586204,
          4.237288135593218,
          4.166666666666663,
          4.098360655737702,
          4.032258064516126,
          3.9682539682539657,
          3.906249999999997,
          3.846153846153843,
          3.787878787878785,
          3.731343283582087,
          3.6764705882352913,
          3.6231884057970984,
          3.5714285714285685,
          3.521126760563378,
          3.4722222222222197,
          3.4246575342465726,
          3.378378378378376,
          3.333333333333331,
          3.289473684210524,
          3.246753246753244,
          3.2051282051282026,
          3.1645569620253142,
          3.1249999999999973,
          3.086419753086417,
          3.048780487804876,
          3.0120481927710823,
          2.976190476190474,
          2.941176470588233,
          2.906976744186044,
          2.8735632183908026,
          2.8409090909090886,
          2.8089887640449414,
          2.7777777777777755,
          2.747252747252745,
          2.7173913043478244,
          2.6881720430107503,
          2.659574468085104,
          2.631578947368419,
          2.6041666666666643,
          2.577319587628864,
          2.5510204081632635,
          2.5252525252525233,
          2.4999999999999982,
          2.475247524752473,
          2.4509803921568607,
          2.4271844660194155,
          2.4038461538461515,
          2.380952380952379,
          2.3584905660377338,
          2.3364485981308394,
          2.314814814814813,
          2.2935779816513744,
          2.2727272727272707,
          2.2522522522522506,
          2.232142857142855,
          2.2123893805309716,
          2.1929824561403493,
          2.173913043478259,
          2.155172413793102,
          2.136752136752135,
          2.1186440677966085,
          2.100840336134452,
          2.0833333333333317,
          2.0661157024793373,
          2.049180327868851,
          2.0325203252032504,
          2.016129032258063,
          1.9999999999999982,
          1.9841269841269824,
          1.9685039370078725,
          1.9531249999999982,
          1.9379844961240293,
          1.9230769230769216,
          1.908396946564884,
          1.8939393939393925,
          1.8796992481202992,
          1.8656716417910433,
          1.8518518518518503,
          1.8382352941176454,
          1.8248175182481736,
          1.8115942028985492,
          1.7985611510791353,
          1.7857142857142843,
          1.7730496453900695,
          1.7605633802816887,
          1.7482517482517468,
          1.7361111111111096,
          1.7241379310344813,
          1.7123287671232863,
          1.700680272108842,
          1.689189189189188,
          1.677852348993287,
          1.6666666666666652,
          1.6556291390728464,
          1.6447368421052617,
          1.6339869281045738,
          1.623376623376622,
          1.6129032258064504,
          1.6025641025641013,
          1.5923566878980877,
          1.582278481012657,
          1.572327044025156,
          1.5624999999999987,
          1.552795031055899,
          1.5432098765432085,
          1.5337423312883425,
          1.524390243902438,
          1.5151515151515138,
          1.5060240963855407,
          1.4970059880239508,
          1.4880952380952368,
          1.4792899408284013,
          1.4705882352941164,
          1.461988304093566,
          1.453488372093022,
          1.4450867052023109,
          1.4367816091954013,
          1.4285714285714275,
          1.4204545454545443,
          1.4124293785310724,
          1.4044943820224707,
          1.396648044692736,
          1.3888888888888877,
          1.3812154696132586,
          1.3736263736263723,
          1.3661202185792338,
          1.3586956521739117,
          1.3513513513513502,
          1.3440860215053752,
          1.3368983957219238,
          1.329787234042552,
          1.3227513227513217,
          1.3157894736842095,
          1.3089005235602083,
          1.3020833333333321,
          1.295336787564766,
          1.288659793814432,
          1.2820512820512808,
          1.2755102040816317,
          1.2690355329949228,
          1.2626262626262614,
          1.2562814070351749,
          1.249999999999999,
          1.2437810945273622,
          1.2376237623762365,
          1.231527093596058,
          1.2254901960784303,
          1.21951219512195,
          1.2135922330097078,
          1.2077294685990327,
          1.2019230769230758,
          1.1961722488038269,
          1.1904761904761896,
          1.1848341232227477,
          1.1792452830188669,
          1.1737089201877924,
          1.1682242990654195,
          1.1627906976744176,
          1.1574074074074063,
          1.152073732718893,
          1.1467889908256872,
          1.141552511415524,
          1.1363636363636354,
          1.1312217194570127,
          1.1261261261261253,
          1.1210762331838555,
          1.1160714285714275,
          1.1111111111111103,
          1.1061946902654858,
          1.1013215859030827,
          1.0964912280701746,
          1.091703056768558,
          1.0869565217391295,
          1.0822510822510814,
          1.0775862068965507,
          1.0729613733905572,
          1.0683760683760675,
          1.0638297872340416,
          1.0593220338983043,
          1.0548523206751046,
          1.050420168067226,
          1.0460251046025095,
          1.0416666666666659,
          1.0373443983402482,
          1.0330578512396686,
          1.028806584362139,
          1.0245901639344255,
          1.0204081632653053,
          1.016260162601625,
          1.0121457489878534,
          1.0080645161290314,
          1.0040160642570273,
          0.9999999999999991
         ],
         "yaxis": "y"
        }
       ],
       "layout": {
        "height": 600,
        "legend": {
         "tracegroupgap": 0
        },
        "template": {
         "data": {
          "bar": [
           {
            "error_x": {
             "color": "#2a3f5f"
            },
            "error_y": {
             "color": "#2a3f5f"
            },
            "marker": {
             "line": {
              "color": "#E5ECF6",
              "width": 0.5
             },
             "pattern": {
              "fillmode": "overlay",
              "size": 10,
              "solidity": 0.2
             }
            },
            "type": "bar"
           }
          ],
          "barpolar": [
           {
            "marker": {
             "line": {
              "color": "#E5ECF6",
              "width": 0.5
             },
             "pattern": {
              "fillmode": "overlay",
              "size": 10,
              "solidity": 0.2
             }
            },
            "type": "barpolar"
           }
          ],
          "carpet": [
           {
            "aaxis": {
             "endlinecolor": "#2a3f5f",
             "gridcolor": "white",
             "linecolor": "white",
             "minorgridcolor": "white",
             "startlinecolor": "#2a3f5f"
            },
            "baxis": {
             "endlinecolor": "#2a3f5f",
             "gridcolor": "white",
             "linecolor": "white",
             "minorgridcolor": "white",
             "startlinecolor": "#2a3f5f"
            },
            "type": "carpet"
           }
          ],
          "choropleth": [
           {
            "colorbar": {
             "outlinewidth": 0,
             "ticks": ""
            },
            "type": "choropleth"
           }
          ],
          "contour": [
           {
            "colorbar": {
             "outlinewidth": 0,
             "ticks": ""
            },
            "colorscale": [
             [
              0,
              "#0d0887"
             ],
             [
              0.1111111111111111,
              "#46039f"
             ],
             [
              0.2222222222222222,
              "#7201a8"
             ],
             [
              0.3333333333333333,
              "#9c179e"
             ],
             [
              0.4444444444444444,
              "#bd3786"
             ],
             [
              0.5555555555555556,
              "#d8576b"
             ],
             [
              0.6666666666666666,
              "#ed7953"
             ],
             [
              0.7777777777777778,
              "#fb9f3a"
             ],
             [
              0.8888888888888888,
              "#fdca26"
             ],
             [
              1,
              "#f0f921"
             ]
            ],
            "type": "contour"
           }
          ],
          "contourcarpet": [
           {
            "colorbar": {
             "outlinewidth": 0,
             "ticks": ""
            },
            "type": "contourcarpet"
           }
          ],
          "heatmap": [
           {
            "colorbar": {
             "outlinewidth": 0,
             "ticks": ""
            },
            "colorscale": [
             [
              0,
              "#0d0887"
             ],
             [
              0.1111111111111111,
              "#46039f"
             ],
             [
              0.2222222222222222,
              "#7201a8"
             ],
             [
              0.3333333333333333,
              "#9c179e"
             ],
             [
              0.4444444444444444,
              "#bd3786"
             ],
             [
              0.5555555555555556,
              "#d8576b"
             ],
             [
              0.6666666666666666,
              "#ed7953"
             ],
             [
              0.7777777777777778,
              "#fb9f3a"
             ],
             [
              0.8888888888888888,
              "#fdca26"
             ],
             [
              1,
              "#f0f921"
             ]
            ],
            "type": "heatmap"
           }
          ],
          "heatmapgl": [
           {
            "colorbar": {
             "outlinewidth": 0,
             "ticks": ""
            },
            "colorscale": [
             [
              0,
              "#0d0887"
             ],
             [
              0.1111111111111111,
              "#46039f"
             ],
             [
              0.2222222222222222,
              "#7201a8"
             ],
             [
              0.3333333333333333,
              "#9c179e"
             ],
             [
              0.4444444444444444,
              "#bd3786"
             ],
             [
              0.5555555555555556,
              "#d8576b"
             ],
             [
              0.6666666666666666,
              "#ed7953"
             ],
             [
              0.7777777777777778,
              "#fb9f3a"
             ],
             [
              0.8888888888888888,
              "#fdca26"
             ],
             [
              1,
              "#f0f921"
             ]
            ],
            "type": "heatmapgl"
           }
          ],
          "histogram": [
           {
            "marker": {
             "pattern": {
              "fillmode": "overlay",
              "size": 10,
              "solidity": 0.2
             }
            },
            "type": "histogram"
           }
          ],
          "histogram2d": [
           {
            "colorbar": {
             "outlinewidth": 0,
             "ticks": ""
            },
            "colorscale": [
             [
              0,
              "#0d0887"
             ],
             [
              0.1111111111111111,
              "#46039f"
             ],
             [
              0.2222222222222222,
              "#7201a8"
             ],
             [
              0.3333333333333333,
              "#9c179e"
             ],
             [
              0.4444444444444444,
              "#bd3786"
             ],
             [
              0.5555555555555556,
              "#d8576b"
             ],
             [
              0.6666666666666666,
              "#ed7953"
             ],
             [
              0.7777777777777778,
              "#fb9f3a"
             ],
             [
              0.8888888888888888,
              "#fdca26"
             ],
             [
              1,
              "#f0f921"
             ]
            ],
            "type": "histogram2d"
           }
          ],
          "histogram2dcontour": [
           {
            "colorbar": {
             "outlinewidth": 0,
             "ticks": ""
            },
            "colorscale": [
             [
              0,
              "#0d0887"
             ],
             [
              0.1111111111111111,
              "#46039f"
             ],
             [
              0.2222222222222222,
              "#7201a8"
             ],
             [
              0.3333333333333333,
              "#9c179e"
             ],
             [
              0.4444444444444444,
              "#bd3786"
             ],
             [
              0.5555555555555556,
              "#d8576b"
             ],
             [
              0.6666666666666666,
              "#ed7953"
             ],
             [
              0.7777777777777778,
              "#fb9f3a"
             ],
             [
              0.8888888888888888,
              "#fdca26"
             ],
             [
              1,
              "#f0f921"
             ]
            ],
            "type": "histogram2dcontour"
           }
          ],
          "mesh3d": [
           {
            "colorbar": {
             "outlinewidth": 0,
             "ticks": ""
            },
            "type": "mesh3d"
           }
          ],
          "parcoords": [
           {
            "line": {
             "colorbar": {
              "outlinewidth": 0,
              "ticks": ""
             }
            },
            "type": "parcoords"
           }
          ],
          "pie": [
           {
            "automargin": true,
            "type": "pie"
           }
          ],
          "scatter": [
           {
            "fillpattern": {
             "fillmode": "overlay",
             "size": 10,
             "solidity": 0.2
            },
            "type": "scatter"
           }
          ],
          "scatter3d": [
           {
            "line": {
             "colorbar": {
              "outlinewidth": 0,
              "ticks": ""
             }
            },
            "marker": {
             "colorbar": {
              "outlinewidth": 0,
              "ticks": ""
             }
            },
            "type": "scatter3d"
           }
          ],
          "scattercarpet": [
           {
            "marker": {
             "colorbar": {
              "outlinewidth": 0,
              "ticks": ""
             }
            },
            "type": "scattercarpet"
           }
          ],
          "scattergeo": [
           {
            "marker": {
             "colorbar": {
              "outlinewidth": 0,
              "ticks": ""
             }
            },
            "type": "scattergeo"
           }
          ],
          "scattergl": [
           {
            "marker": {
             "colorbar": {
              "outlinewidth": 0,
              "ticks": ""
             }
            },
            "type": "scattergl"
           }
          ],
          "scattermapbox": [
           {
            "marker": {
             "colorbar": {
              "outlinewidth": 0,
              "ticks": ""
             }
            },
            "type": "scattermapbox"
           }
          ],
          "scatterpolar": [
           {
            "marker": {
             "colorbar": {
              "outlinewidth": 0,
              "ticks": ""
             }
            },
            "type": "scatterpolar"
           }
          ],
          "scatterpolargl": [
           {
            "marker": {
             "colorbar": {
              "outlinewidth": 0,
              "ticks": ""
             }
            },
            "type": "scatterpolargl"
           }
          ],
          "scatterternary": [
           {
            "marker": {
             "colorbar": {
              "outlinewidth": 0,
              "ticks": ""
             }
            },
            "type": "scatterternary"
           }
          ],
          "surface": [
           {
            "colorbar": {
             "outlinewidth": 0,
             "ticks": ""
            },
            "colorscale": [
             [
              0,
              "#0d0887"
             ],
             [
              0.1111111111111111,
              "#46039f"
             ],
             [
              0.2222222222222222,
              "#7201a8"
             ],
             [
              0.3333333333333333,
              "#9c179e"
             ],
             [
              0.4444444444444444,
              "#bd3786"
             ],
             [
              0.5555555555555556,
              "#d8576b"
             ],
             [
              0.6666666666666666,
              "#ed7953"
             ],
             [
              0.7777777777777778,
              "#fb9f3a"
             ],
             [
              0.8888888888888888,
              "#fdca26"
             ],
             [
              1,
              "#f0f921"
             ]
            ],
            "type": "surface"
           }
          ],
          "table": [
           {
            "cells": {
             "fill": {
              "color": "#EBF0F8"
             },
             "line": {
              "color": "white"
             }
            },
            "header": {
             "fill": {
              "color": "#C8D4E3"
             },
             "line": {
              "color": "white"
             }
            },
            "type": "table"
           }
          ]
         },
         "layout": {
          "annotationdefaults": {
           "arrowcolor": "#2a3f5f",
           "arrowhead": 0,
           "arrowwidth": 1
          },
          "autotypenumbers": "strict",
          "coloraxis": {
           "colorbar": {
            "outlinewidth": 0,
            "ticks": ""
           }
          },
          "colorscale": {
           "diverging": [
            [
             0,
             "#8e0152"
            ],
            [
             0.1,
             "#c51b7d"
            ],
            [
             0.2,
             "#de77ae"
            ],
            [
             0.3,
             "#f1b6da"
            ],
            [
             0.4,
             "#fde0ef"
            ],
            [
             0.5,
             "#f7f7f7"
            ],
            [
             0.6,
             "#e6f5d0"
            ],
            [
             0.7,
             "#b8e186"
            ],
            [
             0.8,
             "#7fbc41"
            ],
            [
             0.9,
             "#4d9221"
            ],
            [
             1,
             "#276419"
            ]
           ],
           "sequential": [
            [
             0,
             "#0d0887"
            ],
            [
             0.1111111111111111,
             "#46039f"
            ],
            [
             0.2222222222222222,
             "#7201a8"
            ],
            [
             0.3333333333333333,
             "#9c179e"
            ],
            [
             0.4444444444444444,
             "#bd3786"
            ],
            [
             0.5555555555555556,
             "#d8576b"
            ],
            [
             0.6666666666666666,
             "#ed7953"
            ],
            [
             0.7777777777777778,
             "#fb9f3a"
            ],
            [
             0.8888888888888888,
             "#fdca26"
            ],
            [
             1,
             "#f0f921"
            ]
           ],
           "sequentialminus": [
            [
             0,
             "#0d0887"
            ],
            [
             0.1111111111111111,
             "#46039f"
            ],
            [
             0.2222222222222222,
             "#7201a8"
            ],
            [
             0.3333333333333333,
             "#9c179e"
            ],
            [
             0.4444444444444444,
             "#bd3786"
            ],
            [
             0.5555555555555556,
             "#d8576b"
            ],
            [
             0.6666666666666666,
             "#ed7953"
            ],
            [
             0.7777777777777778,
             "#fb9f3a"
            ],
            [
             0.8888888888888888,
             "#fdca26"
            ],
            [
             1,
             "#f0f921"
            ]
           ]
          },
          "colorway": [
           "#636efa",
           "#EF553B",
           "#00cc96",
           "#ab63fa",
           "#FFA15A",
           "#19d3f3",
           "#FF6692",
           "#B6E880",
           "#FF97FF",
           "#FECB52"
          ],
          "font": {
           "color": "#2a3f5f"
          },
          "geo": {
           "bgcolor": "white",
           "lakecolor": "white",
           "landcolor": "#E5ECF6",
           "showlakes": true,
           "showland": true,
           "subunitcolor": "white"
          },
          "hoverlabel": {
           "align": "left"
          },
          "hovermode": "closest",
          "mapbox": {
           "style": "light"
          },
          "paper_bgcolor": "white",
          "plot_bgcolor": "#E5ECF6",
          "polar": {
           "angularaxis": {
            "gridcolor": "white",
            "linecolor": "white",
            "ticks": ""
           },
           "bgcolor": "#E5ECF6",
           "radialaxis": {
            "gridcolor": "white",
            "linecolor": "white",
            "ticks": ""
           }
          },
          "scene": {
           "xaxis": {
            "backgroundcolor": "#E5ECF6",
            "gridcolor": "white",
            "gridwidth": 2,
            "linecolor": "white",
            "showbackground": true,
            "ticks": "",
            "zerolinecolor": "white"
           },
           "yaxis": {
            "backgroundcolor": "#E5ECF6",
            "gridcolor": "white",
            "gridwidth": 2,
            "linecolor": "white",
            "showbackground": true,
            "ticks": "",
            "zerolinecolor": "white"
           },
           "zaxis": {
            "backgroundcolor": "#E5ECF6",
            "gridcolor": "white",
            "gridwidth": 2,
            "linecolor": "white",
            "showbackground": true,
            "ticks": "",
            "zerolinecolor": "white"
           }
          },
          "shapedefaults": {
           "line": {
            "color": "#2a3f5f"
           }
          },
          "ternary": {
           "aaxis": {
            "gridcolor": "white",
            "linecolor": "white",
            "ticks": ""
           },
           "baxis": {
            "gridcolor": "white",
            "linecolor": "white",
            "ticks": ""
           },
           "bgcolor": "#E5ECF6",
           "caxis": {
            "gridcolor": "white",
            "linecolor": "white",
            "ticks": ""
           }
          },
          "title": {
           "x": 0.05
          },
          "xaxis": {
           "automargin": true,
           "gridcolor": "white",
           "linecolor": "white",
           "ticks": "",
           "title": {
            "standoff": 15
           },
           "zerolinecolor": "white",
           "zerolinewidth": 2
          },
          "yaxis": {
           "automargin": true,
           "gridcolor": "white",
           "linecolor": "white",
           "ticks": "",
           "title": {
            "standoff": 15
           },
           "zerolinecolor": "white",
           "zerolinewidth": 2
          }
         }
        },
        "title": {
         "text": "bonding curve, k = 25"
        },
        "width": 1000,
        "xaxis": {
         "anchor": "y",
         "autorange": true,
         "domain": [
          0,
          1
         ],
         "range": [
          -0.4669338677354722,
          26.466933867735495
         ],
         "title": {
          "text": "Token B units"
         },
         "type": "linear"
        },
        "yaxis": {
         "anchor": "x",
         "autorange": true,
         "domain": [
          0,
          1
         ],
         "range": [
          -0.603238866396762,
          26.60323886639676
         ],
         "title": {
          "text": "Token A units"
         },
         "type": "linear"
        }
       }
      },
      "image/png": "[encoded data removed]",
      "text/html": [
       "<div>                            <div id=\"d2229ea1-f31a-4a79-a832-dda5fac21c5e\" class=\"plotly-graph-div\" style=\"height:600px; width:1000px;\"></div>            <script type=\"text/javascript\">                require([\"plotly\"], function(Plotly) {                    window.PLOTLYENV=window.PLOTLYENV || {};                                    if (document.getElementById(\"d2229ea1-f31a-4a79-a832-dda5fac21c5e\")) {                    Plotly.newPlot(                        \"d2229ea1-f31a-4a79-a832-dda5fac21c5e\",                        [{\"hovertemplate\":\"Token B units=%{x}<br>Token A units=%{y}<extra></extra>\",\"legendgroup\":\"\",\"marker\":{\"color\":\"#636efa\",\"symbol\":\"circle\"},\"mode\":\"markers\",\"name\":\"\",\"orientation\":\"v\",\"showlegend\":false,\"x\":[1.0,1.1,1.2000000000000002,1.3000000000000003,1.4000000000000004,1.5000000000000004,1.6000000000000005,1.7000000000000006,1.8000000000000007,1.9000000000000008,2.000000000000001,2.100000000000001,2.200000000000001,2.300000000000001,2.4000000000000012,2.5000000000000013,2.6000000000000014,2.7000000000000015,2.8000000000000016,2.9000000000000017,3.0000000000000018,3.100000000000002,3.200000000000002,3.300000000000002,3.400000000000002,3.500000000000002,3.6000000000000023,3.7000000000000024,3.8000000000000025,3.9000000000000026,4.000000000000003,4.100000000000003,4.200000000000003,4.3000000000000025,4.400000000000003,4.5000000000000036,4.600000000000003,4.700000000000003,4.800000000000003,4.900000000000004,5.0000000000000036,5.100000000000003,5.200000000000004,5.300000000000004,5.400000000000004,5.5000000000000036,5.600000000000004,5.700000000000005,5.800000000000004,5.900000000000004,6.000000000000004,6.100000000000005,6.200000000000005,6.300000000000004,6.400000000000005,6.500000000000005,6.600000000000005,6.700000000000005,6.800000000000005,6.900000000000006,7.000000000000005,7.100000000000005,7.2000000000000055,7.300000000000006,7.400000000000006,7.500000000000005,7.600000000000006,7.700000000000006,7.800000000000006,7.900000000000006,8.000000000000007,8.100000000000007,8.200000000000006,8.300000000000006,8.400000000000006,8.500000000000007,8.600000000000007,8.700000000000006,8.800000000000008,8.900000000000007,9.000000000000007,9.100000000000007,9.200000000000006,9.300000000000008,9.400000000000007,9.500000000000007,9.600000000000009,9.700000000000008,9.800000000000008,9.900000000000007,10.000000000000007,10.100000000000009,10.200000000000008,10.300000000000008,10.40000000000001,10.500000000000009,10.600000000000009,10.700000000000008,10.800000000000008,10.90000000000001,11.000000000000009,11.100000000000009,11.20000000000001,11.30000000000001,11.40000000000001,11.500000000000009,11.600000000000009,11.70000000000001,11.80000000000001,11.90000000000001,12.00000000000001,12.10000000000001,12.20000000000001,12.30000000000001,12.40000000000001,12.50000000000001,12.60000000000001,12.70000000000001,12.800000000000011,12.900000000000011,13.00000000000001,13.10000000000001,13.20000000000001,13.300000000000011,13.400000000000011,13.50000000000001,13.600000000000012,13.700000000000012,13.800000000000011,13.900000000000011,14.00000000000001,14.100000000000012,14.200000000000012,14.300000000000011,14.400000000000013,14.500000000000012,14.600000000000012,14.700000000000012,14.800000000000011,14.900000000000013,15.000000000000012,15.100000000000012,15.200000000000014,15.300000000000013,15.400000000000013,15.500000000000012,15.600000000000012,15.700000000000014,15.800000000000013,15.900000000000013,16.000000000000014,16.100000000000016,16.200000000000014,16.30000000000001,16.400000000000013,16.500000000000014,16.600000000000016,16.700000000000014,16.800000000000015,16.900000000000013,17.000000000000014,17.100000000000016,17.200000000000014,17.300000000000015,17.400000000000013,17.500000000000014,17.600000000000016,17.700000000000014,17.800000000000015,17.900000000000016,18.000000000000014,18.100000000000016,18.200000000000017,18.300000000000015,18.400000000000016,18.500000000000014,18.600000000000016,18.700000000000017,18.800000000000015,18.900000000000016,19.000000000000014,19.100000000000016,19.200000000000017,19.300000000000015,19.400000000000016,19.500000000000018,19.600000000000016,19.700000000000017,19.80000000000002,19.900000000000016,20.000000000000018,20.100000000000016,20.200000000000017,20.30000000000002,20.400000000000016,20.500000000000018,20.600000000000016,20.700000000000017,20.80000000000002,20.900000000000016,21.000000000000018,21.10000000000002,21.200000000000017,21.30000000000002,21.40000000000002,21.500000000000018,21.60000000000002,21.700000000000017,21.80000000000002,21.90000000000002,22.000000000000018,22.10000000000002,22.200000000000017,22.30000000000002,22.40000000000002,22.500000000000018,22.60000000000002,22.70000000000002,22.80000000000002,22.90000000000002,23.00000000000002,23.10000000000002,23.20000000000002,23.30000000000002,23.40000000000002,23.50000000000002,23.60000000000002,23.70000000000002,23.80000000000002,23.90000000000002,24.00000000000002,24.10000000000002,24.20000000000002,24.300000000000022,24.40000000000002,24.50000000000002,24.600000000000023,24.70000000000002,24.800000000000022,24.90000000000002,25.00000000000002],\"xaxis\":\"x\",\"y\":[25.0,22.727272727272727,20.83333333333333,19.230769230769226,17.857142857142854,16.66666666666666,15.624999999999995,14.70588235294117,13.888888888888884,13.157894736842099,12.499999999999995,11.9047619047619,11.363636363636358,10.8695652173913,10.41666666666666,9.999999999999995,9.61538461538461,9.259259259259254,8.928571428571423,8.62068965517241,8.333333333333329,8.064516129032253,7.812499999999996,7.575757575757571,7.352941176470583,7.142857142857138,6.94444444444444,6.756756756756753,6.578947368421049,6.410256410256406,6.249999999999996,6.097560975609752,5.952380952380948,5.81395348837209,5.681818181818178,5.555555555555551,5.434782608695649,5.319148936170209,5.2083333333333295,5.102040816326527,4.9999999999999964,4.901960784313722,4.807692307692304,4.7169811320754675,4.629629629629626,4.545454545454542,4.464285714285711,4.3859649122806985,4.310344827586204,4.237288135593218,4.166666666666663,4.098360655737702,4.032258064516126,3.9682539682539657,3.906249999999997,3.846153846153843,3.787878787878785,3.731343283582087,3.6764705882352913,3.6231884057970984,3.5714285714285685,3.521126760563378,3.4722222222222197,3.4246575342465726,3.378378378378376,3.333333333333331,3.289473684210524,3.246753246753244,3.2051282051282026,3.1645569620253142,3.1249999999999973,3.086419753086417,3.048780487804876,3.0120481927710823,2.976190476190474,2.941176470588233,2.906976744186044,2.8735632183908026,2.8409090909090886,2.8089887640449414,2.7777777777777755,2.747252747252745,2.7173913043478244,2.6881720430107503,2.659574468085104,2.631578947368419,2.6041666666666643,2.577319587628864,2.5510204081632635,2.5252525252525233,2.4999999999999982,2.475247524752473,2.4509803921568607,2.4271844660194155,2.4038461538461515,2.380952380952379,2.3584905660377338,2.3364485981308394,2.314814814814813,2.2935779816513744,2.2727272727272707,2.2522522522522506,2.232142857142855,2.2123893805309716,2.1929824561403493,2.173913043478259,2.155172413793102,2.136752136752135,2.1186440677966085,2.100840336134452,2.0833333333333317,2.0661157024793373,2.049180327868851,2.0325203252032504,2.016129032258063,1.9999999999999982,1.9841269841269824,1.9685039370078725,1.9531249999999982,1.9379844961240293,1.9230769230769216,1.908396946564884,1.8939393939393925,1.8796992481202992,1.8656716417910433,1.8518518518518503,1.8382352941176454,1.8248175182481736,1.8115942028985492,1.7985611510791353,1.7857142857142843,1.7730496453900695,1.7605633802816887,1.7482517482517468,1.7361111111111096,1.7241379310344813,1.7123287671232863,1.700680272108842,1.689189189189188,1.677852348993287,1.6666666666666652,1.6556291390728464,1.6447368421052617,1.6339869281045738,1.623376623376622,1.6129032258064504,1.6025641025641013,1.5923566878980877,1.582278481012657,1.572327044025156,1.5624999999999987,1.552795031055899,1.5432098765432085,1.5337423312883425,1.524390243902438,1.5151515151515138,1.5060240963855407,1.4970059880239508,1.4880952380952368,1.4792899408284013,1.4705882352941164,1.461988304093566,1.453488372093022,1.4450867052023109,1.4367816091954013,1.4285714285714275,1.4204545454545443,1.4124293785310724,1.4044943820224707,1.396648044692736,1.3888888888888877,1.3812154696132586,1.3736263736263723,1.3661202185792338,1.3586956521739117,1.3513513513513502,1.3440860215053752,1.3368983957219238,1.329787234042552,1.3227513227513217,1.3157894736842095,1.3089005235602083,1.3020833333333321,1.295336787564766,1.288659793814432,1.2820512820512808,1.2755102040816317,1.2690355329949228,1.2626262626262614,1.2562814070351749,1.249999999999999,1.2437810945273622,1.2376237623762365,1.231527093596058,1.2254901960784303,1.21951219512195,1.2135922330097078,1.2077294685990327,1.2019230769230758,1.1961722488038269,1.1904761904761896,1.1848341232227477,1.1792452830188669,1.1737089201877924,1.1682242990654195,1.1627906976744176,1.1574074074074063,1.152073732718893,1.1467889908256872,1.141552511415524,1.1363636363636354,1.1312217194570127,1.1261261261261253,1.1210762331838555,1.1160714285714275,1.1111111111111103,1.1061946902654858,1.1013215859030827,1.0964912280701746,1.091703056768558,1.0869565217391295,1.0822510822510814,1.0775862068965507,1.0729613733905572,1.0683760683760675,1.0638297872340416,1.0593220338983043,1.0548523206751046,1.050420168067226,1.0460251046025095,1.0416666666666659,1.0373443983402482,1.0330578512396686,1.028806584362139,1.0245901639344255,1.0204081632653053,1.016260162601625,1.0121457489878534,1.0080645161290314,1.0040160642570273,0.9999999999999991],\"yaxis\":\"y\",\"type\":\"scatter\"}],                        {\"template\":{\"data\":{\"histogram2dcontour\":[{\"type\":\"histogram2dcontour\",\"colorbar\":{\"outlinewidth\":0,\"ticks\":\"\"},\"colorscale\":[[0.0,\"#0d0887\"],[0.1111111111111111,\"#46039f\"],[0.2222222222222222,\"#7201a8\"],[0.3333333333333333,\"#9c179e\"],[0.4444444444444444,\"#bd3786\"],[0.5555555555555556,\"#d8576b\"],[0.6666666666666666,\"#ed7953\"],[0.7777777777777778,\"#fb9f3a\"],[0.8888888888888888,\"#fdca26\"],[1.0,\"#f0f921\"]]}],\"choropleth\":[{\"type\":\"choropleth\",\"colorbar\":{\"outlinewidth\":0,\"ticks\":\"\"}}],\"histogram2d\":[{\"type\":\"histogram2d\",\"colorbar\":{\"outlinewidth\":0,\"ticks\":\"\"},\"colorscale\":[[0.0,\"#0d0887\"],[0.1111111111111111,\"#46039f\"],[0.2222222222222222,\"#7201a8\"],[0.3333333333333333,\"#9c179e\"],[0.4444444444444444,\"#bd3786\"],[0.5555555555555556,\"#d8576b\"],[0.6666666666666666,\"#ed7953\"],[0.7777777777777778,\"#fb9f3a\"],[0.8888888888888888,\"#fdca26\"],[1.0,\"#f0f921\"]]}],\"heatmap\":[{\"type\":\"heatmap\",\"colorbar\":{\"outlinewidth\":0,\"ticks\":\"\"},\"colorscale\":[[0.0,\"#0d0887\"],[0.1111111111111111,\"#46039f\"],[0.2222222222222222,\"#7201a8\"],[0.3333333333333333,\"#9c179e\"],[0.4444444444444444,\"#bd3786\"],[0.5555555555555556,\"#d8576b\"],[0.6666666666666666,\"#ed7953\"],[0.7777777777777778,\"#fb9f3a\"],[0.8888888888888888,\"#fdca26\"],[1.0,\"#f0f921\"]]}],\"heatmapgl\":[{\"type\":\"heatmapgl\",\"colorbar\":{\"outlinewidth\":0,\"ticks\":\"\"},\"colorscale\":[[0.0,\"#0d0887\"],[0.1111111111111111,\"#46039f\"],[0.2222222222222222,\"#7201a8\"],[0.3333333333333333,\"#9c179e\"],[0.4444444444444444,\"#bd3786\"],[0.5555555555555556,\"#d8576b\"],[0.6666666666666666,\"#ed7953\"],[0.7777777777777778,\"#fb9f3a\"],[0.8888888888888888,\"#fdca26\"],[1.0,\"#f0f921\"]]}],\"contourcarpet\":[{\"type\":\"contourcarpet\",\"colorbar\":{\"outlinewidth\":0,\"ticks\":\"\"}}],\"contour\":[{\"type\":\"contour\",\"colorbar\":{\"outlinewidth\":0,\"ticks\":\"\"},\"colorscale\":[[0.0,\"#0d0887\"],[0.1111111111111111,\"#46039f\"],[0.2222222222222222,\"#7201a8\"],[0.3333333333333333,\"#9c179e\"],[0.4444444444444444,\"#bd3786\"],[0.5555555555555556,\"#d8576b\"],[0.6666666666666666,\"#ed7953\"],[0.7777777777777778,\"#fb9f3a\"],[0.8888888888888888,\"#fdca26\"],[1.0,\"#f0f921\"]]}],\"surface\":[{\"type\":\"surface\",\"colorbar\":{\"outlinewidth\":0,\"ticks\":\"\"},\"colorscale\":[[0.0,\"#0d0887\"],[0.1111111111111111,\"#46039f\"],[0.2222222222222222,\"#7201a8\"],[0.3333333333333333,\"#9c179e\"],[0.4444444444444444,\"#bd3786\"],[0.5555555555555556,\"#d8576b\"],[0.6666666666666666,\"#ed7953\"],[0.7777777777777778,\"#fb9f3a\"],[0.8888888888888888,\"#fdca26\"],[1.0,\"#f0f921\"]]}],\"mesh3d\":[{\"type\":\"mesh3d\",\"colorbar\":{\"outlinewidth\":0,\"ticks\":\"\"}}],\"scatter\":[{\"fillpattern\":{\"fillmode\":\"overlay\",\"size\":10,\"solidity\":0.2},\"type\":\"scatter\"}],\"parcoords\":[{\"type\":\"parcoords\",\"line\":{\"colorbar\":{\"outlinewidth\":0,\"ticks\":\"\"}}}],\"scatterpolargl\":[{\"type\":\"scatterpolargl\",\"marker\":{\"colorbar\":{\"outlinewidth\":0,\"ticks\":\"\"}}}],\"bar\":[{\"error_x\":{\"color\":\"#2a3f5f\"},\"error_y\":{\"color\":\"#2a3f5f\"},\"marker\":{\"line\":{\"color\":\"#E5ECF6\",\"width\":0.5},\"pattern\":{\"fillmode\":\"overlay\",\"size\":10,\"solidity\":0.2}},\"type\":\"bar\"}],\"scattergeo\":[{\"type\":\"scattergeo\",\"marker\":{\"colorbar\":{\"outlinewidth\":0,\"ticks\":\"\"}}}],\"scatterpolar\":[{\"type\":\"scatterpolar\",\"marker\":{\"colorbar\":{\"outlinewidth\":0,\"ticks\":\"\"}}}],\"histogram\":[{\"marker\":{\"pattern\":{\"fillmode\":\"overlay\",\"size\":10,\"solidity\":0.2}},\"type\":\"histogram\"}],\"scattergl\":[{\"type\":\"scattergl\",\"marker\":{\"colorbar\":{\"outlinewidth\":0,\"ticks\":\"\"}}}],\"scatter3d\":[{\"type\":\"scatter3d\",\"line\":{\"colorbar\":{\"outlinewidth\":0,\"ticks\":\"\"}},\"marker\":{\"colorbar\":{\"outlinewidth\":0,\"ticks\":\"\"}}}],\"scattermapbox\":[{\"type\":\"scattermapbox\",\"marker\":{\"colorbar\":{\"outlinewidth\":0,\"ticks\":\"\"}}}],\"scatterternary\":[{\"type\":\"scatterternary\",\"marker\":{\"colorbar\":{\"outlinewidth\":0,\"ticks\":\"\"}}}],\"scattercarpet\":[{\"type\":\"scattercarpet\",\"marker\":{\"colorbar\":{\"outlinewidth\":0,\"ticks\":\"\"}}}],\"carpet\":[{\"aaxis\":{\"endlinecolor\":\"#2a3f5f\",\"gridcolor\":\"white\",\"linecolor\":\"white\",\"minorgridcolor\":\"white\",\"startlinecolor\":\"#2a3f5f\"},\"baxis\":{\"endlinecolor\":\"#2a3f5f\",\"gridcolor\":\"white\",\"linecolor\":\"white\",\"minorgridcolor\":\"white\",\"startlinecolor\":\"#2a3f5f\"},\"type\":\"carpet\"}],\"table\":[{\"cells\":{\"fill\":{\"color\":\"#EBF0F8\"},\"line\":{\"color\":\"white\"}},\"header\":{\"fill\":{\"color\":\"#C8D4E3\"},\"line\":{\"color\":\"white\"}},\"type\":\"table\"}],\"barpolar\":[{\"marker\":{\"line\":{\"color\":\"#E5ECF6\",\"width\":0.5},\"pattern\":{\"fillmode\":\"overlay\",\"size\":10,\"solidity\":0.2}},\"type\":\"barpolar\"}],\"pie\":[{\"automargin\":true,\"type\":\"pie\"}]},\"layout\":{\"autotypenumbers\":\"strict\",\"colorway\":[\"#636efa\",\"#EF553B\",\"#00cc96\",\"#ab63fa\",\"#FFA15A\",\"#19d3f3\",\"#FF6692\",\"#B6E880\",\"#FF97FF\",\"#FECB52\"],\"font\":{\"color\":\"#2a3f5f\"},\"hovermode\":\"closest\",\"hoverlabel\":{\"align\":\"left\"},\"paper_bgcolor\":\"white\",\"plot_bgcolor\":\"#E5ECF6\",\"polar\":{\"bgcolor\":\"#E5ECF6\",\"angularaxis\":{\"gridcolor\":\"white\",\"linecolor\":\"white\",\"ticks\":\"\"},\"radialaxis\":{\"gridcolor\":\"white\",\"linecolor\":\"white\",\"ticks\":\"\"}},\"ternary\":{\"bgcolor\":\"#E5ECF6\",\"aaxis\":{\"gridcolor\":\"white\",\"linecolor\":\"white\",\"ticks\":\"\"},\"baxis\":{\"gridcolor\":\"white\",\"linecolor\":\"white\",\"ticks\":\"\"},\"caxis\":{\"gridcolor\":\"white\",\"linecolor\":\"white\",\"ticks\":\"\"}},\"coloraxis\":{\"colorbar\":{\"outlinewidth\":0,\"ticks\":\"\"}},\"colorscale\":{\"sequential\":[[0.0,\"#0d0887\"],[0.1111111111111111,\"#46039f\"],[0.2222222222222222,\"#7201a8\"],[0.3333333333333333,\"#9c179e\"],[0.4444444444444444,\"#bd3786\"],[0.5555555555555556,\"#d8576b\"],[0.6666666666666666,\"#ed7953\"],[0.7777777777777778,\"#fb9f3a\"],[0.8888888888888888,\"#fdca26\"],[1.0,\"#f0f921\"]],\"sequentialminus\":[[0.0,\"#0d0887\"],[0.1111111111111111,\"#46039f\"],[0.2222222222222222,\"#7201a8\"],[0.3333333333333333,\"#9c179e\"],[0.4444444444444444,\"#bd3786\"],[0.5555555555555556,\"#d8576b\"],[0.6666666666666666,\"#ed7953\"],[0.7777777777777778,\"#fb9f3a\"],[0.8888888888888888,\"#fdca26\"],[1.0,\"#f0f921\"]],\"diverging\":[[0,\"#8e0152\"],[0.1,\"#c51b7d\"],[0.2,\"#de77ae\"],[0.3,\"#f1b6da\"],[0.4,\"#fde0ef\"],[0.5,\"#f7f7f7\"],[0.6,\"#e6f5d0\"],[0.7,\"#b8e186\"],[0.8,\"#7fbc41\"],[0.9,\"#4d9221\"],[1,\"#276419\"]]},\"xaxis\":{\"gridcolor\":\"white\",\"linecolor\":\"white\",\"ticks\":\"\",\"title\":{\"standoff\":15},\"zerolinecolor\":\"white\",\"automargin\":true,\"zerolinewidth\":2},\"yaxis\":{\"gridcolor\":\"white\",\"linecolor\":\"white\",\"ticks\":\"\",\"title\":{\"standoff\":15},\"zerolinecolor\":\"white\",\"automargin\":true,\"zerolinewidth\":2},\"scene\":{\"xaxis\":{\"backgroundcolor\":\"#E5ECF6\",\"gridcolor\":\"white\",\"linecolor\":\"white\",\"showbackground\":true,\"ticks\":\"\",\"zerolinecolor\":\"white\",\"gridwidth\":2},\"yaxis\":{\"backgroundcolor\":\"#E5ECF6\",\"gridcolor\":\"white\",\"linecolor\":\"white\",\"showbackground\":true,\"ticks\":\"\",\"zerolinecolor\":\"white\",\"gridwidth\":2},\"zaxis\":{\"backgroundcolor\":\"#E5ECF6\",\"gridcolor\":\"white\",\"linecolor\":\"white\",\"showbackground\":true,\"ticks\":\"\",\"zerolinecolor\":\"white\",\"gridwidth\":2}},\"shapedefaults\":{\"line\":{\"color\":\"#2a3f5f\"}},\"annotationdefaults\":{\"arrowcolor\":\"#2a3f5f\",\"arrowhead\":0,\"arrowwidth\":1},\"geo\":{\"bgcolor\":\"white\",\"landcolor\":\"#E5ECF6\",\"subunitcolor\":\"white\",\"showland\":true,\"showlakes\":true,\"lakecolor\":\"white\"},\"title\":{\"x\":0.05},\"mapbox\":{\"style\":\"light\"}}},\"xaxis\":{\"anchor\":\"y\",\"domain\":[0.0,1.0],\"title\":{\"text\":\"Token B units\"}},\"yaxis\":{\"anchor\":\"x\",\"domain\":[0.0,1.0],\"title\":{\"text\":\"Token A units\"}},\"legend\":{\"tracegroupgap\":0},\"title\":{\"text\":\"bonding curve, k = 25\"},\"height\":600,\"width\":1000},                        {\"responsive\": true}                    ).then(function(){\n",
       "                            \n",
       "var gd = document.getElementById('d2229ea1-f31a-4a79-a832-dda5fac21c5e');\n",
       "var x = new MutationObserver(function (mutations, observer) {{\n",
       "        var display = window.getComputedStyle(gd).display;\n",
       "        if (!display || display === 'none') {{\n",
       "            console.log([gd, 'removed!']);\n",
       "            Plotly.purge(gd);\n",
       "            observer.disconnect();\n",
       "        }}\n",
       "}});\n",
       "\n",
       "// Listen for the removal of the full notebook cells\n",
       "var notebookContainer = gd.closest('#notebook-container');\n",
       "if (notebookContainer) {{\n",
       "    x.observe(notebookContainer, {childList: true});\n",
       "}}\n",
       "\n",
       "// Listen for the clearing of the current output cell\n",
       "var outputEl = gd.closest('.output');\n",
       "if (outputEl) {{\n",
       "    x.observe(outputEl, {childList: true});\n",
       "}}\n",
       "\n",
       "                        })                };                });            </script>        </div>"
      ]
     },
     "metadata": {},
     "output_type": "display_data"
    }
   ],
   "source": [
    "# px.scatter(x=np.geomspace(1,25), y=25/np.geomspace(1,25), title='bonding curve, k = 25')\n",
    "fig = px.scatter(\n",
    "    x=np.arange(1,25.1,0.1), \n",
    "    y=25/np.arange(1,25.1,0.1), \n",
    "    title='bonding curve, k = 25', \n",
    "    labels={ \n",
    "        \"x\": \"Token B units\",  \n",
    "        \"y\": \"Token A units\"\n",
    "    },\n",
    "    width=1000, \n",
    "    height=600,\n",
    ")\n",
    "fig.show()"
   ]
  },
  {
   "cell_type": "markdown",
   "id": "4594c6d1-9222-4fcd-85e2-4fe67e4b4db8",
   "metadata": {},
   "source": [
    "Starting at 5 units each, by paying 0.1 Token B to swap for Token A, the pool changes to 4.901961 units of Token A to 5.1 units of Token B, giving the user ~0.098 of Token A. As ratio of Token A to Token B decreases, the price of Token A increases relative to Token B, making it marginally more and more expensive for swap Token B for Token A, and cheaper to swap Token A for Token B."
   ]
  },
  {
   "cell_type": "markdown",
   "id": "10b5f089-fd59-4dfb-b518-4fb650aeb8c5",
   "metadata": {},
   "source": [
    "#### CEX / DEX Arbitrage\n",
    "\n",
    "CEXes, or centralized exchanges, use bid/ask order books to determine asset prices. The difference in pricing mechanisms manifests in the same assets exhibiting different prices on DEXes versus CEXes. Diverging prices on the same asset incentivizes arbitrageurs to swap tokens on AMMs until price converges.  \n",
    "\n",
    "As price converges due to arbitrage, the underlying value of the AMM pool can be less than holding the same amount of assets off-chain. This is known as \"impermanent loss\", which is an opportunity cost for the liquidity provider. It is unrealized if the pair remains in the DEX pool hence the characterization of the loss as \"impermanent\". However this term is misleading given the loss is realized upon withdrawal of liquidity from the pool."
   ]
  },
  {
   "cell_type": "markdown",
   "id": "19594512-cd82-449f-b99b-f9a127b5a621",
   "metadata": {
    "tags": []
   },
   "source": [
    "## Model - Single Token IL\n",
    "\n",
    "We model IL on price change for one token in the pair, keeping the other constant."
   ]
  },
  {
   "cell_type": "code",
   "execution_count": 3,
   "id": "f5609323-4e44-4036-9c13-245f7115a109",
   "metadata": {},
   "outputs": [
    {
     "data": {
      "application/vnd.plotly.v1+json": {
       "config": {
        "plotlyServerURL": "https://plot.ly"
       },
       "data": [
        {
         "hovertemplate": "T1 Price of Token A=%{x}<br>Impermanent Loss=%{y}<extra></extra>",
         "legendgroup": "",
         "marker": {
          "color": "#636efa",
          "symbol": "circle"
         },
         "mode": "markers",
         "name": "",
         "orientation": "v",
         "showlegend": false,
         "type": "scatter",
         "x": [
          1,
          2,
          3,
          4,
          5,
          6,
          7,
          8,
          9.000000000000014,
          10.000000000000014,
          11.000000000000014,
          12.000000000000014,
          13.000000000000014,
          14.000000000000014,
          15.000000000000014,
          16.000000000000014,
          17.000000000000014,
          18.000000000000014,
          19.000000000000014,
          20.000000000000014,
          21.000000000000014,
          22.000000000000014,
          23.000000000000014,
          24.00000000000003,
          25.00000000000003,
          26.00000000000003,
          27.00000000000003,
          28.00000000000003,
          29.00000000000003,
          30.00000000000003,
          31.00000000000003,
          32.00000000000003,
          33.00000000000003,
          34.00000000000003,
          35.00000000000003,
          36.00000000000003,
          37.000000000000036,
          38.000000000000036,
          39.000000000000036,
          40.000000000000036,
          41.000000000000036,
          42.000000000000036,
          43.000000000000036,
          44.00000000000004,
          45.00000000000004,
          46.00000000000004,
          47.00000000000004,
          48.00000000000004,
          49.00000000000004,
          50.00000000000004,
          51.00000000000004,
          52.00000000000004,
          53.00000000000005,
          54.00000000000005,
          55.00000000000005,
          56.00000000000005,
          57.00000000000005,
          58.00000000000005,
          59.00000000000005,
          60.00000000000006,
          61.00000000000006,
          62.00000000000006,
          63.00000000000006,
          64.00000000000006,
          65.00000000000006,
          66.00000000000006,
          67.00000000000006,
          68.00000000000006,
          69.00000000000006,
          70.00000000000006,
          71.00000000000006,
          72.00000000000006,
          73.00000000000006,
          74.00000000000006,
          75.00000000000007,
          76.00000000000007,
          77.00000000000007,
          78.00000000000007,
          79.00000000000007,
          80.00000000000007,
          81.00000000000007,
          82.00000000000007,
          83.00000000000007,
          84.00000000000007,
          85.00000000000007,
          86.00000000000007,
          87.00000000000009,
          88.00000000000009,
          89.00000000000009,
          90.00000000000009,
          91.00000000000009,
          92.00000000000009,
          93.00000000000009,
          94.00000000000009,
          95.00000000000009,
          96.00000000000009,
          97.00000000000009,
          98.00000000000009,
          99.00000000000009,
          100.00000000000009,
          101.00000000000009,
          102.00000000000009,
          103.00000000000009,
          104.00000000000009,
          105.0000000000001,
          106.0000000000001,
          107.0000000000001,
          108.0000000000001,
          109.0000000000001,
          110.0000000000001,
          111.0000000000001,
          112.0000000000001,
          113.0000000000001,
          114.0000000000001,
          115.0000000000001,
          116.0000000000001,
          117.0000000000001,
          118.00000000000011,
          119.00000000000011,
          120.00000000000011,
          121.00000000000011,
          122.00000000000011,
          123.00000000000011,
          124.00000000000011,
          125.00000000000011,
          126.00000000000011,
          127.00000000000011,
          128.0000000000001,
          129.0000000000001,
          130.0000000000001,
          131.0000000000001,
          132.0000000000001,
          133.0000000000001,
          134.0000000000001,
          135.0000000000001,
          136.0000000000001,
          137.0000000000001,
          138.0000000000001,
          139.0000000000001,
          140.0000000000001,
          141.0000000000001,
          142.0000000000001,
          143.0000000000001,
          144.0000000000001,
          145.0000000000001,
          146.0000000000001,
          147.0000000000001,
          148.0000000000001,
          149.00000000000014,
          150.00000000000014,
          151.00000000000014,
          152.00000000000014,
          153.00000000000014,
          154.00000000000014,
          155.00000000000014,
          156.00000000000014,
          157.00000000000014,
          158.00000000000014,
          159.00000000000014,
          160.00000000000014,
          161.00000000000014,
          162.00000000000014,
          163.00000000000014,
          164.00000000000014,
          165.00000000000014,
          166.00000000000014,
          167.00000000000014,
          168.00000000000014,
          169.00000000000017,
          170.00000000000017,
          171.00000000000017,
          172.00000000000017,
          173.00000000000017,
          174.00000000000017,
          175.00000000000017,
          176.00000000000017,
          177.00000000000017,
          178.00000000000017,
          179.00000000000017,
          180.00000000000017,
          181.00000000000017,
          182.00000000000017,
          183.00000000000017,
          184.00000000000017,
          185.00000000000017,
          186.00000000000017,
          187.00000000000017,
          188.00000000000017,
          189.00000000000017,
          190.00000000000017,
          191.00000000000017,
          192.00000000000017,
          193.00000000000017,
          194.00000000000017,
          195.00000000000017,
          196.00000000000017,
          197.00000000000017,
          198.00000000000017,
          199.00000000000017,
          200.00000000000017,
          201.00000000000017,
          202.00000000000017,
          203.00000000000017,
          204.0000000000002,
          205.00000000000017,
          206.00000000000017,
          207.00000000000017,
          208.00000000000023,
          209.00000000000017,
          210.00000000000017,
          211.00000000000017,
          212.00000000000023,
          213.00000000000017,
          214.00000000000017,
          215.00000000000017,
          216.00000000000023,
          217.0000000000002,
          218.00000000000017,
          219.0000000000002,
          220.00000000000023,
          221.0000000000002,
          222.00000000000017,
          223.0000000000002,
          224.00000000000023,
          225.0000000000002,
          226.00000000000017,
          227.0000000000002,
          228.00000000000023,
          229.0000000000002,
          230.00000000000017,
          231.0000000000002,
          232.00000000000023,
          233.0000000000002,
          234.0000000000002,
          235.0000000000002,
          236.00000000000023,
          237.0000000000002,
          238.0000000000002,
          239.0000000000002,
          240.00000000000023,
          241.00000000000023,
          242.0000000000002,
          243.00000000000023,
          244.00000000000023,
          245.00000000000023,
          246.0000000000002,
          247.00000000000023,
          248.00000000000026,
          249.00000000000023,
          250.0000000000002,
          251.00000000000023,
          252.00000000000026,
          253.00000000000023,
          254.0000000000002,
          255.00000000000023,
          256.0000000000002,
          257.0000000000002,
          258.0000000000002,
          259.0000000000002,
          260.0000000000002,
          261.0000000000002,
          262.0000000000002,
          263.0000000000002,
          264.0000000000002,
          265.0000000000002,
          266.0000000000002,
          267.0000000000002,
          268.0000000000002,
          269.0000000000002,
          270.0000000000002,
          271.0000000000002,
          272.0000000000002,
          273.0000000000002,
          274.0000000000002,
          275.0000000000002,
          276.0000000000002,
          277.0000000000002,
          278.0000000000002,
          279.0000000000002,
          280.0000000000003,
          281.0000000000002,
          282.0000000000002,
          283.0000000000002,
          284.0000000000003,
          285.0000000000002,
          286.0000000000002,
          287.0000000000002,
          288.0000000000003,
          289.0000000000002,
          290.0000000000002,
          291.0000000000002,
          292.0000000000003,
          293.0000000000002,
          294.0000000000002,
          295.0000000000002,
          296.0000000000003,
          297.0000000000002,
          298.0000000000002,
          299.0000000000002,
          300.0000000000002,
          301.0000000000002,
          302.0000000000002,
          303.0000000000003,
          304.0000000000003,
          305.0000000000002,
          306.0000000000002,
          307.0000000000003,
          308.0000000000003,
          309.0000000000002,
          310.0000000000002,
          311.0000000000003,
          312.0000000000003,
          313.0000000000002,
          314.0000000000002,
          315.00000000000034,
          316.0000000000003,
          317.0000000000002,
          318.0000000000002,
          319.00000000000034,
          320.0000000000003,
          321.0000000000002,
          322.0000000000002,
          323.00000000000034,
          324.0000000000003,
          325.0000000000002,
          326.0000000000002,
          327.00000000000034,
          328.0000000000003,
          329.0000000000003,
          330.0000000000002,
          331.00000000000034,
          332.0000000000003,
          333.0000000000003,
          334.0000000000002,
          335.00000000000034,
          336.0000000000003,
          337.0000000000003,
          338.0000000000002,
          339.00000000000034,
          340.00000000000034,
          341.0000000000003,
          342.0000000000002,
          343.00000000000034,
          344.00000000000034,
          345.0000000000003,
          346.0000000000002,
          347.00000000000034,
          348.00000000000034,
          349.0000000000003,
          350.0000000000002,
          351.00000000000034,
          352.00000000000034,
          353.0000000000003,
          354.0000000000003,
          355.00000000000034,
          356.00000000000034,
          357.0000000000003,
          358.0000000000003,
          359.00000000000034,
          360.00000000000034,
          361.0000000000003,
          362.0000000000003,
          363.00000000000034,
          364.00000000000034,
          365.0000000000003,
          366.0000000000003,
          367.00000000000034,
          368.00000000000034,
          369.0000000000003,
          370.0000000000003,
          371.00000000000034,
          372.00000000000034,
          373.0000000000003,
          374.0000000000003,
          375.00000000000034,
          376.00000000000034,
          377.00000000000034,
          378.0000000000003,
          379.00000000000034,
          380.00000000000034,
          381.00000000000034,
          382.0000000000003,
          383.00000000000034,
          384.00000000000034,
          385.00000000000034,
          386.0000000000003,
          387.00000000000034,
          388.00000000000034,
          389.00000000000034,
          390.0000000000003,
          391.00000000000034,
          392.00000000000034,
          393.00000000000034,
          394.0000000000003,
          395.0000000000004,
          396.00000000000034,
          397.00000000000034,
          398.0000000000003,
          399.0000000000004,
          400.00000000000034,
          401.00000000000034,
          402.00000000000034,
          403.0000000000003,
          404.00000000000034,
          405.00000000000034,
          406.00000000000034,
          407.0000000000004,
          408.00000000000034,
          409.00000000000034,
          410.00000000000034,
          411.0000000000003,
          412.00000000000034,
          413.00000000000034,
          414.00000000000034,
          415.0000000000004,
          416.00000000000034,
          417.00000000000034,
          418.00000000000034,
          419.0000000000003,
          420.0000000000004,
          421.00000000000034,
          422.00000000000034,
          423.0000000000004,
          424.0000000000004,
          425.00000000000034,
          426.00000000000034,
          427.00000000000034,
          428.0000000000004,
          429.00000000000034,
          430.00000000000034,
          431.0000000000004,
          432.0000000000004,
          433.00000000000034,
          434.00000000000034,
          435.00000000000034,
          436.0000000000004,
          437.00000000000034,
          438.00000000000034,
          439.0000000000004,
          440.0000000000004,
          441.00000000000034,
          442.00000000000034,
          443.00000000000034,
          444.0000000000004,
          445.0000000000004,
          446.00000000000034,
          447.0000000000004,
          448.0000000000004,
          449.0000000000004,
          450.00000000000034,
          451.00000000000034,
          452.0000000000004,
          453.0000000000004,
          454.00000000000034,
          455.00000000000045,
          456.0000000000004,
          457.0000000000004,
          458.00000000000034,
          459.00000000000034,
          460.0000000000004,
          461.0000000000004,
          462.00000000000034,
          463.00000000000045,
          464.0000000000004,
          465.0000000000004,
          466.00000000000034,
          467.00000000000034,
          468.0000000000004,
          469.0000000000004,
          470.0000000000004,
          471.00000000000045,
          472.0000000000004,
          473.0000000000004,
          474.0000000000004,
          475.00000000000034,
          476.0000000000004,
          477.0000000000004,
          478.0000000000004,
          479.00000000000045,
          480.00000000000045,
          481.0000000000004,
          482.0000000000004,
          483.00000000000034,
          484.00000000000045,
          485.0000000000004,
          486.0000000000004,
          487.00000000000045,
          488.00000000000045,
          489.0000000000004,
          490.0000000000004,
          491.00000000000034,
          492.00000000000045,
          493.0000000000004,
          494.0000000000004,
          495.00000000000045,
          496.00000000000045,
          497.0000000000004,
          498.0000000000004,
          499.0000000000004,
          500.00000000000045,
          501.0000000000004,
          502.0000000000004,
          503.00000000000045,
          504.00000000000045,
          505.00000000000045,
          506.0000000000004,
          507.0000000000004,
          508.00000000000045,
          509.00000000000045,
          510.0000000000004,
          511.00000000000045,
          512.0000000000005,
          513.0000000000005,
          514.0000000000005,
          515.0000000000005,
          516.0000000000005,
          517.0000000000005,
          518.0000000000005,
          519.0000000000005,
          520.0000000000005,
          521.0000000000005,
          522.0000000000005,
          523.0000000000005,
          524.0000000000005,
          525.0000000000005,
          526.0000000000005,
          527.0000000000005,
          528.0000000000005,
          529.0000000000005,
          530.0000000000005,
          531.0000000000005,
          532.0000000000005,
          533.0000000000005,
          534.0000000000005,
          535.0000000000005,
          536.0000000000005,
          537.0000000000005,
          538.0000000000005,
          539.0000000000005,
          540.0000000000005,
          541.0000000000005,
          542.0000000000005,
          543.0000000000005,
          544.0000000000005,
          545.0000000000005,
          546.0000000000005,
          547.0000000000005,
          548.0000000000005,
          549.0000000000005,
          550.0000000000005,
          551.0000000000005,
          552.0000000000005,
          553.0000000000005,
          554.0000000000005,
          555.0000000000005,
          556.0000000000005,
          557.0000000000005,
          558.0000000000005,
          559.0000000000005,
          560.0000000000005,
          561.0000000000005,
          562.0000000000005,
          563.0000000000005,
          564.0000000000005,
          565.0000000000005,
          566.0000000000005,
          567.0000000000005,
          568.0000000000005,
          569.0000000000005,
          570.0000000000005,
          571.0000000000005,
          572.0000000000005,
          573.0000000000005,
          574.0000000000005,
          575.0000000000005,
          576.0000000000005,
          577.0000000000005,
          578.0000000000005,
          579.0000000000005,
          580.0000000000005,
          581.0000000000005,
          582.0000000000005,
          583.0000000000006,
          584.0000000000005,
          585.0000000000005,
          586.0000000000005,
          587.0000000000005,
          588.0000000000005,
          589.0000000000005,
          590.0000000000005,
          591.0000000000006,
          592.0000000000005,
          593.0000000000005,
          594.0000000000005,
          595.0000000000005,
          596.0000000000005,
          597.0000000000005,
          598.0000000000005,
          599.0000000000006,
          600.0000000000005,
          601.0000000000005,
          602.0000000000005,
          603.0000000000005,
          604.0000000000005,
          605.0000000000005,
          606.0000000000005,
          607.0000000000006,
          608.0000000000006,
          609.0000000000005,
          610.0000000000005,
          611.0000000000005,
          612.0000000000006,
          613.0000000000006,
          614.0000000000005,
          615.0000000000006,
          616.0000000000006,
          617.0000000000006,
          618.0000000000005,
          619.0000000000005,
          620.0000000000006,
          621.0000000000006,
          622.0000000000005,
          623.0000000000006,
          624.0000000000006,
          625.0000000000006,
          626.0000000000005,
          627.0000000000005,
          628.0000000000006,
          629.0000000000006,
          630.0000000000006,
          631.0000000000006,
          632.0000000000006,
          633.0000000000006,
          634.0000000000006,
          635.0000000000005,
          636.0000000000006,
          637.0000000000006,
          638.0000000000006,
          639.0000000000006,
          640.0000000000006,
          641.0000000000006,
          642.0000000000006,
          643.0000000000005,
          644.0000000000006,
          645.0000000000006,
          646.0000000000006,
          647.0000000000006,
          648.0000000000006,
          649.0000000000006,
          650.0000000000006,
          651.0000000000005,
          652.0000000000006,
          653.0000000000006,
          654.0000000000006,
          655.0000000000006,
          656.0000000000006,
          657.0000000000006,
          658.0000000000006,
          659.0000000000006,
          660.0000000000006,
          661.0000000000006,
          662.0000000000006,
          663.0000000000006,
          664.0000000000006,
          665.0000000000006,
          666.0000000000006,
          667.0000000000006,
          668.0000000000006,
          669.0000000000006,
          670.0000000000006,
          671.0000000000006,
          672.0000000000006,
          673.0000000000006,
          674.0000000000006,
          675.0000000000006,
          676.0000000000006,
          677.0000000000006,
          678.0000000000006,
          679.0000000000007,
          680.0000000000006,
          681.0000000000006,
          682.0000000000006,
          683.0000000000006,
          684.0000000000006,
          685.0000000000006,
          686.0000000000006,
          687.0000000000007,
          688.0000000000006,
          689.0000000000006,
          690.0000000000006,
          691.0000000000006,
          692.0000000000006,
          693.0000000000006,
          694.0000000000006,
          695.0000000000007,
          696.0000000000006,
          697.0000000000006,
          698.0000000000006,
          699.0000000000006,
          700.0000000000006,
          701.0000000000006,
          702.0000000000006,
          703.0000000000007,
          704.0000000000007,
          705.0000000000006,
          706.0000000000006,
          707.0000000000006,
          708.0000000000007,
          709.0000000000006,
          710.0000000000006,
          711.0000000000007,
          712.0000000000007,
          713.0000000000006,
          714.0000000000006,
          715.0000000000006,
          716.0000000000007,
          717.0000000000006,
          718.0000000000006,
          719.0000000000007,
          720.0000000000007,
          721.0000000000006,
          722.0000000000006,
          723.0000000000006,
          724.0000000000007,
          725.0000000000006,
          726.0000000000006,
          727.0000000000007,
          728.0000000000007,
          729.0000000000007,
          730.0000000000006,
          731.0000000000006,
          732.0000000000007,
          733.0000000000007,
          734.0000000000006,
          735.0000000000007,
          736.0000000000007,
          737.0000000000007,
          738.0000000000006,
          739.0000000000006,
          740.0000000000007,
          741.0000000000007,
          742.0000000000006,
          743.0000000000007,
          744.0000000000007,
          745.0000000000007,
          746.0000000000006,
          747.0000000000006,
          748.0000000000007,
          749.0000000000007,
          750.0000000000006,
          751.0000000000007,
          752.0000000000007,
          753.0000000000007,
          754.0000000000007,
          755.0000000000006,
          756.0000000000007,
          757.0000000000007,
          758.0000000000007,
          759.0000000000007,
          760.0000000000007,
          761.0000000000007,
          762.0000000000007,
          763.0000000000006,
          764.0000000000007,
          765.0000000000007,
          766.0000000000007,
          767.0000000000007,
          768.0000000000007,
          769.0000000000007,
          770.0000000000007,
          771.0000000000006,
          772.0000000000007,
          773.0000000000007,
          774.0000000000007,
          775.0000000000007,
          776.0000000000007,
          777.0000000000007,
          778.0000000000007,
          779.0000000000007,
          780.0000000000007,
          781.0000000000007,
          782.0000000000007,
          783.0000000000007,
          784.0000000000007,
          785.0000000000007,
          786.0000000000007,
          787.0000000000007,
          788.0000000000007,
          789.0000000000007,
          790.0000000000007,
          791.0000000000007,
          792.0000000000007,
          793.0000000000007,
          794.0000000000007,
          795.0000000000007,
          796.0000000000007,
          797.0000000000007,
          798.0000000000007,
          799.0000000000007,
          800.0000000000007,
          801.0000000000007,
          802.0000000000007,
          803.0000000000007,
          804.0000000000007,
          805.0000000000006,
          806.0000000000008,
          807.0000000000007,
          808.0000000000007,
          809.0000000000007,
          810.0000000000007,
          811.0000000000007,
          812.0000000000007,
          813.0000000000008,
          814.0000000000008,
          815.0000000000008,
          816.0000000000007,
          817.0000000000007,
          818.0000000000007,
          819.0000000000007,
          820.0000000000007,
          821.0000000000006,
          822.0000000000008,
          823.0000000000008,
          824.0000000000007,
          825.0000000000007,
          826.0000000000007,
          827.0000000000007,
          828.0000000000007,
          829.0000000000008,
          830.0000000000008,
          831.0000000000008,
          832.0000000000007,
          833.0000000000007,
          834.0000000000007,
          835.0000000000007,
          836.0000000000007,
          837.0000000000007,
          838.0000000000008,
          839.0000000000008,
          840.0000000000008,
          841.0000000000007,
          842.0000000000007,
          843.0000000000007,
          844.0000000000007,
          845.0000000000008,
          846.0000000000008,
          847.0000000000008,
          848.0000000000008,
          849.0000000000007,
          850.0000000000007,
          851.0000000000007,
          852.0000000000007,
          853.0000000000007,
          854.0000000000008,
          855.0000000000008,
          856.0000000000008,
          857.0000000000007,
          858.0000000000007,
          859.0000000000007,
          860.0000000000007,
          861.0000000000008,
          862.0000000000008,
          863.0000000000008,
          864.0000000000008,
          865.0000000000008,
          866.0000000000007,
          867.0000000000007,
          868.0000000000007,
          869.0000000000007,
          870.0000000000008,
          871.0000000000008,
          872.0000000000008,
          873.0000000000008,
          874.0000000000007,
          875.0000000000007,
          876.0000000000007,
          877.0000000000008,
          878.0000000000008,
          879.0000000000008,
          880.0000000000008,
          881.0000000000008,
          882.0000000000007,
          883.0000000000007,
          884.0000000000007,
          885.0000000000007,
          886.0000000000008,
          887.0000000000008,
          888.0000000000008,
          889.0000000000008,
          890.0000000000008,
          891.0000000000007,
          892.0000000000007,
          893.0000000000009,
          894.0000000000008,
          895.0000000000008,
          896.0000000000008,
          897.0000000000008,
          898.0000000000008,
          899.0000000000007,
          900.0000000000007,
          901.0000000000007,
          902.0000000000008,
          903.0000000000008,
          904.0000000000008,
          905.0000000000008,
          906.0000000000008,
          907.0000000000007,
          908.0000000000007,
          909.0000000000009,
          910.0000000000009,
          911.0000000000008,
          912.0000000000008,
          913.0000000000008,
          914.0000000000008,
          915.0000000000008,
          916.0000000000007,
          917.0000000000007,
          918.0000000000009,
          919.0000000000008,
          920.0000000000008,
          921.0000000000008,
          922.0000000000008,
          923.0000000000008,
          924.0000000000007,
          925.0000000000009,
          926.0000000000009,
          927.0000000000008,
          928.0000000000008,
          929.0000000000008,
          930.0000000000008,
          931.0000000000008,
          932.0000000000007,
          933.0000000000007,
          934.0000000000009,
          935.0000000000009,
          936.0000000000008,
          937.0000000000008,
          938.0000000000008,
          939.0000000000008,
          940.0000000000008,
          941.0000000000009,
          942.0000000000009,
          943.0000000000009,
          944.0000000000008,
          945.0000000000008,
          946.0000000000008,
          947.0000000000008,
          948.0000000000008,
          949.0000000000007,
          950.0000000000009,
          951.0000000000009,
          952.0000000000008,
          953.0000000000008,
          954.0000000000008,
          955.0000000000008,
          956.0000000000008,
          957.0000000000009,
          958.0000000000009,
          959.0000000000009,
          960.0000000000009,
          961.0000000000008,
          962.0000000000008,
          963.0000000000008,
          964.0000000000008,
          965.0000000000008,
          966.0000000000009,
          967.0000000000009,
          968.0000000000009,
          969.0000000000008,
          970.0000000000008,
          971.0000000000008,
          972.0000000000008,
          973.0000000000009,
          974.0000000000009,
          975.0000000000009,
          976.0000000000009,
          977.0000000000008,
          978.0000000000008,
          979.0000000000008,
          980.0000000000008,
          981.0000000000008,
          982.0000000000009,
          983.0000000000009,
          984.0000000000009,
          985.0000000000009,
          986.0000000000008,
          987.0000000000008,
          988.0000000000008,
          989.0000000000009,
          990.0000000000009,
          991.0000000000009,
          992.0000000000009,
          993.0000000000009,
          994.0000000000008,
          995.0000000000008,
          996.0000000000008,
          997.0000000000008,
          998.0000000000009,
          999.0000000000009,
          1000.0000000000009
         ],
         "xaxis": "x",
         "y": [
          -0.8019801980198019,
          -0.7227032230640988,
          -0.6636794548409946,
          -0.6153846153846152,
          -0.5740822900000399,
          -0.5378321240031738,
          -0.505467044660824,
          -0.47621719912107563,
          -0.44954128440366947,
          -0.4250404254239307,
          -0.4024099476837115,
          -0.3814104258682579,
          -0.36184933177628487,
          -0.3435688795133435,
          -0.32643767892044906,
          -0.31034482758620663,
          -0.29519561955253637,
          -0.2809083581153752,
          -0.26741194226207143,
          -0.2546440075000699,
          -0.24254947190812526,
          -0.23107938363550318,
          -0.22018999620931368,
          -0.2098420184570391,
          -0.19999999999999984,
          -0.19063182323924022,
          -0.1817082798887193,
          -0.17320271529231523,
          -0.1650907275760457,
          -0.15734991153051348,
          -0.14995963926259193,
          -0.14290087128903306,
          -0.13615599300179992,
          -0.12970867241114903,
          -0.12354373583709377,
          -0.11764705882352922,
          -0.11200547002945671,
          -0.10660666623638004,
          -0.10143913692109352,
          -0.0964920970947486,
          -0.09175542731448949,
          -0.08721961994255467,
          -0.08287573086685285,
          -0.07871533601238878,
          -0.07473049206905236,
          -0.0709137009417441,
          -0.0672578774964564,
          -0.06375632023303912,
          -0.06040268456375841,
          -0.05719095841793642,
          -0.05411543992809931,
          -0.05117071698316056,
          -0.04835164846006279,
          -0.04565334696759282,
          -0.043071162955398146,
          -0.04060067005796364,
          -0.03823765155786618,
          -0.03597808786532786,
          -0.03381814492218771,
          -0.031754163448145745,
          -0.029782648955694935,
          -0.027900262467677628,
          -0.026103811878064542,
          -0.024390243902438935,
          -0.022756636569872812,
          -0.021200192212534663,
          -0.019718230913478907,
          -0.018308184376747305,
          -0.016967590187209947,
          -0.0156940864304993,
          -0.0144854066460397,
          -0.01333937508853833,
          -0.012253902275429884,
          -0.011226980799697972,
          -0.010256681389212874,
          -0.00934114919530149,
          -0.008478600294675398,
          -0.007667318390129463,
          -0.0069056516965821935,
          -0.006192010000093395,
          -0.005524861878453136,
          -0.004902732072811444,
          -0.004324199000623086,
          -0.003787892400904158,
          -0.0032924911034716287,
          -0.002836720914440538,
          -0.0024193526108220453,
          -0.0020392000375684116,
          -0.0016951183008885318,
          -0.001386002052090718,
          -0.0011107838566013495,
          -0.000868432643183481,
          -0.0006579522287093464,
          -0.0004783799141589995,
          -0.00032878514779843826,
          -0.00020826825176400998,
          -0.00011595920851736885,
          -5.1016503872403085e-05,
          -1.2626023497497307e-05,
          0,
          -1.237600787151738e-05,
          -4.9016003754731585e-05,
          -0.00010920540963366143,
          -0.00019225223670882308,
          -0.00029748624784409206,
          -0.0004242581566019643,
          -0.0005719388610048171,
          -0.0007399187102632432,
          -0.0009276068028183371,
          -0.0011344303141413992,
          -0.001359833852820902,
          -0.001603278843550826,
          -0.0018642429357138557,
          -0.002142219436326198,
          -0.0024367167661760725,
          -0.002747257938054748,
          -0.003073380056039854,
          -0.0034146338348426397,
          -0.0037705831382910393,
          -0.004140804536061804,
          -0.00452488687782826,
          -0.004922430884030438,
          -0.00533304875251861,
          -0.00575636378035338,
          -0.006192010000093728,
          -0.006639631829927106,
          -0.0070988837370355995,
          -0.00756942991361742,
          -0.00805094396501782,
          -0.008543108609445405,
          -0.00904561538877946,
          -0.009558164389995016,
          -0.010080463976755882,
          -0.01061223053075,
          -0.011153188202361886,
          -0.011703068670288252,
          -0.01226161090973632,
          -0.012828560968846214,
          -0.013403671753004498,
          -0.013986702816730756,
          -0.01457742016282848,
          -0.015175596048513595,
          -0.01578100879823896,
          -0.01639344262295095,
          -0.017012687445526975,
          -0.017638538732148823,
          -0.018270797329381527,
          -0.018909269306738863,
          -0.01955376580452184,
          -0.020204102886728803,
          -0.0208601013988442,
          -0.02152158683032135,
          -0.022188389181582502,
          -0.022860342835365532,
          -0.023537286432256388,
          -0.02421906275025032,
          -0.024905518588197118,
          -0.02559650465298191,
          -0.026291875450309643,
          -0.026991489178960215,
          -0.027695207628389396,
          -0.028402896079553153,
          -0.029114423208843943,
          -0.029829660995023155,
          -0.030548484629046913,
          -0.031270772426682414,
          -0.031996405743813905,
          -0.032725268894349346,
          -0.03345724907063219,
          -0.03419223626627432,
          -0.034930123201327046,
          -0.035670805249705784,
          -0.03641418036879829,
          -0.03716014903117393,
          -0.0379086141583308,
          -0.03865948105640604,
          -0.03941265735378563,
          -0.04016805294055159,
          -0.04092557990970236,
          -0.041685152500090306,
          -0.042446687041017284,
          -0.04321010189843688,
          -0.043975317422708216,
          -0.04474225589784975,
          -0.04551084149224982,
          -0.04628100021077952,
          -0.047052659848268896,
          -0.047825749944299556,
          -0.04860020173927204,
          -0.04937594813170898,
          -0.0501529236367525,
          -0.05093106434582073,
          -0.05171030788738551,
          -0.05249059338883555,
          -0.053271861439393886,
          -0.05405405405405428,
          -0.05483711463850527,
          -0.055620987955014356,
          -0.05640562008923877,
          -0.057190958417936755,
          -0.05797695157755334,
          -0.058763549433649476,
          -0.05955070305115495,
          -0.060338364665414757,
          -0.06112648765400985,
          -0.061915026509325455,
          -0.0627039368118465,
          -0.06349317520415876,
          -0.06428269936563391,
          -0.06507246798777833,
          -0.06586244075022851,
          -0.06665257829736959,
          -0.06744284221556418,
          -0.0682331950109687,
          -0.06902360008792541,
          -0.0698140217279073,
          -0.07060442506900744,
          -0.0713947760859498,
          -0.0721850415706119,
          -0.07297518911304235,
          -0.07376518708295943,
          -0.07455500461171805,
          -0.07534461157473227,
          -0.07613397857433557,
          -0.07692307692307698,
          -0.07771187862742923,
          -0.07850035637190456,
          -0.07928848350356743,
          -0.08007623401692698,
          -0.08086358253920611,
          -0.0816505043159722,
          -0.08243697519711946,
          -0.08322297162319858,
          -0.08400847061207473,
          -0.0847934497459173,
          -0.08557788715849934,
          -0.08636176152281005,
          -0.08714505203896394,
          -0.08792773842240087,
          -0.08870980089237279,
          -0.08949122016070266,
          -0.09027197742081627,
          -0.09105205433703256,
          -0.09183143303411001,
          -0.09261009608704207,
          -0.09338802651109146,
          -0.09416520775206305,
          -0.09494162367680359,
          -0.09571725856392566,
          -0.09649209709474882,
          -0.09726612434445259,
          -0.09803932577343522,
          -0.09881168721887468,
          -0.0995831948864846,
          -0.10035383534246156,
          -0.10112359550561811,
          -0.10189246263969776,
          -0.10266042434586542,
          -0.10342746855537166,
          -0.10419358352238373,
          -0.10495875781698016,
          -0.10572298031830707,
          -0.106486240207887,
          -0.10724852696308129,
          -0.10800983035070133,
          -0.10877014042076028,
          -0.10952944750037119,
          -0.11028774218777737,
          -0.11104501534651912,
          -0.11180125809973063,
          -0.1125564618245648,
          -0.11331061814673982,
          -0.11406371893521183,
          -0.11481575629696006,
          -0.1155667225718936,
          -0.11631661032786456,
          -0.1170654123557966,
          -0.11781312166491742,
          -0.11855973147809717,
          -0.1193052352272892,
          -0.12004962654907048,
          -0.12079289928027959,
          -0.12153504745374843,
          -0.12227606529412938,
          -0.1230159472138117,
          -0.12375468780892429,
          -0.12449228185543104,
          -0.1252287243053023,
          -0.12596401028277648,
          -0.12669813508069772,
          -0.1274310941569321,
          -0.12816288313086444,
          -0.12889349777996506,
          -0.1296229340364342,
          -0.13035118798391565,
          -0.13107825585428046,
          -0.13180413402447944,
          -0.13252881901346414,
          -0.13325230747916916,
          -0.13397459621556151,
          -0.13469568214975214,
          -0.13541556233916607,
          -0.13613423396877378,
          -0.13685169434838174,
          -0.1375679409099766,
          -0.13828297120512822,
          -0.13899678290244577,
          -0.1397093737850862,
          -0.14042074174831576,
          -0.14113088479712177,
          -0.14183980104387373,
          -0.1425474887060345,
          -0.14325394610391629,
          -0.1439591716584856,
          -0.1446631638892123,
          -0.14536592141196292,
          -0.14606744293693763,
          -0.14676772726665055,
          -0.14746677329395008,
          -0.14816458000008026,
          -0.14886114645278337,
          -0.1495564718044381,
          -0.15025055529024012,
          -0.15094339622641528,
          -0.15163499400847336,
          -0.1523253481094936,
          -0.15301445807844882,
          -0.1537023235385594,
          -0.15438894418568516,
          -0.15507431978674657,
          -0.1557584501781789,
          -0.15644133526441706,
          -0.15712297501641326,
          -0.1578033694701816,
          -0.15848251872537378,
          -0.15916042294388266,
          -0.15983708234847538,
          -0.16051249722145067,
          -0.16118666790332736,
          -0.16185959479155598,
          -0.16253127833925707,
          -0.1632017190539854,
          -0.16387091749651783,
          -0.1645388742796665,
          -0.16520559006711444,
          -0.16587106557227493,
          -0.16653530155717444,
          -0.16719829883135606,
          -0.1678600582508062,
          -0.16852058071690212,
          -0.1691798671753797,
          -0.1698379186153226,
          -0.1704947360681709,
          -0.17115032060675006,
          -0.17180467334431793,
          -0.1724577954336315,
          -0.17310968806603155,
          -0.173760352470546,
          -0.17440978991301037,
          -0.1750580016952057,
          -0.17570498915401322,
          -0.17635075366058683,
          -0.17699529661954005,
          -0.17763861946815052,
          -0.17828072367557868,
          -0.17892161074210355,
          -0.17956128219837209,
          -0.1801997396046635,
          -0.18083698455016883,
          -0.1814730186522835,
          -0.18210784355591436,
          -0.18274146093280064,
          -0.18337387248084736,
          -0.18400507992347204,
          -0.18463508500896508,
          -0.18526388950986095,
          -0.18589149522232307,
          -0.1865179039655408,
          -0.18714311758113655,
          -0.1877671379325866,
          -0.1883899669046516,
          -0.18901160640281922,
          -0.18963205835275687,
          -0.19025132469977601,
          -0.19086940740830605,
          -0.19148630846137882,
          -0.19210202986012337,
          -0.19271657362327044,
          -0.19332994178666607,
          -0.19394213640279623,
          -0.1945531595403185,
          -0.19516301328360475,
          -0.19577169973229192,
          -0.19637922100084204,
          -0.19698557921810977,
          -0.1975907765269196,
          -0.19819481508365122,
          -0.19879769705783146,
          -0.19939942463173665,
          -0.2000000000000003,
          -0.20059942536923037,
          -0.20119770295763295,
          -0.20179483499464312,
          -0.20239082372056438,
          -0.20298567138621382,
          -0.20357938025257394,
          -0.2041719525904535,
          -0.2047633906801516,
          -0.20535369681113247,
          -0.2059428732817028,
          -0.2065309223986972,
          -0.20711784647717058,
          -0.20770364784009487,
          -0.20828832881806225,
          -0.2088718917489959,
          -0.20945433897786303,
          -0.21003567285639724,
          -0.2106158957428237,
          -0.21119501000159102,
          -0.2117730180031081,
          -0.21234992212348636,
          -0.21292572474428617,
          -0.21350042825227056,
          -0.21407403503916056,
          -0.21464654750139822,
          -0.2152179680399131,
          -0.21578829905989305,
          -0.21635754297056087,
          -0.21692570218495377,
          -0.21749277911970888,
          -0.2180587761948517,
          -0.21862369583358954,
          -0.21918754046210864,
          -0.21975031250937627,
          -0.2203120144069457,
          -0.2208726485887652,
          -0.22143221749099196,
          -0.22199072355180882,
          -0.22254816921124476,
          -0.22310455691099906,
          -0.22365988909427015,
          -0.2242141682055856,
          -0.22476739669063783,
          -0.22531957699612237,
          -0.22587071156957872,
          -0.2264208028592355,
          -0.22696985331385877,
          -0.22751786538260155,
          -0.22806484151486028,
          -0.22861078416013014,
          -0.22915569576786587,
          -0.2296995787873446,
          -0.23024243566753144,
          -0.23078426885694914,
          -0.2313250808035483,
          -0.2318648739545821,
          -0.23240365075648328,
          -0.2329414136547423,
          -0.23347816509379093,
          -0.23401390751688533,
          -0.23454864336599357,
          -0.23508237508168428,
          -0.2356151051030193,
          -0.23614683586744645,
          -0.23667756981069676,
          -0.237207309366682,
          -0.23773605696739675,
          -0.23826381504281935,
          -0.2387905860208187,
          -0.23931637232705993,
          -0.2398411763849143,
          -0.2403650006153698,
          -0.24088784743694458,
          -0.24140971926560162,
          -0.2419306185146658,
          -0.24245054759474227,
          -0.242969508913638,
          -0.24348750487628223,
          -0.24400453788465348,
          -0.24452061033770223,
          -0.24503572463128043,
          -0.2455498831580708,
          -0.24606308830751622,
          -0.24657534246575386,
          -0.24708664801554758,
          -0.24759700733622547,
          -0.24810642280361483,
          -0.2486148967899825,
          -0.24912243166397374,
          -0.24962902979055424,
          -0.2501346935309532,
          -0.2506394252426072,
          -0.2511432272791059,
          -0.25164610199013937,
          -0.25214805172144616,
          -0.2526490788147625,
          -0.253149185607774,
          -0.2536483744340673,
          -0.2541466476230827,
          -0.25464400750007044,
          -0.2551404563860439,
          -0.2556359965977385,
          -0.2561306304475689,
          -0.25662436024358803,
          -0.2571171882894472,
          -0.25760911688435706,
          -0.2581001483230513,
          -0.2585902848957472,
          -0.25907952888811336,
          -0.259567882581232,
          -0.2600553482515673,
          -0.2605419281709308,
          -0.2610276246064521,
          -0.2615124398205452,
          -0.26199637607088033,
          -0.26247943561035436,
          -0.26296162068706186,
          -0.2634429335442693,
          -0.2639233764203869,
          -0.26440295154894355,
          -0.26488166115856215,
          -0.26535950747293513,
          -0.26583649271080134,
          -0.2663126190859234,
          -0.26678788880706594,
          -0.2672623040779738,
          -0.267735867097353,
          -0.26820858005885007,
          -0.26868044515103373,
          -0.2691514645573756,
          -0.26962164045623405,
          -0.270090975020836,
          -0.2705594704192611,
          -0.2710271288144266,
          -0.2714939523640709,
          -0.2719599432207408,
          -0.2724251035317762,
          -0.2728894354392979,
          -0.27335294108019437,
          -0.2738156225861097,
          -0.27427748208343194,
          -0.27473852169328283,
          -0.2751987435315061,
          -0.27565814970865865,
          -0.27611674233000016,
          -0.27657452349548484,
          -0.2770314952997529,
          -0.2774876598321221,
          -0.2779430191765807,
          -0.27839757541178045,
          -0.2788513306110293,
          -0.2793042868422867,
          -0.27975644616815654,
          -0.28020781064588274,
          -0.2806583823273441,
          -0.2811081632590492,
          -0.28155715548213434,
          -0.28200536103235785,
          -0.28245278194009815,
          -0.28289942023034986,
          -0.2833452779227228,
          -0.2837903570314384,
          -0.2842346595653291,
          -0.2846781875278366,
          -0.2851209429170102,
          -0.2855629277255066,
          -0.2860041439405906,
          -0.28644459354413276,
          -0.28688427851261233,
          -0.2873232008171155,
          -0.2877613624233374,
          -0.2881987652915837,
          -0.2886354113767714,
          -0.28907130262843106,
          -0.28950644099070855,
          -0.2899408284023671,
          -0.29037446679679113,
          -0.2908073581019879,
          -0.2912395042405914,
          -0.2916709071298652,
          -0.29210156868170656,
          -0.2925314908026502,
          -0.29296067539387227,
          -0.2933891243511949,
          -0.29381683956509086,
          -0.29424382292068796,
          -0.294670076297775,
          -0.29509560157080617,
          -0.29552040060890605,
          -0.2959444752758774,
          -0.2963678274302046,
          -0.2967904589250615,
          -0.2972123716083165,
          -0.29763356732253965,
          -0.29805404790500944,
          -0.2984738151877184,
          -0.2988928709973824,
          -0.2993112171554452,
          -0.29972885547808803,
          -0.300145787776235,
          -0.30056201585556297,
          -0.30097754151650746,
          -0.3013923665542718,
          -0.3018064927588351,
          -0.3022199219149595,
          -0.3026326558022002,
          -0.3030446961949129,
          -0.30345604486226285,
          -0.30386670356823353,
          -0.30427667407163583,
          -0.304685958126117,
          -0.3050945574801698,
          -0.305502473877142,
          -0.3059097090552457,
          -0.306316264747567,
          -0.3067221426820751,
          -0.3071273445816338,
          -0.30753187216400824,
          -0.307935727141879,
          -0.3083389112228484,
          -0.3087414261094531,
          -0.30914327349917325,
          -0.3095444550844437,
          -0.3099449725526634,
          -0.3103448275862072,
          -0.3107440218624353,
          -0.3111425570537051,
          -0.31154043482738114,
          -0.3119376568458465,
          -0.3123342247665134,
          -0.3127301402418349,
          -0.3131254049193153,
          -0.3135200204415215,
          -0.3139139884460944,
          -0.31430731056576067,
          -0.314699988428343,
          -0.315092023656773,
          -0.31548341786910117,
          -0.3158741726785097,
          -0.31626428969332354,
          -0.3166537705170225,
          -0.3170426167482522,
          -0.3174308299808365,
          -0.31781841180378956,
          -0.3182053638013267,
          -0.3185916875528778,
          -0.31897738463309777,
          -0.31936245661187956,
          -0.3197469050543663,
          -0.3201307315209623,
          -0.3205139375673465,
          -0.32089652474448405,
          -0.32127849459863833,
          -0.32165984867138375,
          -0.32204058849961725,
          -0.32242071561557184,
          -0.32280023154682735,
          -0.3231791378163241,
          -0.3235574359423752,
          -0.3239351274386776,
          -0.3243122138143266,
          -0.3246886965738267,
          -0.3250645772171046,
          -0.3254398572395225,
          -0.325814538131889,
          -0.32618862138047344,
          -0.3265621084670167,
          -0.3269350008687457,
          -0.3273073000583846,
          -0.32767900750416723,
          -0.3280501246698515,
          -0.3284206530147298,
          -0.3287905939936432,
          -0.3291599490569941,
          -0.32952871965075736,
          -0.3298969072164951,
          -0.3302645131913676,
          -0.33063153900814746,
          -0.330997986095231,
          -0.3313638558766516,
          -0.331729149772093,
          -0.33209386919690065,
          -0.33245801556209564,
          -0.33282159027438696,
          -0.33318459473618356,
          -0.33354703034560873,
          -0.33390889849651073,
          -0.33427020057847723,
          -0.3346309379768475,
          -0.33499111207272436,
          -0.3353507242429882,
          -0.33570977586030804,
          -0.33606826829315617,
          -0.33642620290581937,
          -0.336783581058412,
          -0.3371404041068887,
          -0.33749667340305745,
          -0.33785239029459135,
          -0.3382075561250423,
          -0.33856217223385254,
          -0.33891623995636844,
          -0.33926976062385206,
          -0.33962273556349454,
          -0.33997516609842815,
          -0.3403270535477392,
          -0.34067839922648047,
          -0.34102920444568385,
          -0.34137947051237294,
          -0.3417291987295751,
          -0.3420783903963347,
          -0.34242704680772484,
          -0.3427751692548606,
          -0.34312275902491096,
          -0.3434698174011114,
          -0.3438163456627762,
          -0.3441623450853113,
          -0.34450781694022614,
          -0.3448527624951463,
          -0.34519718301382585,
          -0.34554107975615944,
          -0.345884453978195,
          -0.3462273069321461,
          -0.34656963986640354,
          -0.34691145402554835,
          -0.3472527506503633,
          -0.3475935309778463,
          -0.3479337962412209,
          -0.3482735476699499,
          -0.3486127864897469,
          -0.3489515139225884,
          -0.349289731186726,
          -0.3496274394966983,
          -0.34996464006334316,
          -0.35030133409381004,
          -0.3506375227915711,
          -0.3509732073564339,
          -0.3513083889845533,
          -0.3516430688684429,
          -0.3519772481969877,
          -0.3523109281554554,
          -0.352644109925508,
          -0.3529767946852147,
          -0.3533089836090626,
          -0.35364067786796916,
          -0.35397187862929347,
          -0.35430258705684836,
          -0.3546328043109117,
          -0.35496253154823876,
          -0.3552917699220729,
          -0.35562052058215765,
          -0.355948784674749,
          -0.35627656334262525,
          -0.35660385772510017,
          -0.35693066895803394,
          -0.35725699817384415,
          -0.35758284650151795,
          -0.3579082150666232,
          -0.35823310499131933,
          -0.35855751739437003,
          -0.35888145339115274,
          -0.3592049140936717,
          -0.35952790061056816,
          -0.3598504140471319,
          -0.3601724555053126,
          -0.3604940260837306,
          -0.36081512687768846,
          -0.3611357589791824,
          -0.3614559234769118,
          -0.3617756214562926,
          -0.3620948539994666,
          -0.3624136221853127,
          -0.3627319270894588,
          -0.3630497697842915,
          -0.3633671513389679,
          -0.3636840728194263,
          -0.3640005352883966,
          -0.3643165398054117,
          -0.36463208742681785,
          -0.3649471792057858,
          -0.3652618161923211,
          -0.36557599943327523,
          -0.3658897299723557,
          -0.36620300885013735,
          -0.36651583710407276,
          -0.366828215768502,
          -0.3671401458746646,
          -0.3674516284507088,
          -0.36776266452170303,
          -0.3680732551096453,
          -0.36838340123347457,
          -0.3686931039090807,
          -0.36900236414931464,
          -0.3693111829639991,
          -0.369619561359939,
          -0.3699275003409306,
          -0.3702350009077733,
          -0.3705420640582787,
          -0.37084869078728167,
          -0.37115488208664904,
          -0.37146063894529135,
          -0.37176596234917203,
          -0.3720708532813175,
          -0.3723753127218272,
          -0.3726793416478841,
          -0.3729829410337634,
          -0.3732861118508439,
          -0.37358885506761697,
          -0.37389117164969643,
          -0.374193062559829,
          -0.37449452875790323,
          -0.3747955712009601,
          -0.37509619084320167,
          -0.37539638863600233,
          -0.37569616552791696,
          -0.37599552246469103,
          -0.37629446038927106,
          -0.37659298024181265,
          -0.3768910829596912,
          -0.37718876947751123,
          -0.37748604072711534,
          -0.377782897637594,
          -0.3780793411352952,
          -0.3783753721438333,
          -0.3786709915840988,
          -0.3789662003742674,
          -0.3792609994298096,
          -0.37955538966349944,
          -0.37984937198542446,
          -0.38014294730299425,
          -0.38043611652094933,
          -0.3807288805413719,
          -0.381021240263693,
          -0.38131319658470275,
          -0.381604750398559,
          -0.3818959025967964,
          -0.3821866540683353,
          -0.38247700569949084,
          -0.3827669583739819,
          -0.38305651297293997,
          -0.38334567037491774,
          -0.38363443145589826,
          -0.38392279708930355,
          -0.3842107681460033,
          -0.3844983454943244,
          -0.3847855300000581,
          -0.38507232252647017,
          -0.3853587239343086,
          -0.3856447350818131,
          -0.38593035682472243,
          -0.38621559001628436,
          -0.3865004355072633,
          -0.38678489414594885,
          -0.3870689667781647,
          -0.3873526542472767,
          -0.38763595739420154,
          -0.3879188770574147,
          -0.3882014140729596,
          -0.38848356927445493,
          -0.38876534349310365,
          -0.38904673755770103,
          -0.389327752294643,
          -0.3896083885279338,
          -0.3898886470791951,
          -0.3901685287676737,
          -0.3904480344102492,
          -0.39072716482144276,
          -0.391005920813425,
          -0.3912843031960236,
          -0.3915623127767319,
          -0.3918399503607167,
          -0.392117216750826,
          -0.39239411274759695,
          -0.39267063914926403,
          -0.3929467967517668,
          -0.3932225863487575,
          -0.39349800873160923,
          -0.3937730646894231,
          -0.3940477550090369,
          -0.39432208047503226,
          -0.39459604186974206,
          -0.39486963997325897,
          -0.3951428755634422,
          -0.39541574941592583,
          -0.395688262304126,
          -0.39596041499924817,
          -0.3962322082702957,
          -0.396503642884076,
          -0.39677471960520916,
          -0.3970454391961348,
          -0.3973158024171195,
          -0.3975858100262647,
          -0.3978554627795131,
          -0.39812476143065756,
          -0.3983937067313462,
          -0.398662299431092,
          -0.3989305402772787,
          -0.3991984300151683,
          -0.3994659693879081,
          -0.39973315913653873,
          -0.40000000000000024,
          -0.4002664927151397,
          -0.40053263801671857,
          -0.4007984366374192,
          -0.40106388930785264,
          -0.4013289967565644,
          -0.4015937597100435,
          -0.40185817889272724,
          -0.4021222550270095,
          -0.4023859888332476,
          -0.4026493810297683,
          -0.40291243233287577,
          -0.403175143456858,
          -0.4034375151139932,
          -0.40369954801455754,
          -0.4039612428668309,
          -0.40422260037710445,
          -0.40448362124968673,
          -0.40474430618691115,
          -0.4050046558891418,
          -0.4052646710547806,
          -0.40552435238027373,
          -0.4057837005601186,
          -0.4060427162868697,
          -0.40630140025114614,
          -0.4065597531416374,
          -0.4068177756451099,
          -0.40707546844641396,
          -0.4073328322284898,
          -0.4075898676723746,
          -0.4078465754572077,
          -0.4081029562602385,
          -0.4083590107568317,
          -0.408614739620474,
          -0.4088701435227807,
          -0.4091252231335015,
          -0.40937997912052704,
          -0.4096344121498955,
          -0.4098885228857978,
          -0.41014231199058504,
          -0.4103957801247735,
          -0.41064892794705243,
          -0.4109017561142879,
          -0.411154265281531,
          -0.41140645610202264,
          -0.41165832922720036,
          -0.4119098853067038,
          -0.41216112498838153,
          -0.41241204891829597,
          -0.41266265774072997,
          -0.412912952098193,
          -0.41316293263142656,
          -0.4134125999794104,
          -0.4136619547793684,
          -0.4139109976667744,
          -0.4141597292753578,
          -0.41440815023710986,
          -0.41465626118228904,
          -0.41490406273942704,
          -0.41515155553533456,
          -0.41539874019510714,
          -0.41564561734213035,
          -0.415892187598086,
          -0.4161384515829579,
          -0.416384409915037,
          -0.4166300632109273,
          -0.4168754120855517,
          -0.4171204571521573,
          -0.4173651990223207,
          -0.4176096383059542,
          -0.417853775611311,
          -0.4180976115449906,
          -0.41834114671194444,
          -0.4185843817154813,
          -0.4188273171572727,
          -0.41906995363735855,
          -0.4193122917541523,
          -0.4195543321044466,
          -0.419796075283418,
          -0.4200375218846336,
          -0.4202786725000548,
          -0.42051952772004364,
          -0.4207600881333682,
          -0.4210003543272067,
          -0.4212403268871544,
          -0.42148000639722727,
          -0.4217193934398682,
          -0.4219584885959521,
          -0.4221972924447902,
          -0.4224358055641366,
          -0.4226740285301921,
          -0.42291196191761005,
          -0.42314960629950127,
          -0.4233869622474392,
          -0.4236240303314647,
          -0.42386081112009144,
          -0.4240973051803104,
          -0.4243335130775957,
          -0.42456943537590863,
          -0.4248050726377033,
          -0.4250404254239313
         ],
         "yaxis": "y"
        }
       ],
       "layout": {
        "autosize": true,
        "legend": {
         "tracegroupgap": 0
        },
        "template": {
         "data": {
          "bar": [
           {
            "error_x": {
             "color": "#2a3f5f"
            },
            "error_y": {
             "color": "#2a3f5f"
            },
            "marker": {
             "line": {
              "color": "#E5ECF6",
              "width": 0.5
             },
             "pattern": {
              "fillmode": "overlay",
              "size": 10,
              "solidity": 0.2
             }
            },
            "type": "bar"
           }
          ],
          "barpolar": [
           {
            "marker": {
             "line": {
              "color": "#E5ECF6",
              "width": 0.5
             },
             "pattern": {
              "fillmode": "overlay",
              "size": 10,
              "solidity": 0.2
             }
            },
            "type": "barpolar"
           }
          ],
          "carpet": [
           {
            "aaxis": {
             "endlinecolor": "#2a3f5f",
             "gridcolor": "white",
             "linecolor": "white",
             "minorgridcolor": "white",
             "startlinecolor": "#2a3f5f"
            },
            "baxis": {
             "endlinecolor": "#2a3f5f",
             "gridcolor": "white",
             "linecolor": "white",
             "minorgridcolor": "white",
             "startlinecolor": "#2a3f5f"
            },
            "type": "carpet"
           }
          ],
          "choropleth": [
           {
            "colorbar": {
             "outlinewidth": 0,
             "ticks": ""
            },
            "type": "choropleth"
           }
          ],
          "contour": [
           {
            "colorbar": {
             "outlinewidth": 0,
             "ticks": ""
            },
            "colorscale": [
             [
              0,
              "#0d0887"
             ],
             [
              0.1111111111111111,
              "#46039f"
             ],
             [
              0.2222222222222222,
              "#7201a8"
             ],
             [
              0.3333333333333333,
              "#9c179e"
             ],
             [
              0.4444444444444444,
              "#bd3786"
             ],
             [
              0.5555555555555556,
              "#d8576b"
             ],
             [
              0.6666666666666666,
              "#ed7953"
             ],
             [
              0.7777777777777778,
              "#fb9f3a"
             ],
             [
              0.8888888888888888,
              "#fdca26"
             ],
             [
              1,
              "#f0f921"
             ]
            ],
            "type": "contour"
           }
          ],
          "contourcarpet": [
           {
            "colorbar": {
             "outlinewidth": 0,
             "ticks": ""
            },
            "type": "contourcarpet"
           }
          ],
          "heatmap": [
           {
            "colorbar": {
             "outlinewidth": 0,
             "ticks": ""
            },
            "colorscale": [
             [
              0,
              "#0d0887"
             ],
             [
              0.1111111111111111,
              "#46039f"
             ],
             [
              0.2222222222222222,
              "#7201a8"
             ],
             [
              0.3333333333333333,
              "#9c179e"
             ],
             [
              0.4444444444444444,
              "#bd3786"
             ],
             [
              0.5555555555555556,
              "#d8576b"
             ],
             [
              0.6666666666666666,
              "#ed7953"
             ],
             [
              0.7777777777777778,
              "#fb9f3a"
             ],
             [
              0.8888888888888888,
              "#fdca26"
             ],
             [
              1,
              "#f0f921"
             ]
            ],
            "type": "heatmap"
           }
          ],
          "heatmapgl": [
           {
            "colorbar": {
             "outlinewidth": 0,
             "ticks": ""
            },
            "colorscale": [
             [
              0,
              "#0d0887"
             ],
             [
              0.1111111111111111,
              "#46039f"
             ],
             [
              0.2222222222222222,
              "#7201a8"
             ],
             [
              0.3333333333333333,
              "#9c179e"
             ],
             [
              0.4444444444444444,
              "#bd3786"
             ],
             [
              0.5555555555555556,
              "#d8576b"
             ],
             [
              0.6666666666666666,
              "#ed7953"
             ],
             [
              0.7777777777777778,
              "#fb9f3a"
             ],
             [
              0.8888888888888888,
              "#fdca26"
             ],
             [
              1,
              "#f0f921"
             ]
            ],
            "type": "heatmapgl"
           }
          ],
          "histogram": [
           {
            "marker": {
             "pattern": {
              "fillmode": "overlay",
              "size": 10,
              "solidity": 0.2
             }
            },
            "type": "histogram"
           }
          ],
          "histogram2d": [
           {
            "colorbar": {
             "outlinewidth": 0,
             "ticks": ""
            },
            "colorscale": [
             [
              0,
              "#0d0887"
             ],
             [
              0.1111111111111111,
              "#46039f"
             ],
             [
              0.2222222222222222,
              "#7201a8"
             ],
             [
              0.3333333333333333,
              "#9c179e"
             ],
             [
              0.4444444444444444,
              "#bd3786"
             ],
             [
              0.5555555555555556,
              "#d8576b"
             ],
             [
              0.6666666666666666,
              "#ed7953"
             ],
             [
              0.7777777777777778,
              "#fb9f3a"
             ],
             [
              0.8888888888888888,
              "#fdca26"
             ],
             [
              1,
              "#f0f921"
             ]
            ],
            "type": "histogram2d"
           }
          ],
          "histogram2dcontour": [
           {
            "colorbar": {
             "outlinewidth": 0,
             "ticks": ""
            },
            "colorscale": [
             [
              0,
              "#0d0887"
             ],
             [
              0.1111111111111111,
              "#46039f"
             ],
             [
              0.2222222222222222,
              "#7201a8"
             ],
             [
              0.3333333333333333,
              "#9c179e"
             ],
             [
              0.4444444444444444,
              "#bd3786"
             ],
             [
              0.5555555555555556,
              "#d8576b"
             ],
             [
              0.6666666666666666,
              "#ed7953"
             ],
             [
              0.7777777777777778,
              "#fb9f3a"
             ],
             [
              0.8888888888888888,
              "#fdca26"
             ],
             [
              1,
              "#f0f921"
             ]
            ],
            "type": "histogram2dcontour"
           }
          ],
          "mesh3d": [
           {
            "colorbar": {
             "outlinewidth": 0,
             "ticks": ""
            },
            "type": "mesh3d"
           }
          ],
          "parcoords": [
           {
            "line": {
             "colorbar": {
              "outlinewidth": 0,
              "ticks": ""
             }
            },
            "type": "parcoords"
           }
          ],
          "pie": [
           {
            "automargin": true,
            "type": "pie"
           }
          ],
          "scatter": [
           {
            "fillpattern": {
             "fillmode": "overlay",
             "size": 10,
             "solidity": 0.2
            },
            "type": "scatter"
           }
          ],
          "scatter3d": [
           {
            "line": {
             "colorbar": {
              "outlinewidth": 0,
              "ticks": ""
             }
            },
            "marker": {
             "colorbar": {
              "outlinewidth": 0,
              "ticks": ""
             }
            },
            "type": "scatter3d"
           }
          ],
          "scattercarpet": [
           {
            "marker": {
             "colorbar": {
              "outlinewidth": 0,
              "ticks": ""
             }
            },
            "type": "scattercarpet"
           }
          ],
          "scattergeo": [
           {
            "marker": {
             "colorbar": {
              "outlinewidth": 0,
              "ticks": ""
             }
            },
            "type": "scattergeo"
           }
          ],
          "scattergl": [
           {
            "marker": {
             "colorbar": {
              "outlinewidth": 0,
              "ticks": ""
             }
            },
            "type": "scattergl"
           }
          ],
          "scattermapbox": [
           {
            "marker": {
             "colorbar": {
              "outlinewidth": 0,
              "ticks": ""
             }
            },
            "type": "scattermapbox"
           }
          ],
          "scatterpolar": [
           {
            "marker": {
             "colorbar": {
              "outlinewidth": 0,
              "ticks": ""
             }
            },
            "type": "scatterpolar"
           }
          ],
          "scatterpolargl": [
           {
            "marker": {
             "colorbar": {
              "outlinewidth": 0,
              "ticks": ""
             }
            },
            "type": "scatterpolargl"
           }
          ],
          "scatterternary": [
           {
            "marker": {
             "colorbar": {
              "outlinewidth": 0,
              "ticks": ""
             }
            },
            "type": "scatterternary"
           }
          ],
          "surface": [
           {
            "colorbar": {
             "outlinewidth": 0,
             "ticks": ""
            },
            "colorscale": [
             [
              0,
              "#0d0887"
             ],
             [
              0.1111111111111111,
              "#46039f"
             ],
             [
              0.2222222222222222,
              "#7201a8"
             ],
             [
              0.3333333333333333,
              "#9c179e"
             ],
             [
              0.4444444444444444,
              "#bd3786"
             ],
             [
              0.5555555555555556,
              "#d8576b"
             ],
             [
              0.6666666666666666,
              "#ed7953"
             ],
             [
              0.7777777777777778,
              "#fb9f3a"
             ],
             [
              0.8888888888888888,
              "#fdca26"
             ],
             [
              1,
              "#f0f921"
             ]
            ],
            "type": "surface"
           }
          ],
          "table": [
           {
            "cells": {
             "fill": {
              "color": "#EBF0F8"
             },
             "line": {
              "color": "white"
             }
            },
            "header": {
             "fill": {
              "color": "#C8D4E3"
             },
             "line": {
              "color": "white"
             }
            },
            "type": "table"
           }
          ]
         },
         "layout": {
          "annotationdefaults": {
           "arrowcolor": "#2a3f5f",
           "arrowhead": 0,
           "arrowwidth": 1
          },
          "autotypenumbers": "strict",
          "coloraxis": {
           "colorbar": {
            "outlinewidth": 0,
            "ticks": ""
           }
          },
          "colorscale": {
           "diverging": [
            [
             0,
             "#8e0152"
            ],
            [
             0.1,
             "#c51b7d"
            ],
            [
             0.2,
             "#de77ae"
            ],
            [
             0.3,
             "#f1b6da"
            ],
            [
             0.4,
             "#fde0ef"
            ],
            [
             0.5,
             "#f7f7f7"
            ],
            [
             0.6,
             "#e6f5d0"
            ],
            [
             0.7,
             "#b8e186"
            ],
            [
             0.8,
             "#7fbc41"
            ],
            [
             0.9,
             "#4d9221"
            ],
            [
             1,
             "#276419"
            ]
           ],
           "sequential": [
            [
             0,
             "#0d0887"
            ],
            [
             0.1111111111111111,
             "#46039f"
            ],
            [
             0.2222222222222222,
             "#7201a8"
            ],
            [
             0.3333333333333333,
             "#9c179e"
            ],
            [
             0.4444444444444444,
             "#bd3786"
            ],
            [
             0.5555555555555556,
             "#d8576b"
            ],
            [
             0.6666666666666666,
             "#ed7953"
            ],
            [
             0.7777777777777778,
             "#fb9f3a"
            ],
            [
             0.8888888888888888,
             "#fdca26"
            ],
            [
             1,
             "#f0f921"
            ]
           ],
           "sequentialminus": [
            [
             0,
             "#0d0887"
            ],
            [
             0.1111111111111111,
             "#46039f"
            ],
            [
             0.2222222222222222,
             "#7201a8"
            ],
            [
             0.3333333333333333,
             "#9c179e"
            ],
            [
             0.4444444444444444,
             "#bd3786"
            ],
            [
             0.5555555555555556,
             "#d8576b"
            ],
            [
             0.6666666666666666,
             "#ed7953"
            ],
            [
             0.7777777777777778,
             "#fb9f3a"
            ],
            [
             0.8888888888888888,
             "#fdca26"
            ],
            [
             1,
             "#f0f921"
            ]
           ]
          },
          "colorway": [
           "#636efa",
           "#EF553B",
           "#00cc96",
           "#ab63fa",
           "#FFA15A",
           "#19d3f3",
           "#FF6692",
           "#B6E880",
           "#FF97FF",
           "#FECB52"
          ],
          "font": {
           "color": "#2a3f5f"
          },
          "geo": {
           "bgcolor": "white",
           "lakecolor": "white",
           "landcolor": "#E5ECF6",
           "showlakes": true,
           "showland": true,
           "subunitcolor": "white"
          },
          "hoverlabel": {
           "align": "left"
          },
          "hovermode": "closest",
          "mapbox": {
           "style": "light"
          },
          "paper_bgcolor": "white",
          "plot_bgcolor": "#E5ECF6",
          "polar": {
           "angularaxis": {
            "gridcolor": "white",
            "linecolor": "white",
            "ticks": ""
           },
           "bgcolor": "#E5ECF6",
           "radialaxis": {
            "gridcolor": "white",
            "linecolor": "white",
            "ticks": ""
           }
          },
          "scene": {
           "xaxis": {
            "backgroundcolor": "#E5ECF6",
            "gridcolor": "white",
            "gridwidth": 2,
            "linecolor": "white",
            "showbackground": true,
            "ticks": "",
            "zerolinecolor": "white"
           },
           "yaxis": {
            "backgroundcolor": "#E5ECF6",
            "gridcolor": "white",
            "gridwidth": 2,
            "linecolor": "white",
            "showbackground": true,
            "ticks": "",
            "zerolinecolor": "white"
           },
           "zaxis": {
            "backgroundcolor": "#E5ECF6",
            "gridcolor": "white",
            "gridwidth": 2,
            "linecolor": "white",
            "showbackground": true,
            "ticks": "",
            "zerolinecolor": "white"
           }
          },
          "shapedefaults": {
           "line": {
            "color": "#2a3f5f"
           }
          },
          "ternary": {
           "aaxis": {
            "gridcolor": "white",
            "linecolor": "white",
            "ticks": ""
           },
           "baxis": {
            "gridcolor": "white",
            "linecolor": "white",
            "ticks": ""
           },
           "bgcolor": "#E5ECF6",
           "caxis": {
            "gridcolor": "white",
            "linecolor": "white",
            "ticks": ""
           }
          },
          "title": {
           "x": 0.05
          },
          "xaxis": {
           "automargin": true,
           "gridcolor": "white",
           "linecolor": "white",
           "ticks": "",
           "title": {
            "standoff": 15
           },
           "zerolinecolor": "white",
           "zerolinewidth": 2
          },
          "yaxis": {
           "automargin": true,
           "gridcolor": "white",
           "linecolor": "white",
           "ticks": "",
           "title": {
            "standoff": 15
           },
           "zerolinecolor": "white",
           "zerolinewidth": 2
          }
         }
        },
        "title": {
         "text": "Single Token Impermanent Loss with T0 price = 100"
        },
        "xaxis": {
         "anchor": "y",
         "autorange": true,
         "domain": [
          0,
          1
         ],
         "range": [
          -58.55820415326126,
          1059.558204153262
         ],
         "title": {
          "text": "T1 Price of Token A"
         },
         "type": "linear"
        },
        "yaxis": {
         "anchor": "x",
         "autorange": true,
         "domain": [
          0,
          1
         ],
         "range": [
          -0.8555537740008818,
          0.05357357598107988
         ],
         "title": {
          "text": "Impermanent Loss"
         },
         "type": "linear"
        }
       }
      },
      "image/png": "[encoded data removed]",
      "text/html": [
       "<div>                            <div id=\"d710347a-24e7-48cf-9b22-54cf816915fa\" class=\"plotly-graph-div\" style=\"height:600px; width:100%;\"></div>            <script type=\"text/javascript\">                require([\"plotly\"], function(Plotly) {                    window.PLOTLYENV=window.PLOTLYENV || {};                                    if (document.getElementById(\"d710347a-24e7-48cf-9b22-54cf816915fa\")) {                    Plotly.newPlot(                        \"d710347a-24e7-48cf-9b22-54cf816915fa\",                        [{\"hovertemplate\":\"T1 Price of Token A=%{x}<br>Impermanent Loss=%{y}<extra></extra>\",\"legendgroup\":\"\",\"marker\":{\"color\":\"#636efa\",\"symbol\":\"circle\"},\"mode\":\"markers\",\"name\":\"\",\"orientation\":\"v\",\"showlegend\":false,\"x\":[1.0,2.0,3.0,4.0,5.0,6.0,7.0,8.0,9.000000000000014,10.000000000000014,11.000000000000014,12.000000000000014,13.000000000000014,14.000000000000014,15.000000000000014,16.000000000000014,17.000000000000014,18.000000000000014,19.000000000000014,20.000000000000014,21.000000000000014,22.000000000000014,23.000000000000014,24.00000000000003,25.00000000000003,26.00000000000003,27.00000000000003,28.00000000000003,29.00000000000003,30.00000000000003,31.00000000000003,32.00000000000003,33.00000000000003,34.00000000000003,35.00000000000003,36.00000000000003,37.000000000000036,38.000000000000036,39.000000000000036,40.000000000000036,41.000000000000036,42.000000000000036,43.000000000000036,44.00000000000004,45.00000000000004,46.00000000000004,47.00000000000004,48.00000000000004,49.00000000000004,50.00000000000004,51.00000000000004,52.00000000000004,53.00000000000005,54.00000000000005,55.00000000000005,56.00000000000005,57.00000000000005,58.00000000000005,59.00000000000005,60.00000000000006,61.00000000000006,62.00000000000006,63.00000000000006,64.00000000000006,65.00000000000006,66.00000000000006,67.00000000000006,68.00000000000006,69.00000000000006,70.00000000000006,71.00000000000006,72.00000000000006,73.00000000000006,74.00000000000006,75.00000000000007,76.00000000000007,77.00000000000007,78.00000000000007,79.00000000000007,80.00000000000007,81.00000000000007,82.00000000000007,83.00000000000007,84.00000000000007,85.00000000000007,86.00000000000007,87.00000000000009,88.00000000000009,89.00000000000009,90.00000000000009,91.00000000000009,92.00000000000009,93.00000000000009,94.00000000000009,95.00000000000009,96.00000000000009,97.00000000000009,98.00000000000009,99.00000000000009,100.00000000000009,101.00000000000009,102.00000000000009,103.00000000000009,104.00000000000009,105.0000000000001,106.0000000000001,107.0000000000001,108.0000000000001,109.0000000000001,110.0000000000001,111.0000000000001,112.0000000000001,113.0000000000001,114.0000000000001,115.0000000000001,116.0000000000001,117.0000000000001,118.00000000000011,119.00000000000011,120.00000000000011,121.00000000000011,122.00000000000011,123.00000000000011,124.00000000000011,125.00000000000011,126.00000000000011,127.00000000000011,128.0000000000001,129.0000000000001,130.0000000000001,131.0000000000001,132.0000000000001,133.0000000000001,134.0000000000001,135.0000000000001,136.0000000000001,137.0000000000001,138.0000000000001,139.0000000000001,140.0000000000001,141.0000000000001,142.0000000000001,143.0000000000001,144.0000000000001,145.0000000000001,146.0000000000001,147.0000000000001,148.0000000000001,149.00000000000014,150.00000000000014,151.00000000000014,152.00000000000014,153.00000000000014,154.00000000000014,155.00000000000014,156.00000000000014,157.00000000000014,158.00000000000014,159.00000000000014,160.00000000000014,161.00000000000014,162.00000000000014,163.00000000000014,164.00000000000014,165.00000000000014,166.00000000000014,167.00000000000014,168.00000000000014,169.00000000000017,170.00000000000017,171.00000000000017,172.00000000000017,173.00000000000017,174.00000000000017,175.00000000000017,176.00000000000017,177.00000000000017,178.00000000000017,179.00000000000017,180.00000000000017,181.00000000000017,182.00000000000017,183.00000000000017,184.00000000000017,185.00000000000017,186.00000000000017,187.00000000000017,188.00000000000017,189.00000000000017,190.00000000000017,191.00000000000017,192.00000000000017,193.00000000000017,194.00000000000017,195.00000000000017,196.00000000000017,197.00000000000017,198.00000000000017,199.00000000000017,200.00000000000017,201.00000000000017,202.00000000000017,203.00000000000017,204.0000000000002,205.00000000000017,206.00000000000017,207.00000000000017,208.00000000000023,209.00000000000017,210.00000000000017,211.00000000000017,212.00000000000023,213.00000000000017,214.00000000000017,215.00000000000017,216.00000000000023,217.0000000000002,218.00000000000017,219.0000000000002,220.00000000000023,221.0000000000002,222.00000000000017,223.0000000000002,224.00000000000023,225.0000000000002,226.00000000000017,227.0000000000002,228.00000000000023,229.0000000000002,230.00000000000017,231.0000000000002,232.00000000000023,233.0000000000002,234.0000000000002,235.0000000000002,236.00000000000023,237.0000000000002,238.0000000000002,239.0000000000002,240.00000000000023,241.00000000000023,242.0000000000002,243.00000000000023,244.00000000000023,245.00000000000023,246.0000000000002,247.00000000000023,248.00000000000026,249.00000000000023,250.0000000000002,251.00000000000023,252.00000000000026,253.00000000000023,254.0000000000002,255.00000000000023,256.0000000000002,257.0000000000002,258.0000000000002,259.0000000000002,260.0000000000002,261.0000000000002,262.0000000000002,263.0000000000002,264.0000000000002,265.0000000000002,266.0000000000002,267.0000000000002,268.0000000000002,269.0000000000002,270.0000000000002,271.0000000000002,272.0000000000002,273.0000000000002,274.0000000000002,275.0000000000002,276.0000000000002,277.0000000000002,278.0000000000002,279.0000000000002,280.0000000000003,281.0000000000002,282.0000000000002,283.0000000000002,284.0000000000003,285.0000000000002,286.0000000000002,287.0000000000002,288.0000000000003,289.0000000000002,290.0000000000002,291.0000000000002,292.0000000000003,293.0000000000002,294.0000000000002,295.0000000000002,296.0000000000003,297.0000000000002,298.0000000000002,299.0000000000002,300.0000000000002,301.0000000000002,302.0000000000002,303.0000000000003,304.0000000000003,305.0000000000002,306.0000000000002,307.0000000000003,308.0000000000003,309.0000000000002,310.0000000000002,311.0000000000003,312.0000000000003,313.0000000000002,314.0000000000002,315.00000000000034,316.0000000000003,317.0000000000002,318.0000000000002,319.00000000000034,320.0000000000003,321.0000000000002,322.0000000000002,323.00000000000034,324.0000000000003,325.0000000000002,326.0000000000002,327.00000000000034,328.0000000000003,329.0000000000003,330.0000000000002,331.00000000000034,332.0000000000003,333.0000000000003,334.0000000000002,335.00000000000034,336.0000000000003,337.0000000000003,338.0000000000002,339.00000000000034,340.00000000000034,341.0000000000003,342.0000000000002,343.00000000000034,344.00000000000034,345.0000000000003,346.0000000000002,347.00000000000034,348.00000000000034,349.0000000000003,350.0000000000002,351.00000000000034,352.00000000000034,353.0000000000003,354.0000000000003,355.00000000000034,356.00000000000034,357.0000000000003,358.0000000000003,359.00000000000034,360.00000000000034,361.0000000000003,362.0000000000003,363.00000000000034,364.00000000000034,365.0000000000003,366.0000000000003,367.00000000000034,368.00000000000034,369.0000000000003,370.0000000000003,371.00000000000034,372.00000000000034,373.0000000000003,374.0000000000003,375.00000000000034,376.00000000000034,377.00000000000034,378.0000000000003,379.00000000000034,380.00000000000034,381.00000000000034,382.0000000000003,383.00000000000034,384.00000000000034,385.00000000000034,386.0000000000003,387.00000000000034,388.00000000000034,389.00000000000034,390.0000000000003,391.00000000000034,392.00000000000034,393.00000000000034,394.0000000000003,395.0000000000004,396.00000000000034,397.00000000000034,398.0000000000003,399.0000000000004,400.00000000000034,401.00000000000034,402.00000000000034,403.0000000000003,404.00000000000034,405.00000000000034,406.00000000000034,407.0000000000004,408.00000000000034,409.00000000000034,410.00000000000034,411.0000000000003,412.00000000000034,413.00000000000034,414.00000000000034,415.0000000000004,416.00000000000034,417.00000000000034,418.00000000000034,419.0000000000003,420.0000000000004,421.00000000000034,422.00000000000034,423.0000000000004,424.0000000000004,425.00000000000034,426.00000000000034,427.00000000000034,428.0000000000004,429.00000000000034,430.00000000000034,431.0000000000004,432.0000000000004,433.00000000000034,434.00000000000034,435.00000000000034,436.0000000000004,437.00000000000034,438.00000000000034,439.0000000000004,440.0000000000004,441.00000000000034,442.00000000000034,443.00000000000034,444.0000000000004,445.0000000000004,446.00000000000034,447.0000000000004,448.0000000000004,449.0000000000004,450.00000000000034,451.00000000000034,452.0000000000004,453.0000000000004,454.00000000000034,455.00000000000045,456.0000000000004,457.0000000000004,458.00000000000034,459.00000000000034,460.0000000000004,461.0000000000004,462.00000000000034,463.00000000000045,464.0000000000004,465.0000000000004,466.00000000000034,467.00000000000034,468.0000000000004,469.0000000000004,470.0000000000004,471.00000000000045,472.0000000000004,473.0000000000004,474.0000000000004,475.00000000000034,476.0000000000004,477.0000000000004,478.0000000000004,479.00000000000045,480.00000000000045,481.0000000000004,482.0000000000004,483.00000000000034,484.00000000000045,485.0000000000004,486.0000000000004,487.00000000000045,488.00000000000045,489.0000000000004,490.0000000000004,491.00000000000034,492.00000000000045,493.0000000000004,494.0000000000004,495.00000000000045,496.00000000000045,497.0000000000004,498.0000000000004,499.0000000000004,500.00000000000045,501.0000000000004,502.0000000000004,503.00000000000045,504.00000000000045,505.00000000000045,506.0000000000004,507.0000000000004,508.00000000000045,509.00000000000045,510.0000000000004,511.00000000000045,512.0000000000005,513.0000000000005,514.0000000000005,515.0000000000005,516.0000000000005,517.0000000000005,518.0000000000005,519.0000000000005,520.0000000000005,521.0000000000005,522.0000000000005,523.0000000000005,524.0000000000005,525.0000000000005,526.0000000000005,527.0000000000005,528.0000000000005,529.0000000000005,530.0000000000005,531.0000000000005,532.0000000000005,533.0000000000005,534.0000000000005,535.0000000000005,536.0000000000005,537.0000000000005,538.0000000000005,539.0000000000005,540.0000000000005,541.0000000000005,542.0000000000005,543.0000000000005,544.0000000000005,545.0000000000005,546.0000000000005,547.0000000000005,548.0000000000005,549.0000000000005,550.0000000000005,551.0000000000005,552.0000000000005,553.0000000000005,554.0000000000005,555.0000000000005,556.0000000000005,557.0000000000005,558.0000000000005,559.0000000000005,560.0000000000005,561.0000000000005,562.0000000000005,563.0000000000005,564.0000000000005,565.0000000000005,566.0000000000005,567.0000000000005,568.0000000000005,569.0000000000005,570.0000000000005,571.0000000000005,572.0000000000005,573.0000000000005,574.0000000000005,575.0000000000005,576.0000000000005,577.0000000000005,578.0000000000005,579.0000000000005,580.0000000000005,581.0000000000005,582.0000000000005,583.0000000000006,584.0000000000005,585.0000000000005,586.0000000000005,587.0000000000005,588.0000000000005,589.0000000000005,590.0000000000005,591.0000000000006,592.0000000000005,593.0000000000005,594.0000000000005,595.0000000000005,596.0000000000005,597.0000000000005,598.0000000000005,599.0000000000006,600.0000000000005,601.0000000000005,602.0000000000005,603.0000000000005,604.0000000000005,605.0000000000005,606.0000000000005,607.0000000000006,608.0000000000006,609.0000000000005,610.0000000000005,611.0000000000005,612.0000000000006,613.0000000000006,614.0000000000005,615.0000000000006,616.0000000000006,617.0000000000006,618.0000000000005,619.0000000000005,620.0000000000006,621.0000000000006,622.0000000000005,623.0000000000006,624.0000000000006,625.0000000000006,626.0000000000005,627.0000000000005,628.0000000000006,629.0000000000006,630.0000000000006,631.0000000000006,632.0000000000006,633.0000000000006,634.0000000000006,635.0000000000005,636.0000000000006,637.0000000000006,638.0000000000006,639.0000000000006,640.0000000000006,641.0000000000006,642.0000000000006,643.0000000000005,644.0000000000006,645.0000000000006,646.0000000000006,647.0000000000006,648.0000000000006,649.0000000000006,650.0000000000006,651.0000000000005,652.0000000000006,653.0000000000006,654.0000000000006,655.0000000000006,656.0000000000006,657.0000000000006,658.0000000000006,659.0000000000006,660.0000000000006,661.0000000000006,662.0000000000006,663.0000000000006,664.0000000000006,665.0000000000006,666.0000000000006,667.0000000000006,668.0000000000006,669.0000000000006,670.0000000000006,671.0000000000006,672.0000000000006,673.0000000000006,674.0000000000006,675.0000000000006,676.0000000000006,677.0000000000006,678.0000000000006,679.0000000000007,680.0000000000006,681.0000000000006,682.0000000000006,683.0000000000006,684.0000000000006,685.0000000000006,686.0000000000006,687.0000000000007,688.0000000000006,689.0000000000006,690.0000000000006,691.0000000000006,692.0000000000006,693.0000000000006,694.0000000000006,695.0000000000007,696.0000000000006,697.0000000000006,698.0000000000006,699.0000000000006,700.0000000000006,701.0000000000006,702.0000000000006,703.0000000000007,704.0000000000007,705.0000000000006,706.0000000000006,707.0000000000006,708.0000000000007,709.0000000000006,710.0000000000006,711.0000000000007,712.0000000000007,713.0000000000006,714.0000000000006,715.0000000000006,716.0000000000007,717.0000000000006,718.0000000000006,719.0000000000007,720.0000000000007,721.0000000000006,722.0000000000006,723.0000000000006,724.0000000000007,725.0000000000006,726.0000000000006,727.0000000000007,728.0000000000007,729.0000000000007,730.0000000000006,731.0000000000006,732.0000000000007,733.0000000000007,734.0000000000006,735.0000000000007,736.0000000000007,737.0000000000007,738.0000000000006,739.0000000000006,740.0000000000007,741.0000000000007,742.0000000000006,743.0000000000007,744.0000000000007,745.0000000000007,746.0000000000006,747.0000000000006,748.0000000000007,749.0000000000007,750.0000000000006,751.0000000000007,752.0000000000007,753.0000000000007,754.0000000000007,755.0000000000006,756.0000000000007,757.0000000000007,758.0000000000007,759.0000000000007,760.0000000000007,761.0000000000007,762.0000000000007,763.0000000000006,764.0000000000007,765.0000000000007,766.0000000000007,767.0000000000007,768.0000000000007,769.0000000000007,770.0000000000007,771.0000000000006,772.0000000000007,773.0000000000007,774.0000000000007,775.0000000000007,776.0000000000007,777.0000000000007,778.0000000000007,779.0000000000007,780.0000000000007,781.0000000000007,782.0000000000007,783.0000000000007,784.0000000000007,785.0000000000007,786.0000000000007,787.0000000000007,788.0000000000007,789.0000000000007,790.0000000000007,791.0000000000007,792.0000000000007,793.0000000000007,794.0000000000007,795.0000000000007,796.0000000000007,797.0000000000007,798.0000000000007,799.0000000000007,800.0000000000007,801.0000000000007,802.0000000000007,803.0000000000007,804.0000000000007,805.0000000000006,806.0000000000008,807.0000000000007,808.0000000000007,809.0000000000007,810.0000000000007,811.0000000000007,812.0000000000007,813.0000000000008,814.0000000000008,815.0000000000008,816.0000000000007,817.0000000000007,818.0000000000007,819.0000000000007,820.0000000000007,821.0000000000006,822.0000000000008,823.0000000000008,824.0000000000007,825.0000000000007,826.0000000000007,827.0000000000007,828.0000000000007,829.0000000000008,830.0000000000008,831.0000000000008,832.0000000000007,833.0000000000007,834.0000000000007,835.0000000000007,836.0000000000007,837.0000000000007,838.0000000000008,839.0000000000008,840.0000000000008,841.0000000000007,842.0000000000007,843.0000000000007,844.0000000000007,845.0000000000008,846.0000000000008,847.0000000000008,848.0000000000008,849.0000000000007,850.0000000000007,851.0000000000007,852.0000000000007,853.0000000000007,854.0000000000008,855.0000000000008,856.0000000000008,857.0000000000007,858.0000000000007,859.0000000000007,860.0000000000007,861.0000000000008,862.0000000000008,863.0000000000008,864.0000000000008,865.0000000000008,866.0000000000007,867.0000000000007,868.0000000000007,869.0000000000007,870.0000000000008,871.0000000000008,872.0000000000008,873.0000000000008,874.0000000000007,875.0000000000007,876.0000000000007,877.0000000000008,878.0000000000008,879.0000000000008,880.0000000000008,881.0000000000008,882.0000000000007,883.0000000000007,884.0000000000007,885.0000000000007,886.0000000000008,887.0000000000008,888.0000000000008,889.0000000000008,890.0000000000008,891.0000000000007,892.0000000000007,893.0000000000009,894.0000000000008,895.0000000000008,896.0000000000008,897.0000000000008,898.0000000000008,899.0000000000007,900.0000000000007,901.0000000000007,902.0000000000008,903.0000000000008,904.0000000000008,905.0000000000008,906.0000000000008,907.0000000000007,908.0000000000007,909.0000000000009,910.0000000000009,911.0000000000008,912.0000000000008,913.0000000000008,914.0000000000008,915.0000000000008,916.0000000000007,917.0000000000007,918.0000000000009,919.0000000000008,920.0000000000008,921.0000000000008,922.0000000000008,923.0000000000008,924.0000000000007,925.0000000000009,926.0000000000009,927.0000000000008,928.0000000000008,929.0000000000008,930.0000000000008,931.0000000000008,932.0000000000007,933.0000000000007,934.0000000000009,935.0000000000009,936.0000000000008,937.0000000000008,938.0000000000008,939.0000000000008,940.0000000000008,941.0000000000009,942.0000000000009,943.0000000000009,944.0000000000008,945.0000000000008,946.0000000000008,947.0000000000008,948.0000000000008,949.0000000000007,950.0000000000009,951.0000000000009,952.0000000000008,953.0000000000008,954.0000000000008,955.0000000000008,956.0000000000008,957.0000000000009,958.0000000000009,959.0000000000009,960.0000000000009,961.0000000000008,962.0000000000008,963.0000000000008,964.0000000000008,965.0000000000008,966.0000000000009,967.0000000000009,968.0000000000009,969.0000000000008,970.0000000000008,971.0000000000008,972.0000000000008,973.0000000000009,974.0000000000009,975.0000000000009,976.0000000000009,977.0000000000008,978.0000000000008,979.0000000000008,980.0000000000008,981.0000000000008,982.0000000000009,983.0000000000009,984.0000000000009,985.0000000000009,986.0000000000008,987.0000000000008,988.0000000000008,989.0000000000009,990.0000000000009,991.0000000000009,992.0000000000009,993.0000000000009,994.0000000000008,995.0000000000008,996.0000000000008,997.0000000000008,998.0000000000009,999.0000000000009,1000.0000000000009],\"xaxis\":\"x\",\"y\":[-0.8019801980198019,-0.7227032230640988,-0.6636794548409946,-0.6153846153846152,-0.5740822900000399,-0.5378321240031738,-0.505467044660824,-0.47621719912107563,-0.44954128440366947,-0.4250404254239307,-0.4024099476837115,-0.3814104258682579,-0.36184933177628487,-0.3435688795133435,-0.32643767892044906,-0.31034482758620663,-0.29519561955253637,-0.2809083581153752,-0.26741194226207143,-0.2546440075000699,-0.24254947190812526,-0.23107938363550318,-0.22018999620931368,-0.2098420184570391,-0.19999999999999984,-0.19063182323924022,-0.1817082798887193,-0.17320271529231523,-0.1650907275760457,-0.15734991153051348,-0.14995963926259193,-0.14290087128903306,-0.13615599300179992,-0.12970867241114903,-0.12354373583709377,-0.11764705882352922,-0.11200547002945671,-0.10660666623638004,-0.10143913692109352,-0.0964920970947486,-0.09175542731448949,-0.08721961994255467,-0.08287573086685285,-0.07871533601238878,-0.07473049206905236,-0.0709137009417441,-0.0672578774964564,-0.06375632023303912,-0.06040268456375841,-0.05719095841793642,-0.05411543992809931,-0.05117071698316056,-0.04835164846006279,-0.04565334696759282,-0.043071162955398146,-0.04060067005796364,-0.03823765155786618,-0.03597808786532786,-0.03381814492218771,-0.031754163448145745,-0.029782648955694935,-0.027900262467677628,-0.026103811878064542,-0.024390243902438935,-0.022756636569872812,-0.021200192212534663,-0.019718230913478907,-0.018308184376747305,-0.016967590187209947,-0.0156940864304993,-0.0144854066460397,-0.01333937508853833,-0.012253902275429884,-0.011226980799697972,-0.010256681389212874,-0.00934114919530149,-0.008478600294675398,-0.007667318390129463,-0.0069056516965821935,-0.006192010000093395,-0.005524861878453136,-0.004902732072811444,-0.004324199000623086,-0.003787892400904158,-0.0032924911034716287,-0.002836720914440538,-0.0024193526108220453,-0.0020392000375684116,-0.0016951183008885318,-0.001386002052090718,-0.0011107838566013495,-0.000868432643183481,-0.0006579522287093464,-0.0004783799141589995,-0.00032878514779843826,-0.00020826825176400998,-0.00011595920851736885,-5.1016503872403085e-05,-1.2626023497497307e-05,0.0,-1.237600787151738e-05,-4.9016003754731585e-05,-0.00010920540963366143,-0.00019225223670882308,-0.00029748624784409206,-0.0004242581566019643,-0.0005719388610048171,-0.0007399187102632432,-0.0009276068028183371,-0.0011344303141413992,-0.001359833852820902,-0.001603278843550826,-0.0018642429357138557,-0.002142219436326198,-0.0024367167661760725,-0.002747257938054748,-0.003073380056039854,-0.0034146338348426397,-0.0037705831382910393,-0.004140804536061804,-0.00452488687782826,-0.004922430884030438,-0.00533304875251861,-0.00575636378035338,-0.006192010000093728,-0.006639631829927106,-0.0070988837370355995,-0.00756942991361742,-0.00805094396501782,-0.008543108609445405,-0.00904561538877946,-0.009558164389995016,-0.010080463976755882,-0.01061223053075,-0.011153188202361886,-0.011703068670288252,-0.01226161090973632,-0.012828560968846214,-0.013403671753004498,-0.013986702816730756,-0.01457742016282848,-0.015175596048513595,-0.01578100879823896,-0.01639344262295095,-0.017012687445526975,-0.017638538732148823,-0.018270797329381527,-0.018909269306738863,-0.01955376580452184,-0.020204102886728803,-0.0208601013988442,-0.02152158683032135,-0.022188389181582502,-0.022860342835365532,-0.023537286432256388,-0.02421906275025032,-0.024905518588197118,-0.02559650465298191,-0.026291875450309643,-0.026991489178960215,-0.027695207628389396,-0.028402896079553153,-0.029114423208843943,-0.029829660995023155,-0.030548484629046913,-0.031270772426682414,-0.031996405743813905,-0.032725268894349346,-0.03345724907063219,-0.03419223626627432,-0.034930123201327046,-0.035670805249705784,-0.03641418036879829,-0.03716014903117393,-0.0379086141583308,-0.03865948105640604,-0.03941265735378563,-0.04016805294055159,-0.04092557990970236,-0.041685152500090306,-0.042446687041017284,-0.04321010189843688,-0.043975317422708216,-0.04474225589784975,-0.04551084149224982,-0.04628100021077952,-0.047052659848268896,-0.047825749944299556,-0.04860020173927204,-0.04937594813170898,-0.0501529236367525,-0.05093106434582073,-0.05171030788738551,-0.05249059338883555,-0.053271861439393886,-0.05405405405405428,-0.05483711463850527,-0.055620987955014356,-0.05640562008923877,-0.057190958417936755,-0.05797695157755334,-0.058763549433649476,-0.05955070305115495,-0.060338364665414757,-0.06112648765400985,-0.061915026509325455,-0.0627039368118465,-0.06349317520415876,-0.06428269936563391,-0.06507246798777833,-0.06586244075022851,-0.06665257829736959,-0.06744284221556418,-0.0682331950109687,-0.06902360008792541,-0.0698140217279073,-0.07060442506900744,-0.0713947760859498,-0.0721850415706119,-0.07297518911304235,-0.07376518708295943,-0.07455500461171805,-0.07534461157473227,-0.07613397857433557,-0.07692307692307698,-0.07771187862742923,-0.07850035637190456,-0.07928848350356743,-0.08007623401692698,-0.08086358253920611,-0.0816505043159722,-0.08243697519711946,-0.08322297162319858,-0.08400847061207473,-0.0847934497459173,-0.08557788715849934,-0.08636176152281005,-0.08714505203896394,-0.08792773842240087,-0.08870980089237279,-0.08949122016070266,-0.09027197742081627,-0.09105205433703256,-0.09183143303411001,-0.09261009608704207,-0.09338802651109146,-0.09416520775206305,-0.09494162367680359,-0.09571725856392566,-0.09649209709474882,-0.09726612434445259,-0.09803932577343522,-0.09881168721887468,-0.0995831948864846,-0.10035383534246156,-0.10112359550561811,-0.10189246263969776,-0.10266042434586542,-0.10342746855537166,-0.10419358352238373,-0.10495875781698016,-0.10572298031830707,-0.106486240207887,-0.10724852696308129,-0.10800983035070133,-0.10877014042076028,-0.10952944750037119,-0.11028774218777737,-0.11104501534651912,-0.11180125809973063,-0.1125564618245648,-0.11331061814673982,-0.11406371893521183,-0.11481575629696006,-0.1155667225718936,-0.11631661032786456,-0.1170654123557966,-0.11781312166491742,-0.11855973147809717,-0.1193052352272892,-0.12004962654907048,-0.12079289928027959,-0.12153504745374843,-0.12227606529412938,-0.1230159472138117,-0.12375468780892429,-0.12449228185543104,-0.1252287243053023,-0.12596401028277648,-0.12669813508069772,-0.1274310941569321,-0.12816288313086444,-0.12889349777996506,-0.1296229340364342,-0.13035118798391565,-0.13107825585428046,-0.13180413402447944,-0.13252881901346414,-0.13325230747916916,-0.13397459621556151,-0.13469568214975214,-0.13541556233916607,-0.13613423396877378,-0.13685169434838174,-0.1375679409099766,-0.13828297120512822,-0.13899678290244577,-0.1397093737850862,-0.14042074174831576,-0.14113088479712177,-0.14183980104387373,-0.1425474887060345,-0.14325394610391629,-0.1439591716584856,-0.1446631638892123,-0.14536592141196292,-0.14606744293693763,-0.14676772726665055,-0.14746677329395008,-0.14816458000008026,-0.14886114645278337,-0.1495564718044381,-0.15025055529024012,-0.15094339622641528,-0.15163499400847336,-0.1523253481094936,-0.15301445807844882,-0.1537023235385594,-0.15438894418568516,-0.15507431978674657,-0.1557584501781789,-0.15644133526441706,-0.15712297501641326,-0.1578033694701816,-0.15848251872537378,-0.15916042294388266,-0.15983708234847538,-0.16051249722145067,-0.16118666790332736,-0.16185959479155598,-0.16253127833925707,-0.1632017190539854,-0.16387091749651783,-0.1645388742796665,-0.16520559006711444,-0.16587106557227493,-0.16653530155717444,-0.16719829883135606,-0.1678600582508062,-0.16852058071690212,-0.1691798671753797,-0.1698379186153226,-0.1704947360681709,-0.17115032060675006,-0.17180467334431793,-0.1724577954336315,-0.17310968806603155,-0.173760352470546,-0.17440978991301037,-0.1750580016952057,-0.17570498915401322,-0.17635075366058683,-0.17699529661954005,-0.17763861946815052,-0.17828072367557868,-0.17892161074210355,-0.17956128219837209,-0.1801997396046635,-0.18083698455016883,-0.1814730186522835,-0.18210784355591436,-0.18274146093280064,-0.18337387248084736,-0.18400507992347204,-0.18463508500896508,-0.18526388950986095,-0.18589149522232307,-0.1865179039655408,-0.18714311758113655,-0.1877671379325866,-0.1883899669046516,-0.18901160640281922,-0.18963205835275687,-0.19025132469977601,-0.19086940740830605,-0.19148630846137882,-0.19210202986012337,-0.19271657362327044,-0.19332994178666607,-0.19394213640279623,-0.1945531595403185,-0.19516301328360475,-0.19577169973229192,-0.19637922100084204,-0.19698557921810977,-0.1975907765269196,-0.19819481508365122,-0.19879769705783146,-0.19939942463173665,-0.2000000000000003,-0.20059942536923037,-0.20119770295763295,-0.20179483499464312,-0.20239082372056438,-0.20298567138621382,-0.20357938025257394,-0.2041719525904535,-0.2047633906801516,-0.20535369681113247,-0.2059428732817028,-0.2065309223986972,-0.20711784647717058,-0.20770364784009487,-0.20828832881806225,-0.2088718917489959,-0.20945433897786303,-0.21003567285639724,-0.2106158957428237,-0.21119501000159102,-0.2117730180031081,-0.21234992212348636,-0.21292572474428617,-0.21350042825227056,-0.21407403503916056,-0.21464654750139822,-0.2152179680399131,-0.21578829905989305,-0.21635754297056087,-0.21692570218495377,-0.21749277911970888,-0.2180587761948517,-0.21862369583358954,-0.21918754046210864,-0.21975031250937627,-0.2203120144069457,-0.2208726485887652,-0.22143221749099196,-0.22199072355180882,-0.22254816921124476,-0.22310455691099906,-0.22365988909427015,-0.2242141682055856,-0.22476739669063783,-0.22531957699612237,-0.22587071156957872,-0.2264208028592355,-0.22696985331385877,-0.22751786538260155,-0.22806484151486028,-0.22861078416013014,-0.22915569576786587,-0.2296995787873446,-0.23024243566753144,-0.23078426885694914,-0.2313250808035483,-0.2318648739545821,-0.23240365075648328,-0.2329414136547423,-0.23347816509379093,-0.23401390751688533,-0.23454864336599357,-0.23508237508168428,-0.2356151051030193,-0.23614683586744645,-0.23667756981069676,-0.237207309366682,-0.23773605696739675,-0.23826381504281935,-0.2387905860208187,-0.23931637232705993,-0.2398411763849143,-0.2403650006153698,-0.24088784743694458,-0.24140971926560162,-0.2419306185146658,-0.24245054759474227,-0.242969508913638,-0.24348750487628223,-0.24400453788465348,-0.24452061033770223,-0.24503572463128043,-0.2455498831580708,-0.24606308830751622,-0.24657534246575386,-0.24708664801554758,-0.24759700733622547,-0.24810642280361483,-0.2486148967899825,-0.24912243166397374,-0.24962902979055424,-0.2501346935309532,-0.2506394252426072,-0.2511432272791059,-0.25164610199013937,-0.25214805172144616,-0.2526490788147625,-0.253149185607774,-0.2536483744340673,-0.2541466476230827,-0.25464400750007044,-0.2551404563860439,-0.2556359965977385,-0.2561306304475689,-0.25662436024358803,-0.2571171882894472,-0.25760911688435706,-0.2581001483230513,-0.2585902848957472,-0.25907952888811336,-0.259567882581232,-0.2600553482515673,-0.2605419281709308,-0.2610276246064521,-0.2615124398205452,-0.26199637607088033,-0.26247943561035436,-0.26296162068706186,-0.2634429335442693,-0.2639233764203869,-0.26440295154894355,-0.26488166115856215,-0.26535950747293513,-0.26583649271080134,-0.2663126190859234,-0.26678788880706594,-0.2672623040779738,-0.267735867097353,-0.26820858005885007,-0.26868044515103373,-0.2691514645573756,-0.26962164045623405,-0.270090975020836,-0.2705594704192611,-0.2710271288144266,-0.2714939523640709,-0.2719599432207408,-0.2724251035317762,-0.2728894354392979,-0.27335294108019437,-0.2738156225861097,-0.27427748208343194,-0.27473852169328283,-0.2751987435315061,-0.27565814970865865,-0.27611674233000016,-0.27657452349548484,-0.2770314952997529,-0.2774876598321221,-0.2779430191765807,-0.27839757541178045,-0.2788513306110293,-0.2793042868422867,-0.27975644616815654,-0.28020781064588274,-0.2806583823273441,-0.2811081632590492,-0.28155715548213434,-0.28200536103235785,-0.28245278194009815,-0.28289942023034986,-0.2833452779227228,-0.2837903570314384,-0.2842346595653291,-0.2846781875278366,-0.2851209429170102,-0.2855629277255066,-0.2860041439405906,-0.28644459354413276,-0.28688427851261233,-0.2873232008171155,-0.2877613624233374,-0.2881987652915837,-0.2886354113767714,-0.28907130262843106,-0.28950644099070855,-0.2899408284023671,-0.29037446679679113,-0.2908073581019879,-0.2912395042405914,-0.2916709071298652,-0.29210156868170656,-0.2925314908026502,-0.29296067539387227,-0.2933891243511949,-0.29381683956509086,-0.29424382292068796,-0.294670076297775,-0.29509560157080617,-0.29552040060890605,-0.2959444752758774,-0.2963678274302046,-0.2967904589250615,-0.2972123716083165,-0.29763356732253965,-0.29805404790500944,-0.2984738151877184,-0.2988928709973824,-0.2993112171554452,-0.29972885547808803,-0.300145787776235,-0.30056201585556297,-0.30097754151650746,-0.3013923665542718,-0.3018064927588351,-0.3022199219149595,-0.3026326558022002,-0.3030446961949129,-0.30345604486226285,-0.30386670356823353,-0.30427667407163583,-0.304685958126117,-0.3050945574801698,-0.305502473877142,-0.3059097090552457,-0.306316264747567,-0.3067221426820751,-0.3071273445816338,-0.30753187216400824,-0.307935727141879,-0.3083389112228484,-0.3087414261094531,-0.30914327349917325,-0.3095444550844437,-0.3099449725526634,-0.3103448275862072,-0.3107440218624353,-0.3111425570537051,-0.31154043482738114,-0.3119376568458465,-0.3123342247665134,-0.3127301402418349,-0.3131254049193153,-0.3135200204415215,-0.3139139884460944,-0.31430731056576067,-0.314699988428343,-0.315092023656773,-0.31548341786910117,-0.3158741726785097,-0.31626428969332354,-0.3166537705170225,-0.3170426167482522,-0.3174308299808365,-0.31781841180378956,-0.3182053638013267,-0.3185916875528778,-0.31897738463309777,-0.31936245661187956,-0.3197469050543663,-0.3201307315209623,-0.3205139375673465,-0.32089652474448405,-0.32127849459863833,-0.32165984867138375,-0.32204058849961725,-0.32242071561557184,-0.32280023154682735,-0.3231791378163241,-0.3235574359423752,-0.3239351274386776,-0.3243122138143266,-0.3246886965738267,-0.3250645772171046,-0.3254398572395225,-0.325814538131889,-0.32618862138047344,-0.3265621084670167,-0.3269350008687457,-0.3273073000583846,-0.32767900750416723,-0.3280501246698515,-0.3284206530147298,-0.3287905939936432,-0.3291599490569941,-0.32952871965075736,-0.3298969072164951,-0.3302645131913676,-0.33063153900814746,-0.330997986095231,-0.3313638558766516,-0.331729149772093,-0.33209386919690065,-0.33245801556209564,-0.33282159027438696,-0.33318459473618356,-0.33354703034560873,-0.33390889849651073,-0.33427020057847723,-0.3346309379768475,-0.33499111207272436,-0.3353507242429882,-0.33570977586030804,-0.33606826829315617,-0.33642620290581937,-0.336783581058412,-0.3371404041068887,-0.33749667340305745,-0.33785239029459135,-0.3382075561250423,-0.33856217223385254,-0.33891623995636844,-0.33926976062385206,-0.33962273556349454,-0.33997516609842815,-0.3403270535477392,-0.34067839922648047,-0.34102920444568385,-0.34137947051237294,-0.3417291987295751,-0.3420783903963347,-0.34242704680772484,-0.3427751692548606,-0.34312275902491096,-0.3434698174011114,-0.3438163456627762,-0.3441623450853113,-0.34450781694022614,-0.3448527624951463,-0.34519718301382585,-0.34554107975615944,-0.345884453978195,-0.3462273069321461,-0.34656963986640354,-0.34691145402554835,-0.3472527506503633,-0.3475935309778463,-0.3479337962412209,-0.3482735476699499,-0.3486127864897469,-0.3489515139225884,-0.349289731186726,-0.3496274394966983,-0.34996464006334316,-0.35030133409381004,-0.3506375227915711,-0.3509732073564339,-0.3513083889845533,-0.3516430688684429,-0.3519772481969877,-0.3523109281554554,-0.352644109925508,-0.3529767946852147,-0.3533089836090626,-0.35364067786796916,-0.35397187862929347,-0.35430258705684836,-0.3546328043109117,-0.35496253154823876,-0.3552917699220729,-0.35562052058215765,-0.355948784674749,-0.35627656334262525,-0.35660385772510017,-0.35693066895803394,-0.35725699817384415,-0.35758284650151795,-0.3579082150666232,-0.35823310499131933,-0.35855751739437003,-0.35888145339115274,-0.3592049140936717,-0.35952790061056816,-0.3598504140471319,-0.3601724555053126,-0.3604940260837306,-0.36081512687768846,-0.3611357589791824,-0.3614559234769118,-0.3617756214562926,-0.3620948539994666,-0.3624136221853127,-0.3627319270894588,-0.3630497697842915,-0.3633671513389679,-0.3636840728194263,-0.3640005352883966,-0.3643165398054117,-0.36463208742681785,-0.3649471792057858,-0.3652618161923211,-0.36557599943327523,-0.3658897299723557,-0.36620300885013735,-0.36651583710407276,-0.366828215768502,-0.3671401458746646,-0.3674516284507088,-0.36776266452170303,-0.3680732551096453,-0.36838340123347457,-0.3686931039090807,-0.36900236414931464,-0.3693111829639991,-0.369619561359939,-0.3699275003409306,-0.3702350009077733,-0.3705420640582787,-0.37084869078728167,-0.37115488208664904,-0.37146063894529135,-0.37176596234917203,-0.3720708532813175,-0.3723753127218272,-0.3726793416478841,-0.3729829410337634,-0.3732861118508439,-0.37358885506761697,-0.37389117164969643,-0.374193062559829,-0.37449452875790323,-0.3747955712009601,-0.37509619084320167,-0.37539638863600233,-0.37569616552791696,-0.37599552246469103,-0.37629446038927106,-0.37659298024181265,-0.3768910829596912,-0.37718876947751123,-0.37748604072711534,-0.377782897637594,-0.3780793411352952,-0.3783753721438333,-0.3786709915840988,-0.3789662003742674,-0.3792609994298096,-0.37955538966349944,-0.37984937198542446,-0.38014294730299425,-0.38043611652094933,-0.3807288805413719,-0.381021240263693,-0.38131319658470275,-0.381604750398559,-0.3818959025967964,-0.3821866540683353,-0.38247700569949084,-0.3827669583739819,-0.38305651297293997,-0.38334567037491774,-0.38363443145589826,-0.38392279708930355,-0.3842107681460033,-0.3844983454943244,-0.3847855300000581,-0.38507232252647017,-0.3853587239343086,-0.3856447350818131,-0.38593035682472243,-0.38621559001628436,-0.3865004355072633,-0.38678489414594885,-0.3870689667781647,-0.3873526542472767,-0.38763595739420154,-0.3879188770574147,-0.3882014140729596,-0.38848356927445493,-0.38876534349310365,-0.38904673755770103,-0.389327752294643,-0.3896083885279338,-0.3898886470791951,-0.3901685287676737,-0.3904480344102492,-0.39072716482144276,-0.391005920813425,-0.3912843031960236,-0.3915623127767319,-0.3918399503607167,-0.392117216750826,-0.39239411274759695,-0.39267063914926403,-0.3929467967517668,-0.3932225863487575,-0.39349800873160923,-0.3937730646894231,-0.3940477550090369,-0.39432208047503226,-0.39459604186974206,-0.39486963997325897,-0.3951428755634422,-0.39541574941592583,-0.395688262304126,-0.39596041499924817,-0.3962322082702957,-0.396503642884076,-0.39677471960520916,-0.3970454391961348,-0.3973158024171195,-0.3975858100262647,-0.3978554627795131,-0.39812476143065756,-0.3983937067313462,-0.398662299431092,-0.3989305402772787,-0.3991984300151683,-0.3994659693879081,-0.39973315913653873,-0.40000000000000024,-0.4002664927151397,-0.40053263801671857,-0.4007984366374192,-0.40106388930785264,-0.4013289967565644,-0.4015937597100435,-0.40185817889272724,-0.4021222550270095,-0.4023859888332476,-0.4026493810297683,-0.40291243233287577,-0.403175143456858,-0.4034375151139932,-0.40369954801455754,-0.4039612428668309,-0.40422260037710445,-0.40448362124968673,-0.40474430618691115,-0.4050046558891418,-0.4052646710547806,-0.40552435238027373,-0.4057837005601186,-0.4060427162868697,-0.40630140025114614,-0.4065597531416374,-0.4068177756451099,-0.40707546844641396,-0.4073328322284898,-0.4075898676723746,-0.4078465754572077,-0.4081029562602385,-0.4083590107568317,-0.408614739620474,-0.4088701435227807,-0.4091252231335015,-0.40937997912052704,-0.4096344121498955,-0.4098885228857978,-0.41014231199058504,-0.4103957801247735,-0.41064892794705243,-0.4109017561142879,-0.411154265281531,-0.41140645610202264,-0.41165832922720036,-0.4119098853067038,-0.41216112498838153,-0.41241204891829597,-0.41266265774072997,-0.412912952098193,-0.41316293263142656,-0.4134125999794104,-0.4136619547793684,-0.4139109976667744,-0.4141597292753578,-0.41440815023710986,-0.41465626118228904,-0.41490406273942704,-0.41515155553533456,-0.41539874019510714,-0.41564561734213035,-0.415892187598086,-0.4161384515829579,-0.416384409915037,-0.4166300632109273,-0.4168754120855517,-0.4171204571521573,-0.4173651990223207,-0.4176096383059542,-0.417853775611311,-0.4180976115449906,-0.41834114671194444,-0.4185843817154813,-0.4188273171572727,-0.41906995363735855,-0.4193122917541523,-0.4195543321044466,-0.419796075283418,-0.4200375218846336,-0.4202786725000548,-0.42051952772004364,-0.4207600881333682,-0.4210003543272067,-0.4212403268871544,-0.42148000639722727,-0.4217193934398682,-0.4219584885959521,-0.4221972924447902,-0.4224358055641366,-0.4226740285301921,-0.42291196191761005,-0.42314960629950127,-0.4233869622474392,-0.4236240303314647,-0.42386081112009144,-0.4240973051803104,-0.4243335130775957,-0.42456943537590863,-0.4248050726377033,-0.4250404254239313],\"yaxis\":\"y\",\"type\":\"scatter\"}],                        {\"template\":{\"data\":{\"histogram2dcontour\":[{\"type\":\"histogram2dcontour\",\"colorbar\":{\"outlinewidth\":0,\"ticks\":\"\"},\"colorscale\":[[0.0,\"#0d0887\"],[0.1111111111111111,\"#46039f\"],[0.2222222222222222,\"#7201a8\"],[0.3333333333333333,\"#9c179e\"],[0.4444444444444444,\"#bd3786\"],[0.5555555555555556,\"#d8576b\"],[0.6666666666666666,\"#ed7953\"],[0.7777777777777778,\"#fb9f3a\"],[0.8888888888888888,\"#fdca26\"],[1.0,\"#f0f921\"]]}],\"choropleth\":[{\"type\":\"choropleth\",\"colorbar\":{\"outlinewidth\":0,\"ticks\":\"\"}}],\"histogram2d\":[{\"type\":\"histogram2d\",\"colorbar\":{\"outlinewidth\":0,\"ticks\":\"\"},\"colorscale\":[[0.0,\"#0d0887\"],[0.1111111111111111,\"#46039f\"],[0.2222222222222222,\"#7201a8\"],[0.3333333333333333,\"#9c179e\"],[0.4444444444444444,\"#bd3786\"],[0.5555555555555556,\"#d8576b\"],[0.6666666666666666,\"#ed7953\"],[0.7777777777777778,\"#fb9f3a\"],[0.8888888888888888,\"#fdca26\"],[1.0,\"#f0f921\"]]}],\"heatmap\":[{\"type\":\"heatmap\",\"colorbar\":{\"outlinewidth\":0,\"ticks\":\"\"},\"colorscale\":[[0.0,\"#0d0887\"],[0.1111111111111111,\"#46039f\"],[0.2222222222222222,\"#7201a8\"],[0.3333333333333333,\"#9c179e\"],[0.4444444444444444,\"#bd3786\"],[0.5555555555555556,\"#d8576b\"],[0.6666666666666666,\"#ed7953\"],[0.7777777777777778,\"#fb9f3a\"],[0.8888888888888888,\"#fdca26\"],[1.0,\"#f0f921\"]]}],\"heatmapgl\":[{\"type\":\"heatmapgl\",\"colorbar\":{\"outlinewidth\":0,\"ticks\":\"\"},\"colorscale\":[[0.0,\"#0d0887\"],[0.1111111111111111,\"#46039f\"],[0.2222222222222222,\"#7201a8\"],[0.3333333333333333,\"#9c179e\"],[0.4444444444444444,\"#bd3786\"],[0.5555555555555556,\"#d8576b\"],[0.6666666666666666,\"#ed7953\"],[0.7777777777777778,\"#fb9f3a\"],[0.8888888888888888,\"#fdca26\"],[1.0,\"#f0f921\"]]}],\"contourcarpet\":[{\"type\":\"contourcarpet\",\"colorbar\":{\"outlinewidth\":0,\"ticks\":\"\"}}],\"contour\":[{\"type\":\"contour\",\"colorbar\":{\"outlinewidth\":0,\"ticks\":\"\"},\"colorscale\":[[0.0,\"#0d0887\"],[0.1111111111111111,\"#46039f\"],[0.2222222222222222,\"#7201a8\"],[0.3333333333333333,\"#9c179e\"],[0.4444444444444444,\"#bd3786\"],[0.5555555555555556,\"#d8576b\"],[0.6666666666666666,\"#ed7953\"],[0.7777777777777778,\"#fb9f3a\"],[0.8888888888888888,\"#fdca26\"],[1.0,\"#f0f921\"]]}],\"surface\":[{\"type\":\"surface\",\"colorbar\":{\"outlinewidth\":0,\"ticks\":\"\"},\"colorscale\":[[0.0,\"#0d0887\"],[0.1111111111111111,\"#46039f\"],[0.2222222222222222,\"#7201a8\"],[0.3333333333333333,\"#9c179e\"],[0.4444444444444444,\"#bd3786\"],[0.5555555555555556,\"#d8576b\"],[0.6666666666666666,\"#ed7953\"],[0.7777777777777778,\"#fb9f3a\"],[0.8888888888888888,\"#fdca26\"],[1.0,\"#f0f921\"]]}],\"mesh3d\":[{\"type\":\"mesh3d\",\"colorbar\":{\"outlinewidth\":0,\"ticks\":\"\"}}],\"scatter\":[{\"fillpattern\":{\"fillmode\":\"overlay\",\"size\":10,\"solidity\":0.2},\"type\":\"scatter\"}],\"parcoords\":[{\"type\":\"parcoords\",\"line\":{\"colorbar\":{\"outlinewidth\":0,\"ticks\":\"\"}}}],\"scatterpolargl\":[{\"type\":\"scatterpolargl\",\"marker\":{\"colorbar\":{\"outlinewidth\":0,\"ticks\":\"\"}}}],\"bar\":[{\"error_x\":{\"color\":\"#2a3f5f\"},\"error_y\":{\"color\":\"#2a3f5f\"},\"marker\":{\"line\":{\"color\":\"#E5ECF6\",\"width\":0.5},\"pattern\":{\"fillmode\":\"overlay\",\"size\":10,\"solidity\":0.2}},\"type\":\"bar\"}],\"scattergeo\":[{\"type\":\"scattergeo\",\"marker\":{\"colorbar\":{\"outlinewidth\":0,\"ticks\":\"\"}}}],\"scatterpolar\":[{\"type\":\"scatterpolar\",\"marker\":{\"colorbar\":{\"outlinewidth\":0,\"ticks\":\"\"}}}],\"histogram\":[{\"marker\":{\"pattern\":{\"fillmode\":\"overlay\",\"size\":10,\"solidity\":0.2}},\"type\":\"histogram\"}],\"scattergl\":[{\"type\":\"scattergl\",\"marker\":{\"colorbar\":{\"outlinewidth\":0,\"ticks\":\"\"}}}],\"scatter3d\":[{\"type\":\"scatter3d\",\"line\":{\"colorbar\":{\"outlinewidth\":0,\"ticks\":\"\"}},\"marker\":{\"colorbar\":{\"outlinewidth\":0,\"ticks\":\"\"}}}],\"scattermapbox\":[{\"type\":\"scattermapbox\",\"marker\":{\"colorbar\":{\"outlinewidth\":0,\"ticks\":\"\"}}}],\"scatterternary\":[{\"type\":\"scatterternary\",\"marker\":{\"colorbar\":{\"outlinewidth\":0,\"ticks\":\"\"}}}],\"scattercarpet\":[{\"type\":\"scattercarpet\",\"marker\":{\"colorbar\":{\"outlinewidth\":0,\"ticks\":\"\"}}}],\"carpet\":[{\"aaxis\":{\"endlinecolor\":\"#2a3f5f\",\"gridcolor\":\"white\",\"linecolor\":\"white\",\"minorgridcolor\":\"white\",\"startlinecolor\":\"#2a3f5f\"},\"baxis\":{\"endlinecolor\":\"#2a3f5f\",\"gridcolor\":\"white\",\"linecolor\":\"white\",\"minorgridcolor\":\"white\",\"startlinecolor\":\"#2a3f5f\"},\"type\":\"carpet\"}],\"table\":[{\"cells\":{\"fill\":{\"color\":\"#EBF0F8\"},\"line\":{\"color\":\"white\"}},\"header\":{\"fill\":{\"color\":\"#C8D4E3\"},\"line\":{\"color\":\"white\"}},\"type\":\"table\"}],\"barpolar\":[{\"marker\":{\"line\":{\"color\":\"#E5ECF6\",\"width\":0.5},\"pattern\":{\"fillmode\":\"overlay\",\"size\":10,\"solidity\":0.2}},\"type\":\"barpolar\"}],\"pie\":[{\"automargin\":true,\"type\":\"pie\"}]},\"layout\":{\"autotypenumbers\":\"strict\",\"colorway\":[\"#636efa\",\"#EF553B\",\"#00cc96\",\"#ab63fa\",\"#FFA15A\",\"#19d3f3\",\"#FF6692\",\"#B6E880\",\"#FF97FF\",\"#FECB52\"],\"font\":{\"color\":\"#2a3f5f\"},\"hovermode\":\"closest\",\"hoverlabel\":{\"align\":\"left\"},\"paper_bgcolor\":\"white\",\"plot_bgcolor\":\"#E5ECF6\",\"polar\":{\"bgcolor\":\"#E5ECF6\",\"angularaxis\":{\"gridcolor\":\"white\",\"linecolor\":\"white\",\"ticks\":\"\"},\"radialaxis\":{\"gridcolor\":\"white\",\"linecolor\":\"white\",\"ticks\":\"\"}},\"ternary\":{\"bgcolor\":\"#E5ECF6\",\"aaxis\":{\"gridcolor\":\"white\",\"linecolor\":\"white\",\"ticks\":\"\"},\"baxis\":{\"gridcolor\":\"white\",\"linecolor\":\"white\",\"ticks\":\"\"},\"caxis\":{\"gridcolor\":\"white\",\"linecolor\":\"white\",\"ticks\":\"\"}},\"coloraxis\":{\"colorbar\":{\"outlinewidth\":0,\"ticks\":\"\"}},\"colorscale\":{\"sequential\":[[0.0,\"#0d0887\"],[0.1111111111111111,\"#46039f\"],[0.2222222222222222,\"#7201a8\"],[0.3333333333333333,\"#9c179e\"],[0.4444444444444444,\"#bd3786\"],[0.5555555555555556,\"#d8576b\"],[0.6666666666666666,\"#ed7953\"],[0.7777777777777778,\"#fb9f3a\"],[0.8888888888888888,\"#fdca26\"],[1.0,\"#f0f921\"]],\"sequentialminus\":[[0.0,\"#0d0887\"],[0.1111111111111111,\"#46039f\"],[0.2222222222222222,\"#7201a8\"],[0.3333333333333333,\"#9c179e\"],[0.4444444444444444,\"#bd3786\"],[0.5555555555555556,\"#d8576b\"],[0.6666666666666666,\"#ed7953\"],[0.7777777777777778,\"#fb9f3a\"],[0.8888888888888888,\"#fdca26\"],[1.0,\"#f0f921\"]],\"diverging\":[[0,\"#8e0152\"],[0.1,\"#c51b7d\"],[0.2,\"#de77ae\"],[0.3,\"#f1b6da\"],[0.4,\"#fde0ef\"],[0.5,\"#f7f7f7\"],[0.6,\"#e6f5d0\"],[0.7,\"#b8e186\"],[0.8,\"#7fbc41\"],[0.9,\"#4d9221\"],[1,\"#276419\"]]},\"xaxis\":{\"gridcolor\":\"white\",\"linecolor\":\"white\",\"ticks\":\"\",\"title\":{\"standoff\":15},\"zerolinecolor\":\"white\",\"automargin\":true,\"zerolinewidth\":2},\"yaxis\":{\"gridcolor\":\"white\",\"linecolor\":\"white\",\"ticks\":\"\",\"title\":{\"standoff\":15},\"zerolinecolor\":\"white\",\"automargin\":true,\"zerolinewidth\":2},\"scene\":{\"xaxis\":{\"backgroundcolor\":\"#E5ECF6\",\"gridcolor\":\"white\",\"linecolor\":\"white\",\"showbackground\":true,\"ticks\":\"\",\"zerolinecolor\":\"white\",\"gridwidth\":2},\"yaxis\":{\"backgroundcolor\":\"#E5ECF6\",\"gridcolor\":\"white\",\"linecolor\":\"white\",\"showbackground\":true,\"ticks\":\"\",\"zerolinecolor\":\"white\",\"gridwidth\":2},\"zaxis\":{\"backgroundcolor\":\"#E5ECF6\",\"gridcolor\":\"white\",\"linecolor\":\"white\",\"showbackground\":true,\"ticks\":\"\",\"zerolinecolor\":\"white\",\"gridwidth\":2}},\"shapedefaults\":{\"line\":{\"color\":\"#2a3f5f\"}},\"annotationdefaults\":{\"arrowcolor\":\"#2a3f5f\",\"arrowhead\":0,\"arrowwidth\":1},\"geo\":{\"bgcolor\":\"white\",\"landcolor\":\"#E5ECF6\",\"subunitcolor\":\"white\",\"showland\":true,\"showlakes\":true,\"lakecolor\":\"white\"},\"title\":{\"x\":0.05},\"mapbox\":{\"style\":\"light\"}}},\"xaxis\":{\"anchor\":\"y\",\"domain\":[0.0,1.0],\"title\":{\"text\":\"T1 Price of Token A\"}},\"yaxis\":{\"anchor\":\"x\",\"domain\":[0.0,1.0],\"title\":{\"text\":\"Impermanent Loss\"}},\"legend\":{\"tracegroupgap\":0},\"title\":{\"text\":\"Single Token Impermanent Loss with T0 price = 100\"},\"height\":600},                        {\"responsive\": true}                    ).then(function(){\n",
       "                            \n",
       "var gd = document.getElementById('d710347a-24e7-48cf-9b22-54cf816915fa');\n",
       "var x = new MutationObserver(function (mutations, observer) {{\n",
       "        var display = window.getComputedStyle(gd).display;\n",
       "        if (!display || display === 'none') {{\n",
       "            console.log([gd, 'removed!']);\n",
       "            Plotly.purge(gd);\n",
       "            observer.disconnect();\n",
       "        }}\n",
       "}});\n",
       "\n",
       "// Listen for the removal of the full notebook cells\n",
       "var notebookContainer = gd.closest('#notebook-container');\n",
       "if (notebookContainer) {{\n",
       "    x.observe(notebookContainer, {childList: true});\n",
       "}}\n",
       "\n",
       "// Listen for the clearing of the current output cell\n",
       "var outputEl = gd.closest('.output');\n",
       "if (outputEl) {{\n",
       "    x.observe(outputEl, {childList: true});\n",
       "}}\n",
       "\n",
       "                        })                };                });            </script>        </div>"
      ]
     },
     "metadata": {},
     "output_type": "display_data"
    }
   ],
   "source": [
    "def portValue(a_units, b_units, a_price, b_price):\n",
    "    a_value = a_units * a_price\n",
    "    b_value = b_units * b_price\n",
    "    port_value = a_value + b_value\n",
    "    return port_value\n",
    "\n",
    "def impermanentLoss(a_units_t0, b_units_t0, a_price_t0, b_price_t0, price_pct_change):\n",
    "    # constant product\n",
    "    invariant = a_units_t0 * b_units_t0    \n",
    "    # T1 price\n",
    "    a_price_t1 = a_price_t0 * (1+price_pct_change)\n",
    "    b_price_t1 = b_price_t0\n",
    "    # see appendix/table for derivation\n",
    "    a_units_t1 = np.sqrt(invariant/(a_price_t1/b_price_t1))\n",
    "    b_units_t1 = np.sqrt(invariant/(b_price_t1/a_price_t1))\n",
    "    # portfolio value at t0\n",
    "    port_pool_t0 = portValue(a_units_t0, b_units_t0, a_price_t0, b_price_t0)\n",
    "    port_hold_t0 = port_pool_t0\n",
    "    # portfolio value at t1\n",
    "    port_pool_t1 = portValue(a_units_t1, b_units_t1, a_price_t1, b_price_t1)\n",
    "    port_hold_t1 = portValue(a_units_t0, b_units_t0, a_price_t1, b_price_t1)\n",
    "    # returns\n",
    "    port_pool_ret = port_pool_t1/port_pool_t0 - 1\n",
    "    port_hold_ret = port_hold_t1/port_hold_t0 - 1\n",
    "    # impermanent loss\n",
    "    il = port_pool_t1/port_hold_t1 - 1\n",
    "    \n",
    "    # return a_units_t1, b_units_t1, port_pool_ret, port_hold_ret, il\n",
    "    return il\n",
    "\n",
    "il_list_single = []\n",
    "for price_pct_change in (np.arange(-0.99,9.01,0.01)):\n",
    "    il_list_single.append(\n",
    "        impermanentLoss(\n",
    "            0.1, #a_units_t0 \n",
    "            10, #b_units_t0 \n",
    "            100, #a_price_t0 \n",
    "            1, #b_price_t0 \n",
    "            price_pct_change\n",
    "        )\n",
    "    )\n",
    "\n",
    "fig = px.scatter(\n",
    "    # price of Token A\n",
    "    x=100*(np.arange(-0.99,9.01,0.01))+100, \n",
    "    # impermanent loss\n",
    "    y=il_list_single,\n",
    "    title=f'Single Token Impermanent Loss with T0 price = 100',\n",
    "    labels={ \n",
    "        \"x\": \"T1 Price of Token A\",  \n",
    "        \"y\": \"Impermanent Loss\"\n",
    "    },\n",
    "    # width=1400, \n",
    "    height=600,\n",
    ")\n",
    "fig.show()"
   ]
  },
  {
   "cell_type": "markdown",
   "id": "63bc2bfb-9456-4e25-87ac-9aadca3b4f93",
   "metadata": {},
   "source": [
    "Impermanent loss occurs when price of one token in the pair moves in **either direction**. For example, by 1.25x the price of Token A, the impermanent loss is -0.6%. At 0.75x price, the loss is roughly -1%. The rate of loss is higher when token price decreases than when it increases.  "
   ]
  },
  {
   "cell_type": "markdown",
   "id": "488afec3-10a4-4fc1-8533-2b3520db1eed",
   "metadata": {},
   "source": [
    "| 25% price change     | A                                                    | B                                             |\n",
    "|----------------------|------------------------------------------------------|-----------------------------------------------|\n",
    "| **t0**               |                                                      |                                               |\n",
    "| units                | 0.1                                                  | 10                                            |\n",
    "| invariant            | A units * B units = 1                                | A units * B units = 1                         |\n",
    "| ratio                | B units / A units = 100                              | A units / B units = 0.01                      |\n",
    "| CEX price            | 100                                                  | 1                                             |\n",
    "| DEX price            | A ratio * B CEX price = 100                          | B ratio * A CEX price = 1                     |\n",
    "| value actual         | A units * A CEX price = 10                           | B units * B CEX price = 10                    |\n",
    "| value offer          | A units * A DEX price = 10                           | B units * B DEX price = 10                    |\n",
    "| **t1**               |                                                      |                                               |\n",
    "| CEX price            | 125 (x0.25)                                          | 1 (no change)                                 |\n",
    "| DEX arb price        | 125 = A ratio * 1                                    | 1 = B ratio * 125                             |\n",
    "| ratio                | 125/1 = B units / A units                            | 1/125 = A units / B units                     |\n",
    "| invariant            | 1 = 125 * A units^2                                  | 1 = (1/125) * B units^2                       |\n",
    "| units                | A units = sqrt(1/125) = 0.089                        | B units = sqrt(1/(1/125)) = 11.18             |\n",
    "| value hold           | A units (t0) * A CEX price (t1) = 0.1*125 = 12.5     | B units (t0) * B CEX price (t1) = 10*1 = 10   |\n",
    "| value pool           | A units (t1) * A CEX price (t1) = 0.089*125 = 11.18  | B units (t1) * B CEX price (t1) = 11.18*1 = 11.18 |\n",
    "\n",
    "| Impermanent Loss     |                                                     |\n",
    "|----------------------|------------------------------------------------------|\n",
    "| Hold Portfolio       | A value hold + B value hold = 12.5 + 10 = 22.5           |\n",
    "| LP Portfolio         | A value pool + B value pool = 11.18 + 11.18 = 22.36      |\n",
    "| Loss                 | LP Portfolio / Hold Portfolio - 1 = 22.36/22.5-1 = **-0.6%**   |"
   ]
  },
  {
   "cell_type": "markdown",
   "id": "00b9c2f9-67d2-4ed5-994c-a7605c8f5877",
   "metadata": {
    "tags": []
   },
   "source": [
    "## Model - Double Token IL\n",
    "\n",
    "We model a special instance of double token IL, where price of Token A and B decreases/increases by the same percent change. For example, the price of both tokens at T0 is 100, and with 25% change, token A will be worth 75 and token B 125 at T1.  \n",
    "\n",
    "Intuitively, a portfolio holding A/B should not change value in this case. However, though that is true for holding (off-chain) portfolio, the DEX pool still incurs IL."
   ]
  },
  {
   "cell_type": "code",
   "execution_count": 4,
   "id": "fa00999a-ef39-4262-8a06-da6cd1dd5190",
   "metadata": {
    "tags": []
   },
   "outputs": [
    {
     "data": {
      "application/vnd.plotly.v1+json": {
       "config": {
        "plotlyServerURL": "https://plot.ly"
       },
       "data": [
        {
         "hovertemplate": "Pct Change in Price=%{x}<br>Impermanent Loss=%{y}<extra></extra>",
         "legendgroup": "",
         "marker": {
          "color": "#636efa",
          "symbol": "circle"
         },
         "mode": "markers",
         "name": "",
         "orientation": "v",
         "showlegend": false,
         "type": "scatter",
         "x": [
          0.7500000000000013,
          0.7400000000000013,
          0.7300000000000013,
          0.7200000000000013,
          0.7100000000000013,
          0.7000000000000013,
          0.6900000000000013,
          0.6800000000000013,
          0.6700000000000013,
          0.6600000000000013,
          0.6500000000000012,
          0.6400000000000012,
          0.6300000000000012,
          0.6200000000000012,
          0.6100000000000012,
          0.6000000000000012,
          0.5900000000000012,
          0.5800000000000012,
          0.5700000000000012,
          0.5600000000000012,
          0.5500000000000012,
          0.5400000000000011,
          0.5300000000000011,
          0.5200000000000011,
          0.5100000000000011,
          0.5000000000000011,
          0.4900000000000011,
          0.4800000000000011,
          0.4700000000000011,
          0.4600000000000011,
          0.45000000000000107,
          0.44000000000000106,
          0.43000000000000105,
          0.42000000000000104,
          0.41000000000000103,
          0.400000000000001,
          0.390000000000001,
          0.380000000000001,
          0.370000000000001,
          0.360000000000001,
          0.350000000000001,
          0.34000000000000097,
          0.33000000000000096,
          0.32000000000000095,
          0.31000000000000094,
          0.30000000000000093,
          0.2900000000000009,
          0.2800000000000009,
          0.2700000000000009,
          0.2600000000000009,
          0.2500000000000009,
          0.24000000000000088,
          0.23000000000000087,
          0.22000000000000086,
          0.21000000000000085,
          0.20000000000000084,
          0.19000000000000083,
          0.18000000000000083,
          0.17000000000000082,
          0.1600000000000008,
          0.1500000000000008,
          0.1400000000000008,
          0.13000000000000078,
          0.12000000000000077,
          0.11000000000000076,
          0.10000000000000075,
          0.09000000000000075,
          0.08000000000000074,
          0.07000000000000073,
          0.06000000000000072,
          0.05000000000000071,
          0.0400000000000007,
          0.030000000000000693,
          0.020000000000000684,
          0.010000000000000675,
          6.661338147750939e-16,
          -0.009999999999999343,
          -0.01999999999999935,
          -0.02999999999999936,
          -0.03999999999999937,
          -0.04999999999999938,
          -0.05999999999999939,
          -0.0699999999999994,
          -0.0799999999999994,
          -0.08999999999999941,
          -0.09999999999999942,
          -0.10999999999999943,
          -0.11999999999999944,
          -0.12999999999999945,
          -0.13999999999999946,
          -0.14999999999999947,
          -0.15999999999999948,
          -0.16999999999999948,
          -0.1799999999999995,
          -0.1899999999999995,
          -0.1999999999999995,
          -0.20999999999999952,
          -0.21999999999999953,
          -0.22999999999999954,
          -0.23999999999999955,
          -0.24999999999999956,
          -0.25999999999999956,
          -0.2699999999999996,
          -0.2799999999999996,
          -0.2899999999999996,
          -0.2999999999999996,
          -0.3099999999999996,
          -0.3199999999999996,
          -0.3299999999999996,
          -0.33999999999999964,
          -0.34999999999999964,
          -0.35999999999999965,
          -0.36999999999999966,
          -0.37999999999999967,
          -0.3899999999999997,
          -0.3999999999999997,
          -0.4099999999999997,
          -0.4199999999999997,
          -0.4299999999999997,
          -0.4399999999999997,
          -0.44999999999999973,
          -0.45999999999999974,
          -0.46999999999999975,
          -0.47999999999999976,
          -0.48999999999999977,
          -0.4999999999999998,
          -0.5099999999999998,
          -0.5199999999999998,
          -0.5299999999999998,
          -0.5399999999999998,
          -0.5499999999999998,
          -0.5599999999999998,
          -0.5699999999999998,
          -0.5799999999999998,
          -0.5899999999999999,
          -0.5999999999999999,
          -0.6099999999999999,
          -0.6199999999999999,
          -0.6299999999999999,
          -0.6399999999999999,
          -0.6499999999999999,
          -0.6599999999999999,
          -0.6699999999999999,
          -0.6799999999999999,
          -0.69,
          -0.7,
          -0.71,
          -0.72,
          -0.73,
          -0.74,
          -0.75
         ],
         "xaxis": "x",
         "y": [
          -0.3385621722338539,
          -0.32739313116799196,
          -0.31655285500633024,
          -0.3060259370841024,
          -0.29579832434167097,
          -0.28585715714571625,
          -0.27619063283209844,
          -0.26678788880706694,
          -0.25763890188130256,
          -0.24873440116028334,
          -0.24006579232146796,
          -0.2316250915080592,
          -0.22340486738584397,
          -0.2153981901626797,
          -0.20759858657369956,
          -0.20000000000000095,
          -0.19259675502262286,
          -0.18538352582334883,
          -0.1783553079341419,
          -0.1715073929116815,
          -0.1648353455754975,
          -0.15833498349996833,
          -0.15200235849384658,
          -0.14583373983749592,
          -0.13982559907888514,
          -0.13397459621556196,
          -0.12827756711210014,
          -0.1227315120215482,
          -0.11733358509570624,
          -0.11208108478307599,
          -0.10697144502541289,
          -0.10200222717425467,
          -0.09717111255786737,
          -0.09247589563692626,
          -0.08791447769411487,
          -0.08348486100883235,
          -0.07918514347345618,
          -0.07501351361222619,
          -0.0709682459678791,
          -0.06704769682475231,
          -0.0632503002402407,
          -0.05957456435930053,
          -0.056019067989188986,
          -0.05258245741383949,
          -0.04926344342925404,
          -0.046060798583054674,
          -0.04297335460291407,
          -0.04000000000000026,
          -0.03713967783483796,
          -0.0343913836341353,
          -0.03175416344814597,
          -0.029227112039072578,
          -0.02680937119185145,
          -0.02450012813942437,
          -0.02229861409528544,
          -0.020204102886729025,
          -0.01821590968278597,
          -0.01633338981136523,
          -0.01455593766058949,
          -0.012882985659754764,
          -0.01131400333574073,
          -0.009848496441074994,
          -0.008486006150190684,
          -0.007226108320731672,
          -0.006068412817059277,
          -0.005012562893380146,
          -0.004058234634173097,
          -0.003205136449831225,
          -0.0024530086256588923,
          -0.0018016229225775726,
          -0.0012507822280910519,
          -0.000800320256256315,
          -0.0004501012955882011,
          -0.00020002000400098918,
          -5.000125006249245e-05,
          0,
          -5.000125006249245e-05,
          -0.00020002000400098918,
          -0.0004501012955880901,
          -0.000800320256256315,
          -0.0012507822280909409,
          -0.0018016229225775726,
          -0.0024530086256586703,
          -0.003205136449830892,
          -0.004058234634172875,
          -0.005012562893380146,
          -0.0060684128170589435,
          -0.00722610832073145,
          -0.008486006150190573,
          -0.009848496441074883,
          -0.011314003335740508,
          -0.012882985659754653,
          -0.01455593766058938,
          -0.016333389811364896,
          -0.018215909682785747,
          -0.020204102886728803,
          -0.022298614095285108,
          -0.024500128139424038,
          -0.026809371191851117,
          -0.029227112039072245,
          -0.031754163448145634,
          -0.034391383634134964,
          -0.037139677834837626,
          -0.039999999999999813,
          -0.04297335460291374,
          -0.04606079858305412,
          -0.049263443429253484,
          -0.052582457413838934,
          -0.05601906798918843,
          -0.059574564359299975,
          -0.06325030024024014,
          -0.06704769682475187,
          -0.07096824596787854,
          -0.07501351361222564,
          -0.07918514347345562,
          -0.08348486100883179,
          -0.08791447769411431,
          -0.09247589563692571,
          -0.09717111255786659,
          -0.10200222717425389,
          -0.10697144502541223,
          -0.11208108478307532,
          -0.11733358509570535,
          -0.12273151202154753,
          -0.1282775671120996,
          -0.13397459621556118,
          -0.13982559907888448,
          -0.14583373983749492,
          -0.1520023584938457,
          -0.15833498349996744,
          -0.16483534557549662,
          -0.17150739291168082,
          -0.17835530793414112,
          -0.18538352582334794,
          -0.19259675502262186,
          -0.19999999999999984,
          -0.20759858657369856,
          -0.21539819016267858,
          -0.22340486738584286,
          -0.2316250915080582,
          -0.24006579232146663,
          -0.2487344011602819,
          -0.25763890188130134,
          -0.2667878888070655,
          -0.276190632832097,
          -0.285857157145715,
          -0.29579832434166975,
          -0.306025937084101,
          -0.316552855006329,
          -0.3273931311679905,
          -0.33856217223385243
         ],
         "yaxis": "y"
        }
       ],
       "layout": {
        "autosize": true,
        "legend": {
         "tracegroupgap": 0
        },
        "template": {
         "data": {
          "bar": [
           {
            "error_x": {
             "color": "#2a3f5f"
            },
            "error_y": {
             "color": "#2a3f5f"
            },
            "marker": {
             "line": {
              "color": "#E5ECF6",
              "width": 0.5
             },
             "pattern": {
              "fillmode": "overlay",
              "size": 10,
              "solidity": 0.2
             }
            },
            "type": "bar"
           }
          ],
          "barpolar": [
           {
            "marker": {
             "line": {
              "color": "#E5ECF6",
              "width": 0.5
             },
             "pattern": {
              "fillmode": "overlay",
              "size": 10,
              "solidity": 0.2
             }
            },
            "type": "barpolar"
           }
          ],
          "carpet": [
           {
            "aaxis": {
             "endlinecolor": "#2a3f5f",
             "gridcolor": "white",
             "linecolor": "white",
             "minorgridcolor": "white",
             "startlinecolor": "#2a3f5f"
            },
            "baxis": {
             "endlinecolor": "#2a3f5f",
             "gridcolor": "white",
             "linecolor": "white",
             "minorgridcolor": "white",
             "startlinecolor": "#2a3f5f"
            },
            "type": "carpet"
           }
          ],
          "choropleth": [
           {
            "colorbar": {
             "outlinewidth": 0,
             "ticks": ""
            },
            "type": "choropleth"
           }
          ],
          "contour": [
           {
            "colorbar": {
             "outlinewidth": 0,
             "ticks": ""
            },
            "colorscale": [
             [
              0,
              "#0d0887"
             ],
             [
              0.1111111111111111,
              "#46039f"
             ],
             [
              0.2222222222222222,
              "#7201a8"
             ],
             [
              0.3333333333333333,
              "#9c179e"
             ],
             [
              0.4444444444444444,
              "#bd3786"
             ],
             [
              0.5555555555555556,
              "#d8576b"
             ],
             [
              0.6666666666666666,
              "#ed7953"
             ],
             [
              0.7777777777777778,
              "#fb9f3a"
             ],
             [
              0.8888888888888888,
              "#fdca26"
             ],
             [
              1,
              "#f0f921"
             ]
            ],
            "type": "contour"
           }
          ],
          "contourcarpet": [
           {
            "colorbar": {
             "outlinewidth": 0,
             "ticks": ""
            },
            "type": "contourcarpet"
           }
          ],
          "heatmap": [
           {
            "colorbar": {
             "outlinewidth": 0,
             "ticks": ""
            },
            "colorscale": [
             [
              0,
              "#0d0887"
             ],
             [
              0.1111111111111111,
              "#46039f"
             ],
             [
              0.2222222222222222,
              "#7201a8"
             ],
             [
              0.3333333333333333,
              "#9c179e"
             ],
             [
              0.4444444444444444,
              "#bd3786"
             ],
             [
              0.5555555555555556,
              "#d8576b"
             ],
             [
              0.6666666666666666,
              "#ed7953"
             ],
             [
              0.7777777777777778,
              "#fb9f3a"
             ],
             [
              0.8888888888888888,
              "#fdca26"
             ],
             [
              1,
              "#f0f921"
             ]
            ],
            "type": "heatmap"
           }
          ],
          "heatmapgl": [
           {
            "colorbar": {
             "outlinewidth": 0,
             "ticks": ""
            },
            "colorscale": [
             [
              0,
              "#0d0887"
             ],
             [
              0.1111111111111111,
              "#46039f"
             ],
             [
              0.2222222222222222,
              "#7201a8"
             ],
             [
              0.3333333333333333,
              "#9c179e"
             ],
             [
              0.4444444444444444,
              "#bd3786"
             ],
             [
              0.5555555555555556,
              "#d8576b"
             ],
             [
              0.6666666666666666,
              "#ed7953"
             ],
             [
              0.7777777777777778,
              "#fb9f3a"
             ],
             [
              0.8888888888888888,
              "#fdca26"
             ],
             [
              1,
              "#f0f921"
             ]
            ],
            "type": "heatmapgl"
           }
          ],
          "histogram": [
           {
            "marker": {
             "pattern": {
              "fillmode": "overlay",
              "size": 10,
              "solidity": 0.2
             }
            },
            "type": "histogram"
           }
          ],
          "histogram2d": [
           {
            "colorbar": {
             "outlinewidth": 0,
             "ticks": ""
            },
            "colorscale": [
             [
              0,
              "#0d0887"
             ],
             [
              0.1111111111111111,
              "#46039f"
             ],
             [
              0.2222222222222222,
              "#7201a8"
             ],
             [
              0.3333333333333333,
              "#9c179e"
             ],
             [
              0.4444444444444444,
              "#bd3786"
             ],
             [
              0.5555555555555556,
              "#d8576b"
             ],
             [
              0.6666666666666666,
              "#ed7953"
             ],
             [
              0.7777777777777778,
              "#fb9f3a"
             ],
             [
              0.8888888888888888,
              "#fdca26"
             ],
             [
              1,
              "#f0f921"
             ]
            ],
            "type": "histogram2d"
           }
          ],
          "histogram2dcontour": [
           {
            "colorbar": {
             "outlinewidth": 0,
             "ticks": ""
            },
            "colorscale": [
             [
              0,
              "#0d0887"
             ],
             [
              0.1111111111111111,
              "#46039f"
             ],
             [
              0.2222222222222222,
              "#7201a8"
             ],
             [
              0.3333333333333333,
              "#9c179e"
             ],
             [
              0.4444444444444444,
              "#bd3786"
             ],
             [
              0.5555555555555556,
              "#d8576b"
             ],
             [
              0.6666666666666666,
              "#ed7953"
             ],
             [
              0.7777777777777778,
              "#fb9f3a"
             ],
             [
              0.8888888888888888,
              "#fdca26"
             ],
             [
              1,
              "#f0f921"
             ]
            ],
            "type": "histogram2dcontour"
           }
          ],
          "mesh3d": [
           {
            "colorbar": {
             "outlinewidth": 0,
             "ticks": ""
            },
            "type": "mesh3d"
           }
          ],
          "parcoords": [
           {
            "line": {
             "colorbar": {
              "outlinewidth": 0,
              "ticks": ""
             }
            },
            "type": "parcoords"
           }
          ],
          "pie": [
           {
            "automargin": true,
            "type": "pie"
           }
          ],
          "scatter": [
           {
            "fillpattern": {
             "fillmode": "overlay",
             "size": 10,
             "solidity": 0.2
            },
            "type": "scatter"
           }
          ],
          "scatter3d": [
           {
            "line": {
             "colorbar": {
              "outlinewidth": 0,
              "ticks": ""
             }
            },
            "marker": {
             "colorbar": {
              "outlinewidth": 0,
              "ticks": ""
             }
            },
            "type": "scatter3d"
           }
          ],
          "scattercarpet": [
           {
            "marker": {
             "colorbar": {
              "outlinewidth": 0,
              "ticks": ""
             }
            },
            "type": "scattercarpet"
           }
          ],
          "scattergeo": [
           {
            "marker": {
             "colorbar": {
              "outlinewidth": 0,
              "ticks": ""
             }
            },
            "type": "scattergeo"
           }
          ],
          "scattergl": [
           {
            "marker": {
             "colorbar": {
              "outlinewidth": 0,
              "ticks": ""
             }
            },
            "type": "scattergl"
           }
          ],
          "scattermapbox": [
           {
            "marker": {
             "colorbar": {
              "outlinewidth": 0,
              "ticks": ""
             }
            },
            "type": "scattermapbox"
           }
          ],
          "scatterpolar": [
           {
            "marker": {
             "colorbar": {
              "outlinewidth": 0,
              "ticks": ""
             }
            },
            "type": "scatterpolar"
           }
          ],
          "scatterpolargl": [
           {
            "marker": {
             "colorbar": {
              "outlinewidth": 0,
              "ticks": ""
             }
            },
            "type": "scatterpolargl"
           }
          ],
          "scatterternary": [
           {
            "marker": {
             "colorbar": {
              "outlinewidth": 0,
              "ticks": ""
             }
            },
            "type": "scatterternary"
           }
          ],
          "surface": [
           {
            "colorbar": {
             "outlinewidth": 0,
             "ticks": ""
            },
            "colorscale": [
             [
              0,
              "#0d0887"
             ],
             [
              0.1111111111111111,
              "#46039f"
             ],
             [
              0.2222222222222222,
              "#7201a8"
             ],
             [
              0.3333333333333333,
              "#9c179e"
             ],
             [
              0.4444444444444444,
              "#bd3786"
             ],
             [
              0.5555555555555556,
              "#d8576b"
             ],
             [
              0.6666666666666666,
              "#ed7953"
             ],
             [
              0.7777777777777778,
              "#fb9f3a"
             ],
             [
              0.8888888888888888,
              "#fdca26"
             ],
             [
              1,
              "#f0f921"
             ]
            ],
            "type": "surface"
           }
          ],
          "table": [
           {
            "cells": {
             "fill": {
              "color": "#EBF0F8"
             },
             "line": {
              "color": "white"
             }
            },
            "header": {
             "fill": {
              "color": "#C8D4E3"
             },
             "line": {
              "color": "white"
             }
            },
            "type": "table"
           }
          ]
         },
         "layout": {
          "annotationdefaults": {
           "arrowcolor": "#2a3f5f",
           "arrowhead": 0,
           "arrowwidth": 1
          },
          "autotypenumbers": "strict",
          "coloraxis": {
           "colorbar": {
            "outlinewidth": 0,
            "ticks": ""
           }
          },
          "colorscale": {
           "diverging": [
            [
             0,
             "#8e0152"
            ],
            [
             0.1,
             "#c51b7d"
            ],
            [
             0.2,
             "#de77ae"
            ],
            [
             0.3,
             "#f1b6da"
            ],
            [
             0.4,
             "#fde0ef"
            ],
            [
             0.5,
             "#f7f7f7"
            ],
            [
             0.6,
             "#e6f5d0"
            ],
            [
             0.7,
             "#b8e186"
            ],
            [
             0.8,
             "#7fbc41"
            ],
            [
             0.9,
             "#4d9221"
            ],
            [
             1,
             "#276419"
            ]
           ],
           "sequential": [
            [
             0,
             "#0d0887"
            ],
            [
             0.1111111111111111,
             "#46039f"
            ],
            [
             0.2222222222222222,
             "#7201a8"
            ],
            [
             0.3333333333333333,
             "#9c179e"
            ],
            [
             0.4444444444444444,
             "#bd3786"
            ],
            [
             0.5555555555555556,
             "#d8576b"
            ],
            [
             0.6666666666666666,
             "#ed7953"
            ],
            [
             0.7777777777777778,
             "#fb9f3a"
            ],
            [
             0.8888888888888888,
             "#fdca26"
            ],
            [
             1,
             "#f0f921"
            ]
           ],
           "sequentialminus": [
            [
             0,
             "#0d0887"
            ],
            [
             0.1111111111111111,
             "#46039f"
            ],
            [
             0.2222222222222222,
             "#7201a8"
            ],
            [
             0.3333333333333333,
             "#9c179e"
            ],
            [
             0.4444444444444444,
             "#bd3786"
            ],
            [
             0.5555555555555556,
             "#d8576b"
            ],
            [
             0.6666666666666666,
             "#ed7953"
            ],
            [
             0.7777777777777778,
             "#fb9f3a"
            ],
            [
             0.8888888888888888,
             "#fdca26"
            ],
            [
             1,
             "#f0f921"
            ]
           ]
          },
          "colorway": [
           "#636efa",
           "#EF553B",
           "#00cc96",
           "#ab63fa",
           "#FFA15A",
           "#19d3f3",
           "#FF6692",
           "#B6E880",
           "#FF97FF",
           "#FECB52"
          ],
          "font": {
           "color": "#2a3f5f"
          },
          "geo": {
           "bgcolor": "white",
           "lakecolor": "white",
           "landcolor": "#E5ECF6",
           "showlakes": true,
           "showland": true,
           "subunitcolor": "white"
          },
          "hoverlabel": {
           "align": "left"
          },
          "hovermode": "closest",
          "mapbox": {
           "style": "light"
          },
          "paper_bgcolor": "white",
          "plot_bgcolor": "#E5ECF6",
          "polar": {
           "angularaxis": {
            "gridcolor": "white",
            "linecolor": "white",
            "ticks": ""
           },
           "bgcolor": "#E5ECF6",
           "radialaxis": {
            "gridcolor": "white",
            "linecolor": "white",
            "ticks": ""
           }
          },
          "scene": {
           "xaxis": {
            "backgroundcolor": "#E5ECF6",
            "gridcolor": "white",
            "gridwidth": 2,
            "linecolor": "white",
            "showbackground": true,
            "ticks": "",
            "zerolinecolor": "white"
           },
           "yaxis": {
            "backgroundcolor": "#E5ECF6",
            "gridcolor": "white",
            "gridwidth": 2,
            "linecolor": "white",
            "showbackground": true,
            "ticks": "",
            "zerolinecolor": "white"
           },
           "zaxis": {
            "backgroundcolor": "#E5ECF6",
            "gridcolor": "white",
            "gridwidth": 2,
            "linecolor": "white",
            "showbackground": true,
            "ticks": "",
            "zerolinecolor": "white"
           }
          },
          "shapedefaults": {
           "line": {
            "color": "#2a3f5f"
           }
          },
          "ternary": {
           "aaxis": {
            "gridcolor": "white",
            "linecolor": "white",
            "ticks": ""
           },
           "baxis": {
            "gridcolor": "white",
            "linecolor": "white",
            "ticks": ""
           },
           "bgcolor": "#E5ECF6",
           "caxis": {
            "gridcolor": "white",
            "linecolor": "white",
            "ticks": ""
           }
          },
          "title": {
           "x": 0.05
          },
          "xaxis": {
           "automargin": true,
           "gridcolor": "white",
           "linecolor": "white",
           "ticks": "",
           "title": {
            "standoff": 15
           },
           "zerolinecolor": "white",
           "zerolinewidth": 2
          },
          "yaxis": {
           "automargin": true,
           "gridcolor": "white",
           "linecolor": "white",
           "ticks": "",
           "title": {
            "standoff": 15
           },
           "zerolinecolor": "white",
           "zerolinewidth": 2
          }
         }
        },
        "title": {
         "text": "Double Token Impermanent Loss with T0 A, B price = 100"
        },
        "xaxis": {
         "anchor": "y",
         "autorange": true,
         "domain": [
          0,
          1
         ],
         "range": [
          -0.8394267329628547,
          0.8394267329628561
         ],
         "title": {
          "text": "Pct Change in Price"
         },
         "type": "linear"
        },
        "yaxis": {
         "anchor": "x",
         "autorange": true,
         "domain": [
          0,
          1
         ],
         "range": [
          -0.36117867361789674,
          0.022616501384042868
         ],
         "title": {
          "text": "Impermanent Loss"
         },
         "type": "linear"
        }
       }
      },
      "image/png": "[encoded data removed]",
      "text/html": [
       "<div>                            <div id=\"c8c86df6-9a6c-44ba-8efc-b58011d1bd20\" class=\"plotly-graph-div\" style=\"height:600px; width:100%;\"></div>            <script type=\"text/javascript\">                require([\"plotly\"], function(Plotly) {                    window.PLOTLYENV=window.PLOTLYENV || {};                                    if (document.getElementById(\"c8c86df6-9a6c-44ba-8efc-b58011d1bd20\")) {                    Plotly.newPlot(                        \"c8c86df6-9a6c-44ba-8efc-b58011d1bd20\",                        [{\"hovertemplate\":\"Pct Change in Price=%{x}<br>Impermanent Loss=%{y}<extra></extra>\",\"legendgroup\":\"\",\"marker\":{\"color\":\"#636efa\",\"symbol\":\"circle\"},\"mode\":\"markers\",\"name\":\"\",\"orientation\":\"v\",\"showlegend\":false,\"x\":[0.7500000000000013,0.7400000000000013,0.7300000000000013,0.7200000000000013,0.7100000000000013,0.7000000000000013,0.6900000000000013,0.6800000000000013,0.6700000000000013,0.6600000000000013,0.6500000000000012,0.6400000000000012,0.6300000000000012,0.6200000000000012,0.6100000000000012,0.6000000000000012,0.5900000000000012,0.5800000000000012,0.5700000000000012,0.5600000000000012,0.5500000000000012,0.5400000000000011,0.5300000000000011,0.5200000000000011,0.5100000000000011,0.5000000000000011,0.4900000000000011,0.4800000000000011,0.4700000000000011,0.4600000000000011,0.45000000000000107,0.44000000000000106,0.43000000000000105,0.42000000000000104,0.41000000000000103,0.400000000000001,0.390000000000001,0.380000000000001,0.370000000000001,0.360000000000001,0.350000000000001,0.34000000000000097,0.33000000000000096,0.32000000000000095,0.31000000000000094,0.30000000000000093,0.2900000000000009,0.2800000000000009,0.2700000000000009,0.2600000000000009,0.2500000000000009,0.24000000000000088,0.23000000000000087,0.22000000000000086,0.21000000000000085,0.20000000000000084,0.19000000000000083,0.18000000000000083,0.17000000000000082,0.1600000000000008,0.1500000000000008,0.1400000000000008,0.13000000000000078,0.12000000000000077,0.11000000000000076,0.10000000000000075,0.09000000000000075,0.08000000000000074,0.07000000000000073,0.06000000000000072,0.05000000000000071,0.0400000000000007,0.030000000000000693,0.020000000000000684,0.010000000000000675,6.661338147750939e-16,-0.009999999999999343,-0.01999999999999935,-0.02999999999999936,-0.03999999999999937,-0.04999999999999938,-0.05999999999999939,-0.0699999999999994,-0.0799999999999994,-0.08999999999999941,-0.09999999999999942,-0.10999999999999943,-0.11999999999999944,-0.12999999999999945,-0.13999999999999946,-0.14999999999999947,-0.15999999999999948,-0.16999999999999948,-0.1799999999999995,-0.1899999999999995,-0.1999999999999995,-0.20999999999999952,-0.21999999999999953,-0.22999999999999954,-0.23999999999999955,-0.24999999999999956,-0.25999999999999956,-0.2699999999999996,-0.2799999999999996,-0.2899999999999996,-0.2999999999999996,-0.3099999999999996,-0.3199999999999996,-0.3299999999999996,-0.33999999999999964,-0.34999999999999964,-0.35999999999999965,-0.36999999999999966,-0.37999999999999967,-0.3899999999999997,-0.3999999999999997,-0.4099999999999997,-0.4199999999999997,-0.4299999999999997,-0.4399999999999997,-0.44999999999999973,-0.45999999999999974,-0.46999999999999975,-0.47999999999999976,-0.48999999999999977,-0.4999999999999998,-0.5099999999999998,-0.5199999999999998,-0.5299999999999998,-0.5399999999999998,-0.5499999999999998,-0.5599999999999998,-0.5699999999999998,-0.5799999999999998,-0.5899999999999999,-0.5999999999999999,-0.6099999999999999,-0.6199999999999999,-0.6299999999999999,-0.6399999999999999,-0.6499999999999999,-0.6599999999999999,-0.6699999999999999,-0.6799999999999999,-0.69,-0.7,-0.71,-0.72,-0.73,-0.74,-0.75],\"xaxis\":\"x\",\"y\":[-0.3385621722338539,-0.32739313116799196,-0.31655285500633024,-0.3060259370841024,-0.29579832434167097,-0.28585715714571625,-0.27619063283209844,-0.26678788880706694,-0.25763890188130256,-0.24873440116028334,-0.24006579232146796,-0.2316250915080592,-0.22340486738584397,-0.2153981901626797,-0.20759858657369956,-0.20000000000000095,-0.19259675502262286,-0.18538352582334883,-0.1783553079341419,-0.1715073929116815,-0.1648353455754975,-0.15833498349996833,-0.15200235849384658,-0.14583373983749592,-0.13982559907888514,-0.13397459621556196,-0.12827756711210014,-0.1227315120215482,-0.11733358509570624,-0.11208108478307599,-0.10697144502541289,-0.10200222717425467,-0.09717111255786737,-0.09247589563692626,-0.08791447769411487,-0.08348486100883235,-0.07918514347345618,-0.07501351361222619,-0.0709682459678791,-0.06704769682475231,-0.0632503002402407,-0.05957456435930053,-0.056019067989188986,-0.05258245741383949,-0.04926344342925404,-0.046060798583054674,-0.04297335460291407,-0.04000000000000026,-0.03713967783483796,-0.0343913836341353,-0.03175416344814597,-0.029227112039072578,-0.02680937119185145,-0.02450012813942437,-0.02229861409528544,-0.020204102886729025,-0.01821590968278597,-0.01633338981136523,-0.01455593766058949,-0.012882985659754764,-0.01131400333574073,-0.009848496441074994,-0.008486006150190684,-0.007226108320731672,-0.006068412817059277,-0.005012562893380146,-0.004058234634173097,-0.003205136449831225,-0.0024530086256588923,-0.0018016229225775726,-0.0012507822280910519,-0.000800320256256315,-0.0004501012955882011,-0.00020002000400098918,-5.000125006249245e-05,0.0,-5.000125006249245e-05,-0.00020002000400098918,-0.0004501012955880901,-0.000800320256256315,-0.0012507822280909409,-0.0018016229225775726,-0.0024530086256586703,-0.003205136449830892,-0.004058234634172875,-0.005012562893380146,-0.0060684128170589435,-0.00722610832073145,-0.008486006150190573,-0.009848496441074883,-0.011314003335740508,-0.012882985659754653,-0.01455593766058938,-0.016333389811364896,-0.018215909682785747,-0.020204102886728803,-0.022298614095285108,-0.024500128139424038,-0.026809371191851117,-0.029227112039072245,-0.031754163448145634,-0.034391383634134964,-0.037139677834837626,-0.039999999999999813,-0.04297335460291374,-0.04606079858305412,-0.049263443429253484,-0.052582457413838934,-0.05601906798918843,-0.059574564359299975,-0.06325030024024014,-0.06704769682475187,-0.07096824596787854,-0.07501351361222564,-0.07918514347345562,-0.08348486100883179,-0.08791447769411431,-0.09247589563692571,-0.09717111255786659,-0.10200222717425389,-0.10697144502541223,-0.11208108478307532,-0.11733358509570535,-0.12273151202154753,-0.1282775671120996,-0.13397459621556118,-0.13982559907888448,-0.14583373983749492,-0.1520023584938457,-0.15833498349996744,-0.16483534557549662,-0.17150739291168082,-0.17835530793414112,-0.18538352582334794,-0.19259675502262186,-0.19999999999999984,-0.20759858657369856,-0.21539819016267858,-0.22340486738584286,-0.2316250915080582,-0.24006579232146663,-0.2487344011602819,-0.25763890188130134,-0.2667878888070655,-0.276190632832097,-0.285857157145715,-0.29579832434166975,-0.306025937084101,-0.316552855006329,-0.3273931311679905,-0.33856217223385243],\"yaxis\":\"y\",\"type\":\"scatter\"}],                        {\"template\":{\"data\":{\"histogram2dcontour\":[{\"type\":\"histogram2dcontour\",\"colorbar\":{\"outlinewidth\":0,\"ticks\":\"\"},\"colorscale\":[[0.0,\"#0d0887\"],[0.1111111111111111,\"#46039f\"],[0.2222222222222222,\"#7201a8\"],[0.3333333333333333,\"#9c179e\"],[0.4444444444444444,\"#bd3786\"],[0.5555555555555556,\"#d8576b\"],[0.6666666666666666,\"#ed7953\"],[0.7777777777777778,\"#fb9f3a\"],[0.8888888888888888,\"#fdca26\"],[1.0,\"#f0f921\"]]}],\"choropleth\":[{\"type\":\"choropleth\",\"colorbar\":{\"outlinewidth\":0,\"ticks\":\"\"}}],\"histogram2d\":[{\"type\":\"histogram2d\",\"colorbar\":{\"outlinewidth\":0,\"ticks\":\"\"},\"colorscale\":[[0.0,\"#0d0887\"],[0.1111111111111111,\"#46039f\"],[0.2222222222222222,\"#7201a8\"],[0.3333333333333333,\"#9c179e\"],[0.4444444444444444,\"#bd3786\"],[0.5555555555555556,\"#d8576b\"],[0.6666666666666666,\"#ed7953\"],[0.7777777777777778,\"#fb9f3a\"],[0.8888888888888888,\"#fdca26\"],[1.0,\"#f0f921\"]]}],\"heatmap\":[{\"type\":\"heatmap\",\"colorbar\":{\"outlinewidth\":0,\"ticks\":\"\"},\"colorscale\":[[0.0,\"#0d0887\"],[0.1111111111111111,\"#46039f\"],[0.2222222222222222,\"#7201a8\"],[0.3333333333333333,\"#9c179e\"],[0.4444444444444444,\"#bd3786\"],[0.5555555555555556,\"#d8576b\"],[0.6666666666666666,\"#ed7953\"],[0.7777777777777778,\"#fb9f3a\"],[0.8888888888888888,\"#fdca26\"],[1.0,\"#f0f921\"]]}],\"heatmapgl\":[{\"type\":\"heatmapgl\",\"colorbar\":{\"outlinewidth\":0,\"ticks\":\"\"},\"colorscale\":[[0.0,\"#0d0887\"],[0.1111111111111111,\"#46039f\"],[0.2222222222222222,\"#7201a8\"],[0.3333333333333333,\"#9c179e\"],[0.4444444444444444,\"#bd3786\"],[0.5555555555555556,\"#d8576b\"],[0.6666666666666666,\"#ed7953\"],[0.7777777777777778,\"#fb9f3a\"],[0.8888888888888888,\"#fdca26\"],[1.0,\"#f0f921\"]]}],\"contourcarpet\":[{\"type\":\"contourcarpet\",\"colorbar\":{\"outlinewidth\":0,\"ticks\":\"\"}}],\"contour\":[{\"type\":\"contour\",\"colorbar\":{\"outlinewidth\":0,\"ticks\":\"\"},\"colorscale\":[[0.0,\"#0d0887\"],[0.1111111111111111,\"#46039f\"],[0.2222222222222222,\"#7201a8\"],[0.3333333333333333,\"#9c179e\"],[0.4444444444444444,\"#bd3786\"],[0.5555555555555556,\"#d8576b\"],[0.6666666666666666,\"#ed7953\"],[0.7777777777777778,\"#fb9f3a\"],[0.8888888888888888,\"#fdca26\"],[1.0,\"#f0f921\"]]}],\"surface\":[{\"type\":\"surface\",\"colorbar\":{\"outlinewidth\":0,\"ticks\":\"\"},\"colorscale\":[[0.0,\"#0d0887\"],[0.1111111111111111,\"#46039f\"],[0.2222222222222222,\"#7201a8\"],[0.3333333333333333,\"#9c179e\"],[0.4444444444444444,\"#bd3786\"],[0.5555555555555556,\"#d8576b\"],[0.6666666666666666,\"#ed7953\"],[0.7777777777777778,\"#fb9f3a\"],[0.8888888888888888,\"#fdca26\"],[1.0,\"#f0f921\"]]}],\"mesh3d\":[{\"type\":\"mesh3d\",\"colorbar\":{\"outlinewidth\":0,\"ticks\":\"\"}}],\"scatter\":[{\"fillpattern\":{\"fillmode\":\"overlay\",\"size\":10,\"solidity\":0.2},\"type\":\"scatter\"}],\"parcoords\":[{\"type\":\"parcoords\",\"line\":{\"colorbar\":{\"outlinewidth\":0,\"ticks\":\"\"}}}],\"scatterpolargl\":[{\"type\":\"scatterpolargl\",\"marker\":{\"colorbar\":{\"outlinewidth\":0,\"ticks\":\"\"}}}],\"bar\":[{\"error_x\":{\"color\":\"#2a3f5f\"},\"error_y\":{\"color\":\"#2a3f5f\"},\"marker\":{\"line\":{\"color\":\"#E5ECF6\",\"width\":0.5},\"pattern\":{\"fillmode\":\"overlay\",\"size\":10,\"solidity\":0.2}},\"type\":\"bar\"}],\"scattergeo\":[{\"type\":\"scattergeo\",\"marker\":{\"colorbar\":{\"outlinewidth\":0,\"ticks\":\"\"}}}],\"scatterpolar\":[{\"type\":\"scatterpolar\",\"marker\":{\"colorbar\":{\"outlinewidth\":0,\"ticks\":\"\"}}}],\"histogram\":[{\"marker\":{\"pattern\":{\"fillmode\":\"overlay\",\"size\":10,\"solidity\":0.2}},\"type\":\"histogram\"}],\"scattergl\":[{\"type\":\"scattergl\",\"marker\":{\"colorbar\":{\"outlinewidth\":0,\"ticks\":\"\"}}}],\"scatter3d\":[{\"type\":\"scatter3d\",\"line\":{\"colorbar\":{\"outlinewidth\":0,\"ticks\":\"\"}},\"marker\":{\"colorbar\":{\"outlinewidth\":0,\"ticks\":\"\"}}}],\"scattermapbox\":[{\"type\":\"scattermapbox\",\"marker\":{\"colorbar\":{\"outlinewidth\":0,\"ticks\":\"\"}}}],\"scatterternary\":[{\"type\":\"scatterternary\",\"marker\":{\"colorbar\":{\"outlinewidth\":0,\"ticks\":\"\"}}}],\"scattercarpet\":[{\"type\":\"scattercarpet\",\"marker\":{\"colorbar\":{\"outlinewidth\":0,\"ticks\":\"\"}}}],\"carpet\":[{\"aaxis\":{\"endlinecolor\":\"#2a3f5f\",\"gridcolor\":\"white\",\"linecolor\":\"white\",\"minorgridcolor\":\"white\",\"startlinecolor\":\"#2a3f5f\"},\"baxis\":{\"endlinecolor\":\"#2a3f5f\",\"gridcolor\":\"white\",\"linecolor\":\"white\",\"minorgridcolor\":\"white\",\"startlinecolor\":\"#2a3f5f\"},\"type\":\"carpet\"}],\"table\":[{\"cells\":{\"fill\":{\"color\":\"#EBF0F8\"},\"line\":{\"color\":\"white\"}},\"header\":{\"fill\":{\"color\":\"#C8D4E3\"},\"line\":{\"color\":\"white\"}},\"type\":\"table\"}],\"barpolar\":[{\"marker\":{\"line\":{\"color\":\"#E5ECF6\",\"width\":0.5},\"pattern\":{\"fillmode\":\"overlay\",\"size\":10,\"solidity\":0.2}},\"type\":\"barpolar\"}],\"pie\":[{\"automargin\":true,\"type\":\"pie\"}]},\"layout\":{\"autotypenumbers\":\"strict\",\"colorway\":[\"#636efa\",\"#EF553B\",\"#00cc96\",\"#ab63fa\",\"#FFA15A\",\"#19d3f3\",\"#FF6692\",\"#B6E880\",\"#FF97FF\",\"#FECB52\"],\"font\":{\"color\":\"#2a3f5f\"},\"hovermode\":\"closest\",\"hoverlabel\":{\"align\":\"left\"},\"paper_bgcolor\":\"white\",\"plot_bgcolor\":\"#E5ECF6\",\"polar\":{\"bgcolor\":\"#E5ECF6\",\"angularaxis\":{\"gridcolor\":\"white\",\"linecolor\":\"white\",\"ticks\":\"\"},\"radialaxis\":{\"gridcolor\":\"white\",\"linecolor\":\"white\",\"ticks\":\"\"}},\"ternary\":{\"bgcolor\":\"#E5ECF6\",\"aaxis\":{\"gridcolor\":\"white\",\"linecolor\":\"white\",\"ticks\":\"\"},\"baxis\":{\"gridcolor\":\"white\",\"linecolor\":\"white\",\"ticks\":\"\"},\"caxis\":{\"gridcolor\":\"white\",\"linecolor\":\"white\",\"ticks\":\"\"}},\"coloraxis\":{\"colorbar\":{\"outlinewidth\":0,\"ticks\":\"\"}},\"colorscale\":{\"sequential\":[[0.0,\"#0d0887\"],[0.1111111111111111,\"#46039f\"],[0.2222222222222222,\"#7201a8\"],[0.3333333333333333,\"#9c179e\"],[0.4444444444444444,\"#bd3786\"],[0.5555555555555556,\"#d8576b\"],[0.6666666666666666,\"#ed7953\"],[0.7777777777777778,\"#fb9f3a\"],[0.8888888888888888,\"#fdca26\"],[1.0,\"#f0f921\"]],\"sequentialminus\":[[0.0,\"#0d0887\"],[0.1111111111111111,\"#46039f\"],[0.2222222222222222,\"#7201a8\"],[0.3333333333333333,\"#9c179e\"],[0.4444444444444444,\"#bd3786\"],[0.5555555555555556,\"#d8576b\"],[0.6666666666666666,\"#ed7953\"],[0.7777777777777778,\"#fb9f3a\"],[0.8888888888888888,\"#fdca26\"],[1.0,\"#f0f921\"]],\"diverging\":[[0,\"#8e0152\"],[0.1,\"#c51b7d\"],[0.2,\"#de77ae\"],[0.3,\"#f1b6da\"],[0.4,\"#fde0ef\"],[0.5,\"#f7f7f7\"],[0.6,\"#e6f5d0\"],[0.7,\"#b8e186\"],[0.8,\"#7fbc41\"],[0.9,\"#4d9221\"],[1,\"#276419\"]]},\"xaxis\":{\"gridcolor\":\"white\",\"linecolor\":\"white\",\"ticks\":\"\",\"title\":{\"standoff\":15},\"zerolinecolor\":\"white\",\"automargin\":true,\"zerolinewidth\":2},\"yaxis\":{\"gridcolor\":\"white\",\"linecolor\":\"white\",\"ticks\":\"\",\"title\":{\"standoff\":15},\"zerolinecolor\":\"white\",\"automargin\":true,\"zerolinewidth\":2},\"scene\":{\"xaxis\":{\"backgroundcolor\":\"#E5ECF6\",\"gridcolor\":\"white\",\"linecolor\":\"white\",\"showbackground\":true,\"ticks\":\"\",\"zerolinecolor\":\"white\",\"gridwidth\":2},\"yaxis\":{\"backgroundcolor\":\"#E5ECF6\",\"gridcolor\":\"white\",\"linecolor\":\"white\",\"showbackground\":true,\"ticks\":\"\",\"zerolinecolor\":\"white\",\"gridwidth\":2},\"zaxis\":{\"backgroundcolor\":\"#E5ECF6\",\"gridcolor\":\"white\",\"linecolor\":\"white\",\"showbackground\":true,\"ticks\":\"\",\"zerolinecolor\":\"white\",\"gridwidth\":2}},\"shapedefaults\":{\"line\":{\"color\":\"#2a3f5f\"}},\"annotationdefaults\":{\"arrowcolor\":\"#2a3f5f\",\"arrowhead\":0,\"arrowwidth\":1},\"geo\":{\"bgcolor\":\"white\",\"landcolor\":\"#E5ECF6\",\"subunitcolor\":\"white\",\"showland\":true,\"showlakes\":true,\"lakecolor\":\"white\"},\"title\":{\"x\":0.05},\"mapbox\":{\"style\":\"light\"}}},\"xaxis\":{\"anchor\":\"y\",\"domain\":[0.0,1.0],\"title\":{\"text\":\"Pct Change in Price\"}},\"yaxis\":{\"anchor\":\"x\",\"domain\":[0.0,1.0],\"title\":{\"text\":\"Impermanent Loss\"}},\"legend\":{\"tracegroupgap\":0},\"title\":{\"text\":\"Double Token Impermanent Loss with T0 A, B price = 100\"},\"height\":600},                        {\"responsive\": true}                    ).then(function(){\n",
       "                            \n",
       "var gd = document.getElementById('c8c86df6-9a6c-44ba-8efc-b58011d1bd20');\n",
       "var x = new MutationObserver(function (mutations, observer) {{\n",
       "        var display = window.getComputedStyle(gd).display;\n",
       "        if (!display || display === 'none') {{\n",
       "            console.log([gd, 'removed!']);\n",
       "            Plotly.purge(gd);\n",
       "            observer.disconnect();\n",
       "        }}\n",
       "}});\n",
       "\n",
       "// Listen for the removal of the full notebook cells\n",
       "var notebookContainer = gd.closest('#notebook-container');\n",
       "if (notebookContainer) {{\n",
       "    x.observe(notebookContainer, {childList: true});\n",
       "}}\n",
       "\n",
       "// Listen for the clearing of the current output cell\n",
       "var outputEl = gd.closest('.output');\n",
       "if (outputEl) {{\n",
       "    x.observe(outputEl, {childList: true});\n",
       "}}\n",
       "\n",
       "                        })                };                });            </script>        </div>"
      ]
     },
     "metadata": {},
     "output_type": "display_data"
    }
   ],
   "source": [
    "def impermanentLossDouble(a_units_t0, b_units_t0, a_price_t0, b_price_t0, price_pct_change):\n",
    "    # constant product\n",
    "    invariant = a_units_t0 * b_units_t0    \n",
    "    # T1 price\n",
    "    a_price_t1 = a_price_t0 * (1-price_pct_change)\n",
    "    b_price_t1 = b_price_t0 * (1+price_pct_change)\n",
    "    # see appendix/table for derivation\n",
    "    a_units_t1 = np.sqrt(invariant/(a_price_t1/b_price_t1))\n",
    "    b_units_t1 = np.sqrt(invariant/(b_price_t1/a_price_t1))\n",
    "    # portfolio value at t0\n",
    "    port_pool_t0 = portValue(a_units_t0, b_units_t0, a_price_t0, b_price_t0)\n",
    "    port_hold_t0 = port_pool_t0\n",
    "    # portfolio value at t1\n",
    "    port_pool_t1 = portValue(a_units_t1, b_units_t1, a_price_t1, b_price_t1)\n",
    "    port_hold_t1 = portValue(a_units_t0, b_units_t0, a_price_t1, b_price_t1)\n",
    "    # returns\n",
    "    port_pool_ret = port_pool_t1/port_pool_t0 - 1\n",
    "    port_hold_ret = port_hold_t1/port_hold_t0 - 1\n",
    "    # impermanent loss\n",
    "    il = port_pool_t1/port_hold_t1 - 1\n",
    "    return il\n",
    "\n",
    "il_list_double = []\n",
    "for price_pct_change in (np.arange(-0.75,0.76,0.01)[::-1]):\n",
    "    il_list_double.append(\n",
    "        impermanentLossDouble(\n",
    "            0.5, #a_units_t0 \n",
    "            0.5, #b_units_t0 \n",
    "            100, #a_price_t0 \n",
    "            100, #b_price_t0 \n",
    "            price_pct_change\n",
    "        )\n",
    "    )\n",
    "\n",
    "fig = px.scatter(\n",
    "    x=(np.arange(-0.75,0.76,0.01)[::-1]), \n",
    "    y=il_list_double,\n",
    "    title=f'Double Token Impermanent Loss with T0 A, B price = 100',\n",
    "    labels={ \n",
    "        \"x\": \"Pct Change in Price\",  \n",
    "        \"y\": \"Impermanent Loss\"\n",
    "    },\n",
    "    # width=1400, \n",
    "    height=600,\n",
    ")\n",
    "fig.show()"
   ]
  },
  {
   "cell_type": "markdown",
   "id": "9d5991e7-5f6b-46ea-ba5d-18b324de2f0f",
   "metadata": {},
   "source": [
    "With +/- 25% change for price for Token A and B, the IL is roughly -3.2%. At +/- 75% change, the IL is roughly -34%.\n",
    "\n",
    "The greater the divergence of price to CEX and between tokens, the greater the IL."
   ]
  },
  {
   "cell_type": "markdown",
   "id": "c7439882-5b4b-4896-a9e2-029cb537f6f0",
   "metadata": {},
   "source": [
    "| +/- 25% price change   | A                                                       | B                                                   |\n",
    "|------------------------|---------------------------------------------------------|-----------------------------------------------------|\n",
    "| **t0**                 |                                                         |                                                     |\n",
    "| units                  | 0.5                                                     | 0.5                                                 |\n",
    "| invariant              | A units * B units = 0.25                                | A units * B units = 0.25                            |\n",
    "| ratio                  | B units / A units = 1                                   | A units / B units = 1                               |\n",
    "| CEX price              | 100                                                     | 100                                                 |\n",
    "| DEX price              | A ratio * B CEX price = 100                             | B ratio * A CEX price = 1                           |\n",
    "| value actual           | A units * A CEX price = 50                              | B units * B CEX price = 50                          |\n",
    "| value offer            | A units * A DEX price = 50                              | B units * B DEX price = 50                          |\n",
    "| **t1**                 |                                                         |                                                     |\n",
    "| CEX price              | 75 (-25%)                                               | 125 (+25%)                                          |\n",
    "| DEX arb price          | 75 = A ratio * 125                                      | 125 = B ratio * 75                                  |\n",
    "| ratio                  | 75/125 = B units / A units                              | 125/75 = A units / B units                          |\n",
    "| invariant              | 0.25 = (75/125) * A units^2                             | 0.25 = (125/75) * B units^2                         |\n",
    "| units                  | A units = sqrt(0.25/(75/125)) = 0.65                    | B units = sqrt(1/(1/400)) = 0.39                    |\n",
    "| value hold             | A units (t0) * A CEX price (t1) = 0.5*75 = 37.5         | B units (t0) * B CEX price (t1) = 0.5*125 = 62.5    |\n",
    "| value pool             | A units (t1) * A CEX price (t1) = 0.65*75 = 48.375      | B units (t1) * B CEX price (t1) = 0.39*125 = 48.375|\n",
    "\n",
    "| Impermanent Loss       |                                                         |\n",
    "| ---------------------- | ------------------------------------------------------  |\n",
    "| Hold Portfolio         | A value hold + B value hold = 37.5 + 62.5 = 100         |\n",
    "| LP Portfolio           | A value pool + B value pool = 48.375 + 48.375 = 96.75     |\n",
    "| Loss                   | LP Portfolio / Hold Portfolio - 1 = 96.82/100-1 = **-3.2%** |"
   ]
  },
  {
   "cell_type": "markdown",
   "id": "f8caca98-b262-43d3-91f1-c35ae14c3864",
   "metadata": {},
   "source": [
    "## Discussion\n",
    "\n",
    "Impermanent loss occurs at any time when price changes in either direction, even when delta percent change of both tokens sum to 0. The extent of IL varies, suggesting different approaches to risk management and hedging depending on pool parameters. \n",
    "\n",
    "\n",
    "For example, IL increases more sharply when single token price decreases than when it increases, suggesting more protection against downside risk of token/stablecoin pools. For token/token pools, bidirecitonal perp hedging is warranted, with exponentially stronger positions against higher price changes.\n",
    "\n",
    "#### Hedges against IL\n",
    "1. **Trading fees:** For sufficiently small price changes, IL can be lower than trading fees. This is a natural hedge against IL built into the protocol's tokenomics / revenue sharing. Further, some protocols like Uniswap V3 allows LPs to restrict their liquidity to within price change thresholds, making it easier to manage (although requiring more active monitoring.)\n",
    "2. **(Boosted) rewards:** For situations where IL can be often higher than trading fees e.g. especially volatile tokens, some protocols offer boosted rewards through a second-order liquidity incentive not for underlying tokens but for the LP tokens. For example, Curve LPs can lock their LP tokens in exchange for veCRV tokens which can be used to vote for pools to receive boosted rewards. The longer the lock-in for LP tokens, the greater the amount of veCRV received. This \"flywheel\" effect depends on high inflation and higher demand, which has its own risks associated.\n",
    "3. **Perpetuals:** Similiar in TradFi, volatility can be traded with perpetuals. For example, for token/stablecoin pools, emphasize stronger position on downside (short perps) given greater IL than upside. "
   ]
  },
  {
   "cell_type": "markdown",
   "id": "d955ac00-803c-479b-8077-fabc8a562caa",
   "metadata": {},
   "source": [
    "## To Do\n",
    "\n",
    "- introduce more parameters to model (safe math, fees)\n",
    "- historical IL for protocols/pools --> curious reln between IL, volatility, liquidity, revenue\n",
    "- % IL covered by trading fees, boosted rewards per protocol/pool\n",
    "- backtest perp strategy (hunch: buy cheap puts, sell calls)"
   ]
  },
  {
   "cell_type": "markdown",
   "id": "dfbd2346-f36f-48ef-a983-d1eb5aaf84c2",
   "metadata": {
    "jp-MarkdownHeadingCollapsed": true,
    "tags": []
   },
   "source": [
    "## Appendix"
   ]
  },
  {
   "cell_type": "markdown",
   "id": "a9b8e0ee-472d-4a4e-b5d2-6e1938d3940b",
   "metadata": {
    "tags": []
   },
   "source": [
    "### Terminology \n"
   ]
  },
  {
   "cell_type": "markdown",
   "id": "09438baf-be2c-4cd2-94cd-e64a9044551a",
   "metadata": {
    "jp-MarkdownHeadingCollapsed": true,
    "tags": []
   },
   "source": [
    "for A/B pool on Ethereum:  \n",
    "A units = amount of token A in wei in pool  \n",
    "B units = amount of token B in wei in pool  \n",
    "invariant = A units * B units (constant product)  \n",
    "\n",
    "A ratio = B units / A units  \n",
    "B ratio = A units / B units  \n",
    "\n",
    "A price CEX = price of A on a CEX  \n",
    "B price CEX = price of B on a CEX  \n",
    "\n",
    "A price DEX = A ratio * B price CEX  \n",
    "B price DEX = B ratio * A price CEX  \n",
    "\n",
    "A value = A units * A price  \n",
    "B value = B units * B price  \n",
    "total_liquidity = A value + B value  \n",
    "\n",
    "IL/Arbitrage when price CEX =/= price DEX.  "
   ]
  },
  {
   "cell_type": "markdown",
   "id": "57a6fbd7-07bd-4eee-b585-5b50d1745f23",
   "metadata": {
    "tags": []
   },
   "source": [
    "### Single Token IL (token/stablecoin pair)"
   ]
  },
  {
   "cell_type": "markdown",
   "id": "d4a0e32d-b01d-4cb7-ba09-1a7025fde0eb",
   "metadata": {},
   "source": [
    "A = Token  \n",
    "B = Stablecoin (denominated)  \n",
    "\n",
    "t0:  \n",
    "A units (t0) = 0.1  \n",
    "B units (t0) = 10  \n",
    "invariant (t0) = A units (t0) * B units (t0) = 0.1*10 = 1  \n",
    "\n",
    "A ratio (t0) = B units (t0) / A units (t0) = 10/0.1 = 100  \n",
    "B ratio (t0) = A units (t0) / B units (t0) = 0.1/10 = 0.01  \n",
    "\n",
    "A price CEX (t0) = 100  \n",
    "B price CEX (t0) = 1  \n",
    "\n",
    "A price DEX (t0) = A ratio (t0) * B price CEX (t0) = 100*1 = 100  \n",
    "B price DEX (t0) = B ratio (t0) * A price CEX (t0) = 0.01*100 = 1  \n",
    "\n",
    "t1:  \n",
    "A price CEX (t1) = 400 (+300)  \n",
    "B price CEX (t1) = 1 (no change)  \n",
    "\n",
    "A value actual (t1 pre-arb) = A units (t0) * A price CEX (t1) = 0.1*400 = 40  \n",
    "B value actual (t1 pre-arb) = B units (t0) * B price CEX (t1) = 10*1 = 10  \n",
    "\n",
    "A value actual (t1 pre-arb) > A value offered (t0) --> arbitrage  \n",
    "\n",
    "*Solve for A units (t1) and B units (t1)*  \n",
    "\n",
    "A ratio (t1) * B price CEX (t1) = A price CEX (t1)  \n",
    "(B units (t1) / A units (t1)) * B price CEX (t1) = A price CEX (t1)   \n",
    "(B units (t1) / A units (t1)) * 1 = 400  \n",
    "[1] B units (t1) = 400 * A units (t1)  \n",
    "\n",
    "invariant (t1) = invariant (t0) = A units (t1) * B units (t1)  \n",
    "[2] 1 = A units (t1) * B units (t1)  \n",
    "\n",
    "Sub [1] into [2]:  \n",
    "1 = A units (t1) * (400 * A units (t1))  \n",
    "A units (t1) = sqrt(1/400) = 0.05  \n",
    "B units (t1) = 1 / 0.05 = 20  \n",
    "\n",
    "portfolio - post-arbitrage DEX:  \n",
    "A value pool (t1) = A units (t1) * A price CEX (t1) = 0.05*400 = 20  \n",
    "B value pool (t1) = B units (t1) * B price CEX (t1) = 20*1 = 20  \n",
    "total_liquidity = A value (t1) + B value (t1) = 20+20 = 40  \n",
    "\n",
    "\n",
    "holding in CEX:  \n",
    "A value hold (t1) = A units (t0) * A price (t1) = 0.1*40 = 40  \n",
    "B value hold (t1) = B units (t0) * B price (t1) = 10*1 = 10  \n",
    "total_liquidity = A value (t1) + B value (t1) = 50  \n",
    "\n",
    "impermanence loss = (portfolio/holding)-1 = (40/50)-1 = -20%  "
   ]
  },
  {
   "cell_type": "markdown",
   "id": "e9bfddb2-6b76-40ba-899a-5cb90ae34171",
   "metadata": {
    "tags": []
   },
   "source": [
    "### Double Token IL (token/token pair)"
   ]
  },
  {
   "cell_type": "markdown",
   "id": "79e8329e-e77f-4579-b5aa-c8bab1520bdc",
   "metadata": {
    "jp-MarkdownHeadingCollapsed": true,
    "tags": []
   },
   "source": [
    "A = TokenA\n",
    "B = TokenB\n",
    "\n",
    "t0:\n",
    "A units (t0) = 0.5  \n",
    "B units (t0) = 0.5  \n",
    "A ratio (t0) = B units (t0) / A units (t0) = 0.5/0.5 = 1  \n",
    "B ratio (t0) = A units (t0) / B units (t0) = 0.5/0.5 = 1  \n",
    "A price (t0) = 100  \n",
    "B price (t0) = 100  \n",
    "A value (t0) = A ratio (t0) * B price (t0)  \n",
    "B value (t0) = B ratio (t0) * A price (t0)  \n",
    "total_liquidity (t0) = A value (t0) + B value (t0) = 100  \n",
    "invariant (t0) = A units (t0) * B units (t0) = 0.5*0.5 = 0.25  \n",
    "\n",
    "t1:\n",
    "A price (t1) = 75\n",
    "B price (t1) = 125\n",
    "\n",
    "*Solve for A units (t1) and B units (t1)*\n",
    "\n",
    "A ratio (t1) * B price (t1) = A price (t1)  \n",
    "(B units (t1) / A units (t1)) * B price (t1) = A price (t1)   \n",
    "(B units (t1) / A units (t1)) * 125 = 75  \n",
    "[1] B units (t1) = (75/125) * A units (t1)  \n",
    "\n",
    "invariant (t1) = invariant (t0) = A units (t1) * B units (t1)  \n",
    "[2] 0.25 = A units (t1) * B units (t1)  \n",
    "\n",
    "Sub [1] into [2]:  \n",
    "0.25 = A units (t1) * ((75/125) * A units (t1))  \n",
    "A units (t1) = sqrt(1/(75/125)) = 0.645  \n",
    "B units (t1) = 0.25 / 0.645 = 0.387  \n",
    "\n",
    "portfolio post-arbitrage DEX:  \n",
    "A value pool (t1) = A units (t1) * A price CEX (t1) = 0.645*75 = 48.375.   \n",
    "B value pool (t1) = B units (t1) * B price CEX (t1) = 0.387*125 = 48.375  \n",
    "total_liquidity = A value (t1) + B value (t1) = 20+20 = 96.75  \n",
    "\n",
    "holding in CEX:  \n",
    "A value hold (t1) = A units (t0) * A price (t1) = 0.5*75 = 37.5    \n",
    "B value hold (t1) = B units (t0) * B price (t1) = 0.5*125 = 62.5   \n",
    "total_liquidity = A value (t1) + B value (t1) = 100  \n",
    "\n",
    "impermanence loss = (portfolio/holding)-1 = (96.75/100)-1 = -3.25% "
   ]
  }
 ],
 "metadata": {
  "kernelspec": {
   "display_name": "Python 3 (ipykernel)",
   "language": "python",
   "name": "python3"
  },
  "language_info": {
   "codemirror_mode": {
    "name": "ipython",
    "version": 3
   },
   "file_extension": ".py",
   "mimetype": "text/x-python",
   "name": "python",
   "nbconvert_exporter": "python",
   "pygments_lexer": "ipython3",
   "version": "3.11.0"
  }
 },
 "nbformat": 4,
 "nbformat_minor": 5
}
