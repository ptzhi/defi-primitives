{
 "cells": [
  {
   "cell_type": "code",
   "execution_count": 1,
   "id": "5cc18cd0-f7f3-410a-bd69-c468835968d9",
   "metadata": {
    "tags": []
   },
   "outputs": [],
   "source": [
    "import numpy as np\n",
    "import pandas as pd\n",
    "import plotly.express as px\n",
    "from plotly.subplots import make_subplots\n",
    "import plotly.graph_objects as go\n",
    "import plotly.io as pio\n",
    "pio.renderers.default = \"plotly_mimetype+notebook_connected\""
   ]
  },
  {
   "cell_type": "code",
   "execution_count": 2,
   "id": "f6e6e137-65b1-4b2a-969d-64adc8d167e4",
   "metadata": {
    "tags": []
   },
   "outputs": [],
   "source": [
    "import duckdb"
   ]
  },
  {
   "cell_type": "code",
   "execution_count": 3,
   "id": "4629097b-a5f2-44b2-8092-60801014b1aa",
   "metadata": {
    "tags": []
   },
   "outputs": [],
   "source": [
    "%load_ext sql"
   ]
  },
  {
   "cell_type": "code",
   "execution_count": 4,
   "id": "fa49e8fd-a796-44ff-90e7-3e5a7adcca86",
   "metadata": {
    "tags": []
   },
   "outputs": [],
   "source": [
    "%config SqlMagic.autopandas = True\n",
    "%config SqlMagic.feedback = False\n",
    "%config SqlMagic.displaycon = False"
   ]
  },
  {
   "cell_type": "code",
   "execution_count": 6,
   "id": "c2019e92-39ff-4d4f-a66c-37135db8ce2d",
   "metadata": {
    "tags": []
   },
   "outputs": [],
   "source": [
    "%sql duckdb:///:memory:"
   ]
  },
  {
   "cell_type": "code",
   "execution_count": 7,
   "id": "2eae8f67-281a-4d51-aa3f-edd0b195dd1f",
   "metadata": {
    "tags": []
   },
   "outputs": [
    {
     "data": {
      "text/html": [
       "<div>\n",
       "<style scoped>\n",
       "    .dataframe tbody tr th:only-of-type {\n",
       "        vertical-align: middle;\n",
       "    }\n",
       "\n",
       "    .dataframe tbody tr th {\n",
       "        vertical-align: top;\n",
       "    }\n",
       "\n",
       "    .dataframe thead th {\n",
       "        text-align: right;\n",
       "    }\n",
       "</style>\n",
       "<table border=\"1\" class=\"dataframe\">\n",
       "  <thead>\n",
       "    <tr style=\"text-align: right;\">\n",
       "      <th></th>\n",
       "    </tr>\n",
       "  </thead>\n",
       "  <tbody>\n",
       "  </tbody>\n",
       "</table>\n",
       "</div>"
      ],
      "text/plain": [
       "Empty DataFrame\n",
       "Columns: []\n",
       "Index: []"
      ]
     },
     "execution_count": 7,
     "metadata": {},
     "output_type": "execute_result"
    }
   ],
   "source": [
    "%%sql\n",
    "CREATE TABLE weather (\n",
    "    city           VARCHAR,\n",
    "    temp_lo        INTEGER, -- minimum temperature on a day\n",
    "    temp_hi        INTEGER, -- maximum temperature on a day\n",
    "    prcp           REAL,\n",
    "    date           DATE\n",
    ");"
   ]
  },
  {
   "cell_type": "code",
   "execution_count": 9,
   "id": "9818fb0c-3cf2-4b23-8e89-84ad3fddbe30",
   "metadata": {
    "tags": []
   },
   "outputs": [
    {
     "data": {
      "text/html": [
       "<div>\n",
       "<style scoped>\n",
       "    .dataframe tbody tr th:only-of-type {\n",
       "        vertical-align: middle;\n",
       "    }\n",
       "\n",
       "    .dataframe tbody tr th {\n",
       "        vertical-align: top;\n",
       "    }\n",
       "\n",
       "    .dataframe thead th {\n",
       "        text-align: right;\n",
       "    }\n",
       "</style>\n",
       "<table border=\"1\" class=\"dataframe\">\n",
       "  <thead>\n",
       "    <tr style=\"text-align: right;\">\n",
       "      <th></th>\n",
       "      <th>Count</th>\n",
       "    </tr>\n",
       "  </thead>\n",
       "  <tbody>\n",
       "    <tr>\n",
       "      <th>0</th>\n",
       "      <td>1</td>\n",
       "    </tr>\n",
       "  </tbody>\n",
       "</table>\n",
       "</div>"
      ],
      "text/plain": [
       "   Count\n",
       "0      1"
      ]
     },
     "execution_count": 9,
     "metadata": {},
     "output_type": "execute_result"
    }
   ],
   "source": [
    "%%sql\n",
    "INSERT INTO weather VALUES ('San Francisco', 46, 50, 0.25, '1994-11-27');"
   ]
  },
  {
   "cell_type": "code",
   "execution_count": 11,
   "id": "ca2ab498-b550-4e32-b5fc-f542ba1dc2dd",
   "metadata": {
    "tags": []
   },
   "outputs": [
    {
     "data": {
      "text/html": [
       "<div>\n",
       "<style scoped>\n",
       "    .dataframe tbody tr th:only-of-type {\n",
       "        vertical-align: middle;\n",
       "    }\n",
       "\n",
       "    .dataframe tbody tr th {\n",
       "        vertical-align: top;\n",
       "    }\n",
       "\n",
       "    .dataframe thead th {\n",
       "        text-align: right;\n",
       "    }\n",
       "</style>\n",
       "<table border=\"1\" class=\"dataframe\">\n",
       "  <thead>\n",
       "    <tr style=\"text-align: right;\">\n",
       "      <th></th>\n",
       "      <th>city</th>\n",
       "      <th>temp_lo</th>\n",
       "      <th>temp_hi</th>\n",
       "      <th>prcp</th>\n",
       "      <th>date</th>\n",
       "    </tr>\n",
       "  </thead>\n",
       "  <tbody>\n",
       "    <tr>\n",
       "      <th>0</th>\n",
       "      <td>San Francisco</td>\n",
       "      <td>46</td>\n",
       "      <td>50</td>\n",
       "      <td>0.25</td>\n",
       "      <td>1994-11-27</td>\n",
       "    </tr>\n",
       "  </tbody>\n",
       "</table>\n",
       "</div>"
      ],
      "text/plain": [
       "            city  temp_lo  temp_hi  prcp        date\n",
       "0  San Francisco       46       50  0.25  1994-11-27"
      ]
     },
     "execution_count": 11,
     "metadata": {},
     "output_type": "execute_result"
    }
   ],
   "source": [
    "%%sql\n",
    "SELECT *\n",
    "FROM weather"
   ]
  },
  {
   "cell_type": "code",
   "execution_count": 2,
   "id": "996dc1da-a5a4-411a-8a5b-cb3a89a8a544",
   "metadata": {
    "tags": []
   },
   "outputs": [],
   "source": [
    "uniswap_events = pd.read_pickle('data/kaggle/uniswap_events.pickle')"
   ]
  },
  {
   "cell_type": "code",
   "execution_count": 3,
   "id": "ea125a7f-d58c-4d7d-88c4-d7ee6509c9ff",
   "metadata": {
    "tags": []
   },
   "outputs": [
    {
     "data": {
      "text/plain": [
       "pandas.core.frame.DataFrame"
      ]
     },
     "execution_count": 3,
     "metadata": {},
     "output_type": "execute_result"
    }
   ],
   "source": [
    "type(uniswap_events)"
   ]
  },
  {
   "cell_type": "code",
   "execution_count": 4,
   "id": "1fe58495-b256-443a-8533-e6a89107f200",
   "metadata": {
    "tags": []
   },
   "outputs": [],
   "source": [
    "import duckdb"
   ]
  },
  {
   "cell_type": "code",
   "execution_count": 5,
   "id": "c5bbaf19-7c54-4bc1-afd2-27c55cb6ea37",
   "metadata": {
    "tags": []
   },
   "outputs": [
    {
     "data": {
      "text/plain": [
       "┌──────────────────────┬───────────────────┬──────────────────────┬───┬──────────────────────┬──────────────────────┐\n",
       "│   transactionHash    │ transaction_index │  transaction_sender  │ … │      UNI_supply      │      invariant       │\n",
       "│       varchar        │       int64       │       varchar        │   │        double        │        double        │\n",
       "├──────────────────────┼───────────────────┼──────────────────────┼───┼──────────────────────┼──────────────────────┤\n",
       "│ 0xbd773ccc33c83137…  │               150 │ 0xf369af914dbed0ad…  │ … │                  0.0 │             1.77e+41 │\n",
       "│ 0xbd773ccc33c83137…  │               150 │ 0xf369af914dbed0ad…  │ … │                3e+19 │             1.77e+41 │\n",
       "│ 0xd53f01fc0cabbf40…  │                97 │ 0xf369af914dbed0ad…  │ … │                3e+19 │  1.770004496201091e… │\n",
       "│ 0x53172898dbe437c7…  │                53 │ 0xf369af914dbed0ad…  │ … │                3e+19 │  1.7700062940744217… │\n",
       "│ 0x6cef57fd37d7a260…  │                24 │ 0x11e4857bb9993a50…  │ … │                3e+19 │  1.7700080655849936… │\n",
       "│ 0x13d958222cbec3f6…  │               281 │ 0x11e4857bb9993a50…  │ … │                3e+19 │  1.7700098365065292… │\n",
       "│ 0x51f662378a5e158b…  │               121 │ 0x4defa30195094963…  │ … │                3e+19 │  1.7700116068394213… │\n",
       "│ 0x31f62df00bd7be03…  │                51 │ 0x4defa30195094963…  │ … │                3e+19 │  1.771151577853911e… │\n",
       "│ 0x31f62df00bd7be03…  │                51 │ 0x4defa30195094963…  │ … │  3.000965915297152e… │  1.771151577853911e… │\n",
       "│ 0x865a3da7b390858c…  │                 7 │ 0x11e4857bb9993a50…  │ … │  3.000965915297152e… │  1.7711572974163237… │\n",
       "├──────────────────────┴───────────────────┴──────────────────────┴───┴──────────────────────┴──────────────────────┤\n",
       "│ 10 rows                                                                                      20 columns (5 shown) │\n",
       "└───────────────────────────────────────────────────────────────────────────────────────────────────────────────────┘"
      ]
     },
     "execution_count": 5,
     "metadata": {},
     "output_type": "execute_result"
    }
   ],
   "source": [
    "duckdb.query(\"SELECT * FROM uniswap_events LIMIT 10\")"
   ]
  },
  {
   "cell_type": "code",
   "execution_count": null,
   "id": "1e2f6d61-70e9-41d5-8f59-f67f49d21243",
   "metadata": {},
   "outputs": [],
   "source": []
  }
 ],
 "metadata": {
  "kernelspec": {
   "display_name": "Python 3 (ipykernel)",
   "language": "python",
   "name": "python3"
  },
  "language_info": {
   "codemirror_mode": {
    "name": "ipython",
    "version": 3
   },
   "file_extension": ".py",
   "mimetype": "text/x-python",
   "name": "python",
   "nbconvert_exporter": "python",
   "pygments_lexer": "ipython3",
   "version": "3.11.0"
  }
 },
 "nbformat": 4,
 "nbformat_minor": 5
}
